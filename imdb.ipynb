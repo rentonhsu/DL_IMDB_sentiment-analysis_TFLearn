{
 "cells": [
  {
   "cell_type": "markdown",
   "metadata": {
    "deletable": true,
    "editable": true
   },
   "source": [
    "# Sentiment analysis with TFLearn\n",
    "Sentiment analysis using TFLearn / NLTK"
   ]
  },
  {
   "cell_type": "markdown",
   "metadata": {
    "deletable": true,
    "editable": true
   },
   "source": [
    "## Dependencies"
   ]
  },
  {
   "cell_type": "code",
   "execution_count": 7,
   "metadata": {
    "collapsed": false,
    "deletable": true,
    "editable": true
   },
   "outputs": [],
   "source": [
    "import pandas as pd\n",
    "import numpy as np\n",
    "import tensorflow as tf\n",
    "import tflearn\n",
    "from tflearn.data_utils import to_categorical"
   ]
  },
  {
   "cell_type": "code",
   "execution_count": 8,
   "metadata": {
    "collapsed": true
   },
   "outputs": [],
   "source": [
    "reviews = pd.read_csv('reviews.txt', header=None)\n",
    "labels = pd.read_csv('labels.txt', header=None)"
   ]
  },
  {
   "cell_type": "markdown",
   "metadata": {
    "deletable": true,
    "editable": true
   },
   "source": [
    "### Counting word frequency"
   ]
  },
  {
   "cell_type": "code",
   "execution_count": 9,
   "metadata": {
    "collapsed": false,
    "deletable": true,
    "editable": true
   },
   "outputs": [
    {
     "name": "stdout",
     "output_type": "stream",
     "text": [
      "Total words in data set:  4858\n"
     ]
    }
   ],
   "source": [
    "import nltk\n",
    "from collections import Counter\n",
    "from nltk.tokenize import word_tokenize \n",
    "from nltk.corpus import stopwords\n",
    "import string\n",
    "\n",
    "stemmer = nltk.PorterStemmer() #convert words to their word stem\n",
    "punctuations = list(string.punctuation) #remove punctuations\n",
    "stopwords_col = stopwords.words('english') #remove meaningless wrods\n",
    "\n",
    "total_counts = Counter()#words counter\n",
    "for text in reviews[0]:\n",
    "        for word in [word for word in word_tokenize(text) if word not in stopwords_col and word not in punctuations]:\n",
    "            try:\n",
    "                raw = stemmer.stem(word)\n",
    "            except:\n",
    "                raw = word\n",
    "        total_counts[raw] += 1\n",
    "print(\"Total words in data set: \", len(total_counts))"
   ]
  },
  {
   "cell_type": "markdown",
   "metadata": {
    "deletable": true,
    "editable": true
   },
   "source": [
    "## Bag of words"
   ]
  },
  {
   "cell_type": "code",
   "execution_count": 10,
   "metadata": {
    "collapsed": false,
    "deletable": true,
    "editable": true
   },
   "outputs": [
    {
     "name": "stdout",
     "output_type": "stream",
     "text": [
      "['br', 'movi', 'film', 'time', 'one', 'watch', 'see', 'recommend', 'enjoy', 'rate', 'star', 'like', 'disappoint', 'end', 'good', 'better', 'give', 'life', 'miss', 'fan', 'bad', 'stori', 'entertain', 'well', 'seen', 'much', 'way', 'work', 'ever', 'instead', 'year', 'avoid', 'show', 'love', 'back', 'cost', 'day', 'made', 'classic', 'money', 'fun', 'dvd', 'view', 'best', 'look', 'think', 'warn', 'deserv', 'check', 'get', 'know', 'though', 'cinema', 'today', 'els', 'away', 'laugh', 'crap', 'thing', 'funni', 'grade', 'audienc', 'come', 'go', 'right', 'say', 'make', 'world', 'minut', 'comedi', 'act', 'great', 'perform', 'score', 'peopl', 'bore', 'scene', 'pictur', 'thank', 'book', 'hour', 'genr', 'either', 'anyon', 'point', 'happen', 'flick', 'night', 'interest', 'screen', 'seri', 'ten', 'experi', 'sequel', 'com', 'us', 'rent', 'kid', 'review', 'version', 'chanc', 'opinion', 'stuff', 'effort', 'b', 'futur', 'age', 'worth', 'aw', 'masterpiec', 'releas', 'wrong', 'gener', 'director', 'live', 'friend', 'done', 'eye', 'music', 'episod', 'actor', 'part', 'buy', 'famili', 'wors', 'trash', 'f', 'charact', 'wast', 'role', 'list', 'pleas', 'video', 'place', 'possibl', 'heart', 'excel', 'mess', 'find', 'realli', 'gem', 'product', 'bother', 'career', 'soon', 'anyway', 'collect', 'garbag', 'tv', 'beauti', 'plot', 'alon', 'shame', 'origin', 'later', 'histori', 'skip', 'c', 'thumb', 'vote', 'tri', 'even', 'suck', 'job', 'want', 'help', 'around', 'wonder', 'everyon', 'cox', 'sure', 'okay', 'gave', 'script', 'name', 'anyth', 'pass', 'harp', 'talent', 'feel', 'art', 'forev', 'season', 'other', 'care', 'least', 'man', 'mean', 'perfect', 'differ', 'enough', 'someth', 'mind', 'game', 'plagu', 'matter', 'qualiti', 'fiend', 'drama', 'joke', 'regret', 'two', 'moment', 'sorri', 'noth', 'happi', 'theater', 'televis', 'believ', 'reason', 'serious', 'action', 'yet', 'first', 'sleep', 'play', 'run', 'humor', 'terribl', 'talk', 'valu', 'sad', 'half', 'favorit', 'exist', 'viewer', 'effect', 'copi', 'merk', 'lover', 'centuri', 'hand', 'die', 'forget', 'togeth', 'imagin', 'set', 'read', 'titl', 'cast', 'horribl', 'lame', 'children', 'hollywood', 'guy', 'sens', 'poor', 'hate', 'ride', 'home', 'level', 'horror', 'surpris', 'song', 'close', 'soul', 'rubbish', 'thriller', 'need', 'hous', 'date', 'line', 'war', 'attent', 'face', 'true', 'involv', 'dead', 'old', 'person', 'child', 'men', 'sit', 'bit', 'truth', 'write', 'anim', 'winner', 'offer', 'kill', 'channel', 'long', 'would', 'less', 'forgotten', 'idea', 'real', 'situat', 'amaz', 'impress', 'etc', 'glad', 'lot', 'junk', 'rememb', 'direct', 'budget', 'dream', 'still', 'bravo', 'hope', 'word', 'cartoon', 'finish', 'let', 'could', 'zero', 'rental', 'piec', 'expect', 'credit', 'pain', 'next', 'death', 'present', 'four', 'top', 'women', 'hell', 'imdb', 'watchabl', 'use', 'anymor', 'style', 'mayb', 'break', 'win', 'throughout', 'start', 'turkey', 'geniu', 'tast', 'soundtrack', 'materi', 'move', 'littl', 'inspir', 'inde', 'america', 'violenc', 'follow', 'written', 'overal', 'mistak', 'alway', 'p', 'shot', 'short', 'car', 'hilari', 'polarisdib', 'avail', 'lol', 'memori', 'past', 'cheer', 'cours', 'exampl', 'head', 'english', 'satisfi', 'form', 'judg', 'air', 'mysteri', 'merit', 'treat', 'human', 'question', 'comment', 'justic', 'never', 'catch', 'aliv', 'mark', 'countri', 'choic', 'cut', 'scale', 'worthwhil', 'elsewher', 'novel', 'adapt', 'tell', 'turn', 'touch', 'ask', 'reward', 'success', 'societi', 'power', 'bomb', 'risk', 'mood', 'magic', 'note', 'award', 'late', 'crew', 'languag', 'figur', 'appear', 'v', 'doubt', 'nice', 'begin', 'problem', 'dud', 'said', 'peac', 'sex', 'documentari', 'wow', 'respect', 'appreci', 'understand', 'produc', 'blood', 'buff', 'order', 'second', 'space', 'ago', 'case', 'afraid', 'chang', 'pathet', 'western', 'worst', 'improv', 'result', 'project', 'alik', 'lost', 'hit', 'rip', 'actress', 'featur', 'agre', 'completist', 'beyond', 'girl', 'special', 'adventur', 'listen', 'leav', 'take', 'content', 'mail', 'hurt', 'piti', 'thought', 'fantast', 'brilliant', 'last', 'failur', 'standard', 'accent', 'ii', 'far', 'must', 'memor', 'god', 'decad', 'fact', 'brain', 'tale', 'disast', 'earth', 'everyth', 'side', 'also', 'week', 'guess', 'ye', 'deal', 'promis', 'roll', 'compar', 'charm', 'school', 'store', 'conclus', 'confus', 'averag', 'edit', 'cent', 'none', 'cabl', 'portray', 'awesom', 'r', 'subject', 'blow', 'sister', 'x', 'annoy', 'ridicul', 'bye', 'trilog', 'paid', 'saw', 'intend', 'king', 'learn', 'kind', 'quickli', 'engag', 'stop', 'chase', 'fire', 'dumb', 'sing', 'outstand', 'ok', 'earli', 'flop', 'cinematographi', 'shine', 'smile', 'killer', 'scari', 'messag', 'without', 'stupid', 'period', 'heaven', 'dreck', 'outta', 'murder', 'remak', 'hero', 'cri', 'rock', 'disturb', 'save', 'often', 'wait', 'stage', 'alright', 'rest', 'highli', 'quit', 'mine', 'distribut', 'insult', 'lesson', 'choos', 'luck', 'alreadi', 'amus', 'moon', 'nonsens', 'except', 'citi', 'put', 'share', 'romanc', 'profan', 'element', 'treasur', 'call', 'sinc', 'replay', 'wise', 'got', 'challeng', 'univers', 'easi', 'gore', 'asham', 'creepi', 'silli', 'shock', 'delight', 'cat', 'afterward', 'manner', 'superb', 'crazi', 'notic', 'suspens', 'crime', 'ladi', 'bless', 'weird', 'stinker', 'light', 'intellig', 'filmmak', 'heard', 'concern', 'clear', 'opportun', 'boy', 'adult', 'grow', 'number', 'storytel', 'folk', 'mani', 'riot', 'scott', 'industri', 'credibl', 'planet', 'q', 'whatsoev', 'comparison', 'definit', 'hunt', 'ugh', 'scare', 'danc', 'count', 'tripe', 'probabl', 'unbeliev', 'came', 'seek', 'decis', 'ignor', 'mention', 'somewher', 'return', 'era', 'emot', 'pretenti', 'cool', 'extra', 'dare', 'blockbust', 'whatev', 'fascin', 'public', 'librari', 'fight', 'edg', 'ruin', 'funnier', 'hot', 'fall', 'relationship', 'fool', 'kick', 'hat', 'dog', 'accur', 'someon', 'field', 'repeat', 'wall', 'high', 'howev', 'mad', 'unforgett', 'creat', 'town', 'blah', 'festiv', 'busi', 'month', 'drug', 'bodi', 'receiv', 'woman', 'worthless', 'england', 'dull', 'sake', 'low', 'tragedi', 'rule', 'dialogu', 'critic', 'journey', 'room', 'guarante', 'forgiv', 'lee', 'solid', 'road', 'celluloid', 'franc', 'connect', 'fine', 'forgett', 'uk', 'small', 'excit', 'asleep', 'commun', 'min', 'unfortun', 'html', 'detail', 'given', 'fest', 'state', 'near', 'appeal', 'popular', 'wish', 'achiev', 'categori', 'highlight', 'arthur', 'known', 'camera', 'complet', 'potenti', 'tape', 'walk', 'cd', 'forward', 'trip', 'sick', 'execut', 'fiction', 'water', 'bewar', 'substanc', 'lie', 'anoth', 'lead', 'loser', 'floor', 'predict', 'popcorn', 'buck', 'spirit', 'succeed', 'purpos', 'evil', 'tortur', 'leg', 'breath', 'brother', 'realiti', 'remark', 'hear', 'continu', 'camp', 'worthi', 'twist', 'commentari', 'pace', 'fail', 'network', 'iii', 'along', 'welcom', 'cheesi', 'jone', 'artist', 'absurd', 'lower', 'reput', 'decid', 'superior', 'dread', 'track', 'k', 'parent', 'harri', 'collector', 'final', 'wrap', 'suppos', 'distract', 'gone', 'strang', 'obscur', 'afternoon', 'thrill', 'player', 'priceless', 'event', 'format', 'wit', 'ground', 'anywher', 'explain', 'melodrama', 'redempt', 'natur', 'sentiment', 'jr', 'simpl', 'seriou', 'enthusiast', 'realist', 'cover', 'mouth', 'faith', 'told', 'vomit', 'stink', 'black', 'unwatch', 'prefer', 'left', 'ya', 'noir', 'flat', 'opera', 'theatr', 'fast', 'longer', 'new', 'loud', 'embarrass', 'advanc', 'nonetheless', 'imho', 'market', 'tear', 'spoiler', 'trust', 'christma', 'young', 'hoot', 'schlock', 'peril', 'appropri', 'statu', 'laughter', 'total', 'blame', 'weak', 'suit', 'obscura', 'kane', 'yvelin', 'maker', 'middl', 'hype', 'turd', 'theme', 'uniqu', 'burn', 'dark', 'chuckl', 'africa', 'imposs', 'option', 'formula', 'keeper', 'oscar', 'cash', 'moral', 'goe', 'resum', 'altogeth', 'creep', 'refresh', 'tomorrow', 'skill', 'may', 'etern', 'express', 'affect', 'massacr', 'babi', 'doom', 'import', 'suicid', 'pick', 'that', 'addict', 'support', 'mediocr', 'circumst', 'earlier', 'satir', 'travesti', 'goer', 'sight', 'writer', 'march', 'ha', 'relat', 'news', 'frighten', 'proud', 'disney', 'favourit', 'headach', 'readi', 'big', 'kiss', 'self', 'throw', 'immedi', 'websit', 'evid', 'daughter', 'vision', 'perspect', 'match', 'stay', 'wreck', 'drivel', 'shortcom', 'gun', 'org', 'christian', 'jane', 'topic', 'fashion', 'photographi', 'abil', 'loss', 'lv', 'surviv', 'judgement', 'five', 'owe', 'escap', 'grew', 'ap', 'factor', 'bring', 'danger', 'brillianc', 'class', 'trailer', 'angel', 'yike', 'suggest', 'area', 'purchas', 'scream', 'rehab', 'otherwis', 'girlfriend', 'latter', 'went', 'mitchel', 'frost', 'lucki', 'extrem', 'locat', 'farc', 'hard', 'appal', 'prejudic', 'cultur', 'pleasur', 'deliri', 'canada', 'extraordinari', 'shelf', 'visual', 'free', 'everybodi', 'reveng', 'disgust', 'stand', 'ugli', 'grasp', 'creatur', 'bbc', 'downhil', 'xx', 'legaci', 'control', 'ring', 'complex', 'wood', 'cheap', 'deliv', 'john', 'stewart', 'angri', 'answer', 'misfir', 'print', 'file', 'necessari', 'stomach', 'caricatur', 'screenplay', 'ninja', 'sound', 'caus', 'soldier', 'barrel', 'site', 'term', 'costum', 'door', 'intens', 'destroy', 'timeless', 'prime', 'april', 'yuck', 'youth', 'treatment']\n"
     ]
    }
   ],
   "source": [
    "vocab = sorted(total_counts, key=total_counts.get, reverse=True)\n",
    "print(vocab[:1000])"
   ]
  },
  {
   "cell_type": "markdown",
   "metadata": {
    "deletable": true,
    "editable": true
   },
   "source": [
    "What's the last word in our vocabulary? We can use this to judge if 10000 is too few. If the last word is pretty common, we probably need to keep more words."
   ]
  },
  {
   "cell_type": "markdown",
   "metadata": {
    "deletable": true,
    "editable": true
   },
   "source": [
    "## Word to vectors"
   ]
  },
  {
   "cell_type": "code",
   "execution_count": 11,
   "metadata": {
    "collapsed": false,
    "deletable": true,
    "editable": true
   },
   "outputs": [],
   "source": [
    "word2idx = {}\n",
    "for index, word in enumerate(vocab):\n",
    "    word2idx[word] = index"
   ]
  },
  {
   "cell_type": "code",
   "execution_count": 12,
   "metadata": {
    "collapsed": false,
    "deletable": true,
    "editable": true
   },
   "outputs": [
    {
     "name": "stdout",
     "output_type": "stream",
     "text": [
      "{'suckotroc': 2108, 'often': 536, 'bronz': 1369, 'africa': 843, 'facet': 2109, 'detroit': 2110, 'person': 269, 'imposs': 844, 'conceit': 2111, 'schlesing': 2112, 'enough': 190, 'eyr': 1039, 'option': 845, 'motorbik': 2113, 'mcdonald': 2114, 'formula': 846, 'smoke': 1040, 'imagin': 235, 'ton': 2117, 'aboutagirli': 4132, 'crap': 57, 'store': 481, 'va': 2118, 'mechan': 1370, 'liner': 1371, 'wait': 537, 'humankind': 2119, 'help': 165, 'implod': 1372, 'klingon': 2121, 'southron': 2122, 'funni': 59, 'venu': 2123, 'hyster': 2124, 'nazism': 2125, 'flashdanc': 4041, 'ice': 1373, 'horobin': 3856, 'franchis': 1374, 'phenomenon': 2126, 'found': 1052, 'remov': 2997, 'vote': 159, 'era': 625, 'consumpt': 2128, 'broadway': 3767, 'household': 3298, 'redifin': 3948, 'though': 51, 'resurrect': 4564, 'tutti': 2131, 'fill': 1377, 'precinct': 2132, 'affect': 861, 'cheadl': 2134, 'massacr': 862, 'fedor': 2136, 'streep': 3464, 'car': 348, 'freedom': 1041, 'peac': 409, 'substanc': 721, 'unrecommend': 3849, 'togeth': 234, 'sweet': 1042, 'deed': 2656, 'someth': 191, 'groupi': 2139, 'docksid': 2140, 'keeper': 847, 'handi': 1379, 'peni': 1254, 'firework': 1380, 'joke': 199, 'length': 1381, 'fume': 3951, 'scenario': 1382, 'unusu': 2141, 'bicycl': 2142, 'sexier': 2143, 'oppos': 3857, 'miniseri': 4835, 'counsel': 2146, 'susan': 3609, 'broadhurst': 3573, 'antichrist': 2147, 'emot': 626, 'seller': 2148, 'horror': 251, 'beck': 4807, 'wed': 1383, 'pretenti': 627, 'lie': 722, 'grower': 3570, 'difficult': 2152, 'backward': 1385, 'theater': 206, 'saith': 2153, 'anoth': 723, 'centr': 1386, 'surpris': 252, 'siani': 3005, 'doe': 3952, 'heartfelt': 3587, 'oscar': 848, 'preiti': 2156, 'bannacheck': 2158, 'streisand': 2160, 'wayn': 2161, 'tank': 1043, 'sugar': 4701, 'faith': 794, 'submit': 3474, 'cash': 849, 'set': 236, 'limb': 2165, 'ah': 2166, 'bench': 2167, 'coat': 2168, 'tirad': 1387, 'flane': 2498, 'archiv': 2170, 'audienc': 61, 'pleas': 131, 'justifi': 2171, 'fourth': 2172, 'graphic': 1088, 'video': 132, 'moral': 850, 'stuck': 4093, 'tap': 1476, 'icon': 2176, 'irrit': 1389, 'necropoli': 2177, 'mummif': 2178, 'com': 94, 'geist': 1390, 'bash': 4414, 'cooki': 2179, 'nurs': 2180, 'bc': 1392, 'shown': 3932, 'randolph': 4852, 'sex': 410, 'weather': 1393, 'chong': 1394, 'correct': 1496, 'aboard': 2181, 'maker': 834, 'bride': 1046, 'smirk': 2182, 'peep': 2183, 'souvenir': 3479, 'websit': 894, 'fece': 4415, 'younger': 2186, 'instructor': 2187, 'take': 446, 'matur': 2188, 'cool': 628, 'holi': 2189, 'cardinal': 2190, 'sensat': 2191, 'documentari': 411, 'fri': 2193, 'mental': 4766, 'truli': 1047, 'extra': 629, 'stage': 538, 'viru': 2194, 'william': 2195, 'entir': 1395, 'thx': 2196, 'lifetim': 1956, 'sung': 2197, 'hale': 2198, 'condom': 2199, 'product': 141, 'collect': 146, 'dare': 630, 'album': 1048, 'bother': 142, 'erotica': 2204, 'urg': 2205, 'menu': 1396, 'jordan': 4584, 'harm': 1397, 'chill': 2207, 'sixpack': 4468, 'postur': 2752, 'boooooo': 2208, 'amanda': 2209, 'foudr': 4699, 'switzerland': 1326, 'poignanc': 1256, 'victori': 1398, 'princess': 3872, 'drat': 2212, 'ramon': 2213, 'groaner': 2214, 'custodi': 2994, 'aussi': 1399, 'nah': 4206, 'trial': 1400, 'mightili': 2888, 'jur': 2216, 'weav': 2217, 'conclus': 482, 'sabu': 2219, 'whatev': 632, 'resum': 852, 'chiasmu': 3959, 'dunk': 1401, 'altogeth': 853, 'creep': 854, 'south': 3906, 'refresh': 855, 'ars': 2873, 'stitch': 2222, 'allen': 1302, 'regret': 200, 'freezer': 2225, 'loafer': 4421, 'femal': 1402, 'overact': 1403, 'mozart': 2408, 'innoc': 1404, 'tomorrow': 856, 'drop': 1726, 'dement': 1405, 'offic': 2228, 'perri': 3960, 'apricot': 2230, 'parlour': 2231, 'suspens': 581, 'twin': 1406, 'spare': 4046, 'surviv': 914, 'digit': 2233, 'devote': 2234, 'satisfactori': 2235, 'beatnik': 2237, 'dalla': 4222, 'shaw': 2238, 'commerci': 1304, 'heartbreak': 4220, 'surgeri': 1053, 'skill': 857, 'origin': 153, 'part': 121, 'procedur': 2240, 'worth': 107, 'derboil': 2241, 'tranquil': 2242, 'forti': 2243, 'pointless': 1054, 'proceed': 3491, 'spell': 2246, 'flaw': 1137, 'jox': 1408, 'counti': 2249, 'may': 858, 'zwartboek': 2250, 'benchmark': 4223, 'abandon': 2251, 'sunset': 2252, 'goof': 2253, 'dont': 2254, 'vh': 1409, 'writen': 4053, 'hood': 1410, 'wow': 412, 'clue': 1411, 'brilliantli': 2255, 'incomprehens': 1412, 'intact': 2258, 'witt': 2259, 'chees': 1413, 'exciti': 2261, 'ny': 2262, 'crash': 1055, 'realism': 1414, 'pinata': 4838, 'etern': 859, 'tri': 160, 'cohes': 4265, 'vet': 4830, 'fascin': 633, 'confect': 2264, 'stori': 21, 'read': 237, 'encount': 2265, 'actor': 120, 'kalifornia': 2266, 'chang': 425, 'henderson': 3030, 'dislik': 1056, 'endur': 1766, 'must': 460, 'colossu': 4335, 'jimbo': 3745, 'showcas': 1416, 'rest': 540, 'shudder': 1417, 'debri': 4100, 'sentiment': 786, 'greater': 2272, 'longshot': 3495, 'quatermain': 4433, 'anticip': 1057, 'theori': 2077, 'express': 860, 'alex': 2275, 'birthday': 3032, 'acorn': 2559, 'prank': 2454, 'sheriff': 2277, 'jack': 2278, 'alter': 2279, 'drule': 2133, 'cegid': 1421, 'scarfac': 2280, 'loser': 725, 'brave': 2281, 'child': 270, 'scum': 1422, 'mould': 2135, 'ac': 2282, 'fiasco': 1059, 'tarzan': 1060, 'babi': 863, 'doom': 864, 'train': 1423, 'practic': 2283, 'seneg': 2284, 'repres': 1061, 'moustach': 2285, 'leader': 2287, 'cartoon': 302, 'backseat': 4765, 'public': 634, 'eclips': 2289, 'northwest': 3327, 'dunski': 2291, 'seek': 619, 'shade': 2292, 'debut': 1062, 'aheheh': 2294, 'slot': 1063, 'xd': 2295, 'asham': 570, 'bradycardia': 2834, 'mchatti': 2298, 'own': 1692, 'librari': 635, 'big': 889, 'import': 865, 'barracuda': 3213, 'interrupt': 2301, 'show': 32, 'latter': 936, 'confus': 483, 'claud': 2304, 'varieti': 1607, 'masala': 2307, 'altern': 1426, 'come': 62, 'bg': 2308, 'suffer': 1705, 'stranger': 2310, 'fight': 636, 'block': 2311, 'recent': 1574, 'sincer': 2312, 'cloud': 1428, 'hazzard': 1429, 'thirti': 3133, 'hollywe': 2314, 'ishq': 4281, 'floor': 726, 'rape': 1430, 'bloodier': 2316, 'develop': 1064, 'heartbeat': 1849, 'bounci': 2319, 'underwhelm': 2320, 'useless': 2322, 'surround': 1065, 'frisbe': 2324, 'predict': 727, 'summari': 2325, 'anyon': 83, 'mansion': 3977, 'prescienc': 2326, 'care': 184, 'scotland': 1066, 'edg': 637, 'suicid': 866, 'darkon': 2328, 'ta': 1067, 'benjamin': 2329, 'uk': 687, 'tanger': 2330, 'pick': 867, 'yawn': 1431, 'nail': 2331, 'live': 114, 'nuditi': 1068, 'deni': 1432, 'spiral': 2332, 'pedicur': 2333, 'wain': 2334, 'hollar': 3043, 'kennedi': 4146, 'atroc': 1434, 'mumbl': 2335, 'revel': 2327, 'meow': 2336, 'sky': 1757, 'addict': 869, 'hunter': 1435, 'compar': 478, 'quid': 2339, 'stuff': 102, 'coloni': 2648, 'alamo': 2341, 'obscen': 2263, 'cuba': 4238, 'gross': 2342, 'respect': 413, 'simultan': 2343, 'deluis': 2344, 'pinter': 2345, 'class': 925, 'aquat': 4672, 'batwoman': 2236, 'rigg': 3510, 'translat': 1657, 'br': 0, 'andrew': 2346, 'heartless': 2347, 'russel': 2348, 'goldblum': 3812, 'sort': 1438, 'icehol': 4472, 'quit': 542, 'monitor': 2350, 'kilmer': 2351, 'chase': 509, 'bravo': 299, 'everyman': 2353, 'row': 2354, 'fanfan': 2355, 'prospect': 2356, 'dirt': 2357, 'rumor': 2358, 'african': 3990, 'regular': 3513, 'st': 1069, 'atlant': 2360, 'bogart': 2361, 'n': 1070, 'parti': 1439, 'absolut': 1071, 'rider': 1440, 'song': 253, 'ryaba': 2363, 'hot': 640, 'lenya': 2365, 'dumbland': 3515, 'seen': 24, 'superior': 759, 'rang': 1090, 'fall': 641, 'mesmer': 1072, 'conflict': 2370, 'reach': 1441, 'bad': 20, 'ate': 2371, 'alan': 4445, 'use': 321, 'rothrock': 2374, 'begun': 2375, 'swordsman': 2376, 'nausicaa': 2377, 'career': 143, 'junki': 2378, 'comedi': 69, 'dirrti': 3047, 'knucklehead': 3622, 'popcorn': 728, 'detect': 1443, 'leon': 2380, 'hitler': 2381, 'ejacul': 2382, 'everyday': 4538, 'mail': 448, 'sensei': 2383, 'ciao': 2384, 'capra': 2385, 'branagh': 1073, 'turner': 4195, 'jerker': 2387, 'file': 978, 'gb': 2389, 'crown': 2390, 'direct': 295, 'bet': 1074, 'full': 1444, 'act': 70, 'men': 271, 'distinguish': 2391, 'resid': 2392, 'catch': 372, 'snoozer': 2393, 'distributor': 4255, 'firm': 2394, 'cure': 2395, 'sgt': 2396, 'film': 2, 'crikey': 2397, 'mingella': 2398, 'great': 71, 'cap': 1445, 'ahista': 3051, 'ordinari': 1683, 'fossil': 4022, 'adam': 1075, 'carnag': 1447, 'steal': 2203, 'dreg': 2400, 'excus': 2401, 'hope': 300, 'lineup': 2402, 'famili': 123, 'holler': 2403, 'anyday': 2405, 'discoveri': 3315, 'sane': 2407, 'edit': 485, 'circumst': 872, 'standpoint': 1449, 'relationship': 642, 'paus': 2409, 'pressburg': 2411, 'sexual': 2412, 'eccentr': 2413, 'make': 66, 'two': 201, 'simpli': 2415, 'shine': 518, 'breast': 3994, 'vie': 2417, 'hungri': 2418, 'lidl': 4454, 'anymor': 322, 'church': 1852, 'inch': 2421, 'nunez': 2422, 'mine': 543, 'brother': 737, 'buzz': 1450, 'system': 1451, 'introduc': 2424, 'extraordinair': 2425, 'rage': 2426, 'distribut': 544, 'earlier': 873, 'satir': 874, 'hurt': 449, 'din': 1452, 'demon': 1077, 'notabl': 3401, 'trap': 1078, 'herp': 2429, 'brien': 1453, 'sophist': 2430, 'throw': 892, 'insult': 545, 'argh': 2431, 'whichev': 2433, 'passabl': 2434, 'asap': 2435, 'gang': 1455, 'nowher': 1079, 'az': 2786, 'hilari': 349, 'agent': 2438, 'lesson': 546, 'debbi': 2439, 'rabi': 2440, 'appreci': 414, 'daylight': 3785, 'moment': 202, 'nest': 1457, 'trend': 2441, 'spirit': 730, 'dust': 2442, 'everywher': 1013, 'fool': 643, 'inclus': 1458, 'succeed': 731, 'fp': 2446, 'point': 84, 'underton': 4003, 'uselessli': 2448, 'duh': 1617, 'amor': 2450, 'travesti': 875, 'sir': 1907, 'thriller': 257, 'sunris': 2451, 'stella': 2452, 'bernstein': 2453, 'deliv': 971, 'busi': 660, 'kick': 644, 'polarisdib': 350, 'catastroph': 1460, 'peddler': 4820, 'wrestlemania': 2455, 'night': 87, 'aliv': 373, 'villain': 1461, 'accentu': 2456, 'understand': 415, 'cleavag': 1462, 'purpos': 732, 'spoken': 2458, 'tunnel': 1618, 'ensu': 1303, 'yay': 2461, 'gangster': 2462, 'gotten': 4821, 'highland': 3531, 'evil': 733, 'galactica': 2463, 'margareth': 3985, 'profession': 1463, 'redeem': 1081, 'goer': 876, 'obsess': 2464, 'scare': 612, 'aw': 108, 'tortur': 734, 'classic': 38, 'johnr': 2466, 'doctor': 1464, 'bhangra': 3747, 'sht': 1082, 'joseph': 2469, 'luke': 1465, 'walker': 1319, 'appallingli': 2471, 'outlet': 3613, 'strongli': 2338, 'sport': 2472, 'writer': 878, 'budget': 296, 'upbeat': 2473, 'restraint': 2474, 'eliason': 1466, 'goat': 2475, 'starv': 3099, 'jf': 2476, 'depth': 2477, 'leg': 735, 'nevertheless': 1141, 'research': 2479, 'weekend': 1467, 'starfuck': 4246, 'sink': 1083, 'bore': 75, 'provinc': 3373, 'wrestler': 3618, 'montag': 4580, 'closet': 2480, 'japanes': 2481, 'breath': 736, 'dec': 2482, 'seep': 2483, 'march': 879, 'ha': 880, 'piti': 450, 'endeavour': 1084, 'later': 154, 'greek': 2484, 'mcdermott': 4198, 'flightsuit': 2485, 'gordon': 1469, 'boycott': 2486, 'observ': 2036, 'soon': 144, 'coffin': 1338, 'mgm': 2052, 'pufnstuf': 2488, 'eyebal': 2489, 'remak': 530, 'jam': 2490, 'relat': 881, 'news': 882, 'histori': 155, 'ga': 1343, 'review': 98, 'account': 1346, 'connecticut': 2493, 'ambit': 2494, 'avail': 351, 'disingenu': 2495, 'aahhh': 2496, 'trainer': 2497, 'frighten': 883, 'abus': 1624, 'hat': 645, 'thought': 451, 'flic': 1314, 'rio': 2503, 'race': 1471, 'bmw': 2505, 'cent': 486, 'blanc': 2506, 'sourc': 1085, 'giallo': 3903, 'shadow': 2507, 'none': 487, 'vogel': 2508, 'admit': 1473, 'cm': 2509, 'compel': 1474, 'aidsssss': 2510, 'slip': 2511, 'mistaken': 2512, 'stronger': 2513, 'taqueria': 2514, 'cognac': 2515, 'eight': 1475, 'ladder': 3341, 'disney': 885, 'virgin': 2517, 'bernsen': 3664, 'basing': 2518, 'amus': 550, 'vault': 2519, 'unfold': 2520, 'favourit': 886, 'jerk': 2521, 'captiv': 2522, 'jackson': 2523, 'trace': 2524, 'buddi': 2525, 'lol': 352, 'outing': 1087, 'nine': 2526, 'unsubtli': 2527, 'jour': 2528, 'implement': 2529, 'honest': 2007, 'undon': 4391, 'abyss': 2530, 'bean': 2531, 'ladd': 2532, 'discomfitur': 2175, 'infinit': 2533, 'spoil': 1144, 'combin': 1477, 'produc': 416, 'mike': 2535, 'limit': 2536, 'cait': 2537, 'sander': 2538, 'wrath': 2173, 'raven': 2539, 'moon': 551, 'trivia': 2540, 'fetish': 1114, 'il': 2145, 'renown': 2542, 'fl': 2543, 'wagner': 4163, 'stargat': 2544, 'rank': 1478, 'taxi': 2546, 'plead': 2547, 'leonard': 2548, 'cabl': 488, 'microphon': 2549, 'sweeney': 2229, 'realiti': 738, 'bela': 2551, 'filter': 2552, 'moviepass': 2553, 'portray': 489, 'headach': 887, 'corner': 2256, 'viewpoint': 2555, 'profit': 3547, 'breez': 2557, 'readi': 888, 'dog': 646, 'shim': 2613, 'forc': 1058, 'setup': 3102, 'warn': 46, 'oper': 4376, 'humour': 1105, 'damon': 2562, 'awesom': 490, 'silenc': 2564, 'highli': 541, 'over': 2560, 'least': 185, 'sentenc': 1856, 'fantast': 452, 'style': 323, 'whidbey': 4479, 'vertigo': 3382, 'honour': 4783, 'accur': 647, 'shuttl': 2567, 'overpopul': 2568, 'blood': 417, 'nonsens': 552, 'investig': 1089, 'gamecub': 2569, 'enh': 2570, 'except': 553, 'earp': 3059, 'citi': 554, 'degre': 2574, 'kiss': 890, 'someon': 648, 'disagre': 1481, 'marker': 2276, 'mind': 192, 'horton': 2575, 'masteri': 2576, 'put': 555, 'hennessi': 2577, 'dt': 2578, 'baragrey': 2579, 'servic': 1091, 'miracul': 3551, 'field': 649, 'buff': 418, 'uhum': 4289, 'equival': 2581, 'dig': 2582, 'r': 491, 'motiv': 2583, 'subject': 492, 'self': 891, 'reccomend': 2584, 'agenda': 2585, 'giant': 1092, 'hole': 2586, 'watcher': 1482, 'ozjepp': 2587, 'raoul': 1454, 'indign': 2588, 'junkermann': 2589, 'download': 1483, 'mayb': 324, 'rap': 1484, 'remark': 739, 'mastermind': 2590, 'boo': 2591, 'titl': 238, 'scandinavian': 2592, 'tame': 2593, 'egan': 4035, 'cheat': 1093, 'tearjerk': 4026, 'subordin': 2874, 'penalti': 2468, 'cream': 2594, 'sleazi': 2596, 'flesh': 2597, 'order': 419, 'pun': 2598, 'paymer': 2599, 'shorter': 4598, 'revolut': 1488, 'denoument': 2600, 'dahmer': 1489, 'spartan': 2502, 'elimin': 2602, 'energi': 2603, 'melodrama': 783, 'sematari': 4037, 'overestim': 2607, 'slaughter': 4486, 'franco': 1491, 'dipaolo': 4487, 'bankrupt': 2609, 'aaa': 4683, 'jewel': 2611, 'be': 2612, 'nekromantik': 2558, 'articul': 2614, 'frustrat': 2615, 'sceneri': 1492, 'botch': 1493, 'loaf': 2618, 'ebert': 2619, 'back': 34, 'quiet': 1487, 'edison': 2622, 'close': 254, 'fisher': 1495, 'deshimaru': 2623, 'klick': 4676, 'fk': 2624, 'chernitski': 3661, 'open': 1094, 'trauma': 2643, 'anyway': 145, 'honeymoon': 2625, 'vaughan': 2650, 'lose': 1388, 'jovial': 2628, 'exagger': 2629, 'magnific': 1497, 'impact': 1095, 'hanger': 2630, 'groundbreak': 2631, 'incompet': 2632, 'gruesom': 2633, 'superfici': 1498, 'tech': 2634, 'club': 2682, 'effect': 226, 'climax': 1499, 'proof': 2635, 'curiou': 1501, 'ryoo': 2636, 'immedi': 893, 'right': 64, 'sound': 984, 'deliber': 2637, 'shop': 1110, 'even': 161, 'restaur': 2741, 'vulcan': 2640, 'parapsychologist': 4043, 'tide': 2184, 'dean': 3748, 'lili': 2641, 'fail': 747, 'doy': 4044, 'downer': 2644, 'stood': 4298, 'eleniak': 3313, 'artemisia': 4150, 'wast': 128, 'daughter': 896, 'unkindli': 3088, 'gimmick': 2646, 'flow': 2647, 'score': 73, 'consid': 2221, 'island': 1098, 'repeat': 650, 'myer': 2649, 'happen': 85, 'robocop': 2626, 'countri': 375, 'diamond': 2651, 'na': 1504, 'buoyant': 2652, 'wheel': 4278, 'cheesi': 752, 'z': 1099, 'jet': 2210, 'flick': 86, 'bite': 2653, 'prequel': 1100, 'jigsaw': 2654, 'mexican': 2655, 'dupe': 3880, 'stalinist': 2657, 'oregon': 1506, 'wall': 651, 'revisit': 1507, 'boston': 2658, 'gymkata': 4796, 'focu': 1101, 'swallow': 1508, 'rigour': 2659, 'weez': 2660, 'pagevirgin': 2661, 'ruin': 638, 'wonder': 167, 'outfit': 1102, 'hear': 740, 'continu': 741, 'electrocut': 2663, 'prize': 2664, 'connoisseur': 2665, 'believ': 208, 'sister': 494, 'vision': 897, 'babe': 1103, 'whew': 4282, 'torch': 2666, 'sholay': 2667, 'apocalypto': 2668, 'choic': 376, 'soul': 255, 'clariti': 3146, 'factori': 2671, 'advic': 1096, 'fli': 1510, 'space': 421, 'look': 44, 'fora': 2672, 'alvarado': 2673, 'condecens': 2674, 'dar': 2675, 'blom': 2676, 'break': 325, 'hadley': 2677, 'tavern': 2678, 'indiscret': 2679, 'empti': 1104, 'sorbonn': 1512, 'storytel': 598, 'whistl': 4175, 'romanc': 557, 'world': 67, 'haunt': 1513, 'normal': 2683, 'relief': 1514, 'ruthless': 3095, 'oprah': 2685, 'pokemon': 2686, 'ecstasi': 2687, 'davitelja': 2688, 'uncut': 1515, 'tina': 2690, 'sensual': 2200, 'camp': 742, 'skull': 2691, 'lantern': 2693, 'iceberg': 2950, 'mustard': 1517, 'x': 495, 'awar': 2694, 'track': 761, 'airwav': 4505, 'elseavoid': 4508, 'id': 2696, 'disappoint': 12, 'profan': 558, 'glass': 3340, 'worthwhil': 379, 'gooledyspook': 2700, 'worthi': 743, 'meat': 2702, 'stardust': 2703, 'roommat': 2704, 'maka': 2705, 'content': 447, 'hels': 1519, 'ball': 1648, 'fate': 2707, 'net': 1106, 'old': 268, 'kingpin': 2711, 'hare': 1520, 'dragon': 1107, 'fla': 1601, 'pictur': 77, 'mimzi': 3963, 'blue': 2713, 'abc': 2714, 'illog': 2715, 'dubieti': 2717, 'twist': 744, 'parallel': 3816, 'aspir': 2718, 'timberlak': 2719, 'lyric': 1521, 'afficinado': 3257, 'sit': 272, 'garner': 2720, 'rick': 2722, 'inescap': 2724, 'handl': 1522, 'bust': 1523, 'watchabl': 320, 'unabsorb': 4151, 'inept': 1108, 'bittersweet': 2726, 'deathtrap': 2727, 'mandu': 2728, 'sequal': 2729, 'parhat': 2730, 'devic': 2731, 'sanctimoni': 2732, 'tomba': 2733, 'measur': 1168, 'seat': 1109, 'woodard': 2734, 'iraq': 2735, 'vacuou': 2736, 'patienc': 1502, 'gaz': 2737, 'pornographi': 1525, 'tlk': 2894, 'commentari': 745, 'ossession': 4258, 'element': 559, 'howev': 653, 'admir': 1526, 'exhibit': 3548, 'allow': 3104, 'solid': 680, 'pinjar': 2740, 'perspect': 898, 'bit': 273, 'perdit': 2742, 'arrgh': 2743, 'meatbal': 2744, 'box': 1111, 'garbag': 147, 'replac': 2746, 'washout': 2747, 'subzero': 2749, 'gosh': 2750, 'treasur': 560, 'dine': 2751, 'resolut': 3793, 'miik': 2753, 'gamera': 3988, 'principl': 2754, 'hi': 2755, 'suffic': 2756, 'ghastli': 2757, 'shell': 4493, 'cruel': 1112, 'ofstar': 2758, 'steam': 2759, 'sting': 1528, 'uninterest': 1529, 'pace': 746, 'central': 2762, 'della': 2763, 'cruella': 2764, 'cupidgrl': 2765, 'nonconform': 2766, 'nfl': 2768, 'carri': 1530, 'cetera': 2769, 'perform': 72, 'therefor': 1113, 'imdb': 319, 'fleet': 4759, 'cari': 2770, 'cheesecak': 2771, 'nope': 1503, 'curmudgeon': 2773, 'cast': 239, 'game': 193, 'ppv': 2774, 'ol': 3305, 'network': 748, 'globe': 2775, 'blech': 2776, 'launch': 2777, 'sooner': 2778, 'brilliant': 453, 'nervou': 3109, 'kit': 2779, 'root': 2780, 'match': 899, 'mad': 654, 'funkion': 2781, 'eastwood': 3772, 'amigo': 2782, 'economi': 3591, 'lucki': 940, 'rever': 2103, 'find': 138, 'tool': 2785, 'call': 561, 'iii': 749, 'asset': 2788, 'phil': 4065, 'jew': 3724, 'kink': 1533, 'counter': 1534, 'forum': 2789, 'attitud': 1663, 'witch': 2791, 'laura': 2792, 'bbc': 962, 'wheat': 2794, 'innit': 2795, 'snowman': 1536, 'eighti': 1537, 'mango': 2796, 'wound': 4523, 'wreck': 901, 'ahead': 1364, 'hous': 259, 'stauffer': 2797, 'ala': 1116, 'eaten': 2798, 'shake': 2799, 'wife': 1539, 'incred': 1540, 'transport': 4067, 'eureka': 2800, 'along': 750, 'rasuk': 2803, 'sadism': 1541, 'belief': 1097, 'unlik': 1118, 'vraiment': 2805, 'drivel': 902, 'zzzzzzzzzzzzz': 2806, 'load': 2807, 'sharif': 2701, 'curtain': 2808, 'patient': 2809, 'shortcom': 903, 'west': 1542, 'bigv': 2810, 'keith': 2811, 'die': 232, 'memori': 353, 'pump': 1543, 'gun': 904, 'prey': 2813, 'barnum': 2814, 'essay': 2815, 'moi': 1544, 'creat': 656, 'risqu': 2816, 'lantana': 2817, 'squar': 1119, 'essenti': 1545, 'erotic': 2818, 'misogynist': 1546, 'hustler': 2819, 'propag': 2820, 'overweight': 2821, 'childish': 2116, 'princ': 1547, 'nemesi': 2823, 'ridicul': 497, 'washington': 2824, 'terribl': 218, 'sinc': 562, 'stole': 2825, 'replay': 563, 'anonym': 4070, 'year': 30, 'truth': 274, 'wurth': 4515, 'dodger': 2826, 'inevit': 1548, 'breakumentarion': 2827, 'org': 905, 'minor': 1550, 'rubber': 2828, 'heartstr': 2829, 'saniti': 1549, 'paramilitari': 2831, 'unglamor': 3601, 'atwood': 2832, 'movement': 2833, 'christian': 906, 'berth': 1134, 'potenti': 710, 'windup': 2835, 'ph': 2836, 'dawn': 2837, 'prozac': 2838, 'vijay': 2839, 'churn': 2840, 'america': 338, 'dose': 1553, 'higher': 1207, 'walken': 1505, 'damag': 1121, 'grow': 596, 'gorgeou': 1554, 'everyon': 168, 'hamburg': 2845, 'uniform': 2846, 'told': 795, 'grandin': 2849, 'crook': 2850, 'error': 2851, 'jane': 907, 'fix': 1555, 'zeal': 2852, 'groov': 2853, 'doll': 4256, 'crab': 4619, 'happenst': 3125, 'throughout': 327, 'boat': 2854, 'auteuil': 4535, 'memorabilia': 3404, 'bound': 1556, 'cleo': 2856, 'done': 116, 'dragoon': 2857, 'premier': 2858, 'expans': 2859, 'carer': 2860, 'past': 354, 'prestig': 2861, 'waster': 1557, 'rescu': 1558, 'began': 1559, 'foul': 1122, 'breathless': 2862, 'unbias': 2865, 'model': 2866, 'fashion': 909, 'boss': 1560, 'rigger': 2868, 'ancient': 2870, 'heap': 1561, 'guid': 2871, 'european': 3225, 'case': 423, 'tea': 1123, 'butt': 1891, 'risibl': 2876, 'orson': 1562, 'vice': 2877, 'castrat': 3417, 'thank': 78, 'bow': 3607, 'cartwright': 2878, 'bacon': 2879, 'target': 1755, 'razor': 2880, 'jone': 753, 'book': 79, 'photographi': 910, 'superl': 2882, 'culkin': 1903, 'baker': 1565, 'wise': 564, 'cassidi': 3156, 'shaft': 4569, 'immens': 1124, 'complaint': 1566, 'luci': 2886, 'keren': 2887, 'dudley': 4593, 'liter': 1567, 'clich': 1125, 'ned': 2889, 'ana': 2890, 'dot': 3130, 'jonah': 2891, 'futurama': 2192, 'fortun': 1569, 'well': 23, 'darren': 2892, 'quantiti': 2893, 'devil': 1865, 'blank': 2556, 'blog': 2847, 'likabl': 1126, 'preced': 1571, 'slither': 2150, 'empir': 2895, 'abil': 911, 'cherish': 1925, 'bullet': 2896, 'health': 2897, 'absurd': 755, 'reinhold': 2899, 'mio': 2900, 'doze': 2901, 'bog': 2902, 'got': 565, 'taken': 1127, 'destruct': 4541, 'sollett': 2904, 'loss': 912, 'yeccch': 2905, 'chou': 2906, 'kurasawa': 2907, 'speci': 2908, 'stud': 4583, 'hilar': 2910, 'roger': 1575, 'last': 454, 'curri': 2911, 'lv': 913, 'analysi': 1188, 'recov': 1576, 'heed': 2227, 'tv': 148, 'pickl': 2436, 'fulfil': 1577, 'duo': 1578, 'downward': 1579, 'acr': 2917, 'casino': 2918, 'capsul': 1128, 'monument': 4718, 'blasphemi': 2919, 'illiteraci': 2920, 'version': 99, 'vito': 2921, 'kazzam': 2922, 'incident': 2923, 'deerfield': 2924, 'chair': 4107, 'unmiss': 1129, 'speak': 2926, 'cheer': 355, 'filmdom': 2927, 'adopt': 2928, 'bryan': 2929, 'wildsmith': 2930, 'cleveland': 2953, 'say': 65, 'lynch': 1580, 'thru': 2932, 'tyrel': 2933, 'absorb': 1581, 'dollar': 4745, 'goe': 851, 'comedian': 4485, 'luv': 2934, 'supremaci': 2935, 'obvious': 1051, 'cape': 3139, 'husband': 2662, 'helicopt': 4229, 'wardrob': 2938, 'away': 55, 'start': 328, 'male': 1582, 'chick': 1583, 'throne': 1131, 'galaxi': 4530, 'pretti': 2695, 'life': 17, 'mister': 2232, 'mezrich': 2566, 'despis': 1584, 'butterfli': 1132, 'instal': 1133, 'censor': 2941, 'commonplac': 2942, 'gyarah': 2943, 'terrif': 1585, 'funnni': 4475, 'uncomfirm': 2491, 'poetic': 2946, 'place': 133, 'bagman': 2947, 'educ': 1568, 'listen': 444, 'total': 827, 'sleuth': 2952, 'hearst': 4620, 'tinsel': 2954, 'gruffudd': 2955, 'horribl': 240, 'hessler': 2956, 'easier': 2958, 'visibl': 2959, 'eat': 2960, 'write': 275, 'judgement': 915, 'overdon': 2961, 'method': 2962, 'geek': 2963, 'drill': 4262, 'virginia': 1587, 'unseen': 2964, 'hyde': 4384, 'tx': 2965, 'crucial': 2966, 'paranoid': 4087, 'five': 916, 'cartoonish': 3270, 'work': 27, 'easi': 568, 'rot': 2967, 'foe': 2968, 'belt': 2969, 'gore': 569, 'charg': 2970, 'hook': 1588, 'tragic': 1589, 'dongen': 2971, 'warfar': 2972, 'seinfeld': 2973, 'sh': 2974, 'pleasant': 2975, 'center': 1590, 'dun': 2976, 'jen': 3286, 'land': 1135, 'explor': 1591, 'rubbish': 256, 'hine': 3148, 'pud': 2239, 'signific': 2080, 'moretti': 2979, 'winslet': 2980, 'aventurera': 4837, 'tempest': 4042, 'htm': 1268, 'retir': 1716, 'prostitut': 4782, 'jeffrey': 4729, 'cope': 3986, 'harmless': 4221, 'underway': 2984, 'escap': 918, 'ironsid': 2985, 'quip': 2986, 'bye': 498, 'summer': 1594, 'childhood': 1167, 'blind': 1595, 'unexpect': 1596, 'appetit': 1610, 'soma': 2989, 'goldmin': 2149, 'crane': 2991, 'buy': 122, 'annihil': 2992, 'woeful': 2993, 'missabl': 1597, 'grew': 919, 'lite': 2290, 'attempt': 1795, 'glow': 2115, 'photograph': 1598, 'drum': 3624, 'ap': 920, 'failur': 455, 'select': 2996, 'mower': 2127, 'anim': 276, 'ace': 2998, 'function': 2881, 'warner': 3000, 'healer': 3001, 'luck': 548, 'hercul': 1599, 'reinforc': 3003, 'wendi': 3004, 'untouch': 2154, 'reason': 209, 'lightn': 3006, 'factor': 921, 'crunch': 3007, 'bring': 922, 'gael': 3008, 'jodorowski': 3009, 'aunt': 3010, 'sant': 3011, 'sr': 3012, 'ballarat': 3014, 'frownbust': 3015, 'dinosauru': 3016, 'crocodil': 1600, 'ontkean': 2201, 'blockbust': 631, 'shaken': 4853, 'usual': 1050, 'standard': 456, 'fullest': 3021, 'word': 301, 'appelonia': 3022, 'verbiag': 3779, 'recal': 3023, 'elliott': 3024, 'trilog': 499, 'waltz': 2843, 'contrast': 2500, 'maldonado': 2247, 'contin': 3027, 'corni': 1138, 'took': 1603, 'daag': 3028, 'ashley': 1604, 'duck': 2760, 'hobgoblin': 1415, 'neither': 1606, 'ada': 4036, 'hula': 3031, 'scale': 378, 'uneasi': 1420, 'dagon': 3033, 'deanna': 3034, 'morri': 1139, 'max': 3035, 'illiter': 4437, 'ya': 802, 'crusad': 3036, 'pom': 3630, 'martin': 1425, 'yuk': 3038, 'countrysid': 2306, 'corpor': 1427, 'eye': 117, 'festiv': 659, 'fee': 1140, 'pertwe': 3803, 'invad': 1608, 'mile': 1433, 'brillianc': 924, 'background': 1172, 'enhanc': 1609, 'machin': 1436, 'forev': 181, 'accent': 457, 'trailer': 926, 'literaci': 3045, 'student': 1611, 'diehard': 2379, 'dissimilar': 3048, 'molli': 3049, 'hr': 3050, 'predecessor': 1446, 'bang': 1612, 'made': 37, 'descript': 3052, 'cognoscenti': 4567, 'predica': 1613, 'mixtur': 1614, 'proud': 884, 'gander': 3054, 'warm': 3055, 'snore': 3056, 'properli': 1615, 'georgett': 3807, 'lower': 756, 'theroux': 3057, 'pinto': 2157, 'conspiraci': 1616, 'repertoir': 2449, 'tune': 1459, 'helvard': 2305, 'lyndsay': 3164, 'bitter': 2459, 'recreat': 1619, 'subplot': 1620, 'colombia': 3061, 'unto': 1621, 'emmi': 1622, 'serv': 3062, 'cinematographi': 517, 'mafia': 3063, 'woodi': 1623, 'neatli': 3064, 'alreadi': 549, 'round': 3066, 'deserv': 47, 'applaud': 2313, 'motion': 3067, 'especi': 3068, 'yike': 928, 'fund': 1625, 'carousel': 2545, 'spit': 3069, 'sacr': 3070, 'octob': 3071, 'annual': 3850, 'corps': 1142, 'suggest': 929, 'iv': 2572, 'decid': 758, 'tumor': 3073, 'sellam': 3074, 'offer': 278, 'squad': 3075, 'leaf': 3166, 'unnot': 3076, 'youtub': 3077, 'starter': 2432, 'tiger': 3079, 'overwhelm': 4544, 'paragraph': 3080, 'flame': 1486, 'clinic': 3081, 'magictrain': 1627, 'antonioni': 2269, 'area': 930, 'blizzard': 3084, 'yorker': 3085, 'videotequ': 3086, 'neglig': 3087, 'ambigu': 1629, 'boundari': 1630, 'month': 661, 'cathol': 1763, 'novemb': 3641, 'dope': 2645, 'serious': 210, 'purchas': 931, 'ii': 458, 'action': 211, 'savannah': 3089, 'rodriguez': 3171, 'anew': 3092, 'straight': 1632, 'splendor': 3093, 'channel': 280, 'cabin': 4574, 'lotr': 2684, 'thewli': 4109, 'tip': 3096, 'far': 459, 'sue': 1633, 'dread': 760, 'affair': 3097, 'enix': 4363, 'edu': 4575, 'ulmer': 1143, 'bradi': 3013, 'nepot': 3100, 'unreward': 3101, 'rori': 3103, 'mtv': 2738, 'friendli': 3105, 'addit': 3403, 'subtitl': 3106, 'shanghai': 2151, 'rewatch': 4540, 'egress': 3108, 'shonuff': 4577, 'romp': 1115, 'jacknif': 3110, 'cracker': 3111, 'burger': 3112, 'tell': 383, 'scream': 932, 'drewbi': 3114, 'buck': 729, 'masterpiec': 109, 'convict': 3116, 'harbor': 3546, 'puzzlement': 3117, 'shout': 3118, 'bradburi': 3119, 'need': 258, 'awakebar': 3412, 'favor': 2915, 'breed': 3123, 'pizza': 1822, 'topic': 908, 'rich': 3126, 'xxx': 3127, 'older': 1635, 'rehab': 933, 'acquir': 3128, 'filho': 2869, 'sorrow': 3739, 'shall': 2267, 'up': 1878, 'artist': 754, 'mask': 1636, 'drug': 662, 'coincid': 3132, 'humili': 4814, 'borzag': 2697, 'catwalk': 3134, 'otherwis': 934, 'dna': 3135, 'rate': 9, 'jlu': 3136, 'cours': 356, 'creepi': 571, 'karma': 2931, 'cake': 1130, 'rib': 2937, 'bastidg': 3140, 'secreci': 3141, 'letterbox': 3143, 'parol': 2260, 'kate': 1637, 'automat': 3144, 'scorses': 3145, 'baffl': 2270, 'shock': 573, 'daddi': 1146, 'campu': 3147, 'gloriou': 1592, 'biz': 2104, 'stifl': 3149, 'keyboard': 3150, 'vergeben': 3151, 'moor': 3152, 'dv': 3153, 'almost': 2699, 'titan': 3995, 'al': 1638, 'uncertain': 3019, 'cox': 169, 'distort': 3155, 'consol': 1605, 'taliban': 3157, 'bodi': 663, 'scifi': 3158, 'disabl': 3159, 'zorro': 3160, 'overcook': 4585, 'rejuven': 3162, 'thinker': 3163, 'youssef': 1639, 'paid': 500, 'horizon': 1640, 'delight': 574, 'hippi': 3165, 'pathet': 426, 'regim': 2086, 'her': 3167, 'neighbor': 3168, 'mildr': 3169, 'son': 1147, 'sweden': 3170, 'masturbatori': 3090, 'remad': 3172, 'lane': 1016, 'sanit': 3173, 'gorcey': 3174, 'cat': 575, 'barri': 4288, 'underdog': 4587, 'whimper': 3175, 'bald': 3176, 'fluff': 1642, 'unfunni': 1643, 'grown': 1644, 'money': 39, 'receiv': 664, 'yeeshhhhhhhhhhhhhhhhh': 3017, 'mirror': 1148, 'went': 937, 'worship': 1645, 'pride': 1773, 'blast': 1647, 'tng': 3178, 'automobil': 3181, 'benefici': 3182, 'memor': 461, 'woman': 665, 'homosexu': 2706, 'potter': 3183, 'sure': 170, 'thesp': 4118, 'afterward': 576, 'addison': 3185, 'pseudonym': 3186, 'bollywood': 1494, 'incorpor': 3187, 'serial': 2023, 'sun': 1149, 'nose': 1649, 'parter': 1650, 'restor': 3188, 'mitchel': 938, 'oracl': 3189, 'nooooo': 3190, 'testament': 1184, 'flawless': 1651, 'filth': 1150, 'famou': 1653, 'sidekick': 3192, 'walthal': 2274, 'frost': 939, 'intent': 3195, 'dusti': 3196, 'k': 762, 'demand': 1654, 'novel': 381, 'pit': 3197, 'warrior': 2163, 'geniu': 330, 'romant': 1151, 'spotlight': 2945, 'authent': 1655, 'ad': 1656, 'manner': 577, 'chocol': 3999, 'unrecogniz': 3201, 'sperm': 3026, 'eisenstein': 3202, 'england': 667, 'anderson': 1658, 'bull': 3203, 'rayvyn': 3204, 'confront': 3205, 'chapeau': 3206, 'undoubtedli': 3207, 'itttttttt': 3208, 'exampl': 357, 'gotuntil': 2712, 'queen': 1693, 'seaton': 1659, 'stun': 1660, 'gift': 1511, 'zen': 3211, 'hour': 80, 'en': 3658, 'falcon': 2914, 'hall': 1662, 'kouzina': 3215, 'yet': 212, 'crank': 3216, 'subtli': 3659, 'feast': 4123, 'excrement': 3219, 'settlefor': 3220, 'themslev': 3221, 'parent': 763, 'subsid': 2362, 'whenev': 3441, 'drab': 4605, 'zhivago': 3223, 'keaton': 1664, 'wt': 2916, 'capabl': 1180, 'veiw': 3226, 'adapt': 382, 'lame': 241, 'spectacl': 1193, 'preachi': 1194, 'sera': 3229, 'capac': 2944, 'wrestl': 3230, 'extrem': 941, 'notori': 1665, 'beast': 3231, 'sorri': 203, 'burgundi': 3232, 'licenc': 3233, 'sayonara': 3234, 'disagr': 1666, 'ident': 1667, 'fleapit': 3235, 'lollobrigida': 3236, 'fear': 1153, 'plagu': 194, 'mice': 3237, 'wind': 1668, 'dull': 668, 'slum': 3719, 'hannib': 3238, 'nausea': 3239, 'stiff': 1669, 'sake': 669, 'gadget': 3240, 'locat': 942, 'fit': 1154, 'opinion': 101, 'activ': 3665, 'rounder': 3242, 'button': 1210, 'mindless': 3244, 'harri': 764, 'saw': 501, 'turn': 384, 'collector': 765, 'disbelief': 1671, 'first': 213, 'fun': 40, 'laurent': 3247, 'pete': 3248, 'bluto': 3249, 'consider': 3696, 'ghetto': 3250, 'bu': 3251, 'lyf': 3252, 'alien': 1155, 'bibl': 3253, 'harmoni': 3254, 'biller': 3255, 'senseless': 1780, 'rofl': 3258, 'todd': 3259, 'dri': 1020, 'could': 305, 'anar': 3260, 'aime': 3649, 'swimmer': 3261, 'dodgerdud': 3262, 'dissapiont': 3263, 'bake': 3264, 'bizarr': 1672, 'wowser': 3265, 'corman': 3266, 'vacuiti': 3267, 'crimin': 4242, 'intend': 502, 'cinma': 3268, 'nomine': 2804, 'jay': 2323, 'nineti': 3271, 'runner': 2169, 'goodi': 1673, 'technerd': 2978, 'aim': 1797, 'mass': 1158, 'skip': 156, 'fondli': 4128, 'invest': 1159, 'pipelin': 1675, 'cesspool': 1803, 'arbit': 3277, 'pffffft': 3278, 'english': 359, 'willett': 1160, 'toxic': 3673, 'hungari': 3279, 'campaign': 3280, 'accept': 1437, 'unnecessari': 1676, 'wisdom': 1950, 'john': 972, 'phoenix': 2218, 'fizzl': 3285, 'sleep': 214, 'blah': 658, 'justif': 3288, 'juli': 1677, 'melachon': 3289, 'borefest': 3290, 'dish': 3291, 'canteen': 3292, 'admiss': 1817, 'hung': 1818, 'beeyotch': 3295, 'ticket': 1161, 'unwatch': 799, 'clean': 3296, 'doghi': 3297, 'touch': 385, 'fan': 19, 'superb': 578, 'air': 363, 'gut': 3299, 'piffl': 3300, 'final': 766, 'possibl': 134, 'lack': 3302, 'farc': 943, 'maven': 3303, 'dirti': 3304, 'vain': 1162, 'increas': 1524, 'peak': 1678, 'loath': 3306, 'ceausescu': 1837, 'sleaz': 3307, 'low': 670, 'tremend': 1626, 'invent': 1163, 'candi': 1680, 'halv': 3308, 'damm': 2288, 'crucifix': 3309, 'percept': 3311, 'broomstick': 3312, 'rush': 3712, 'merri': 3200, 'disgrac': 1442, 'driver': 3094, 'requir': 1164, 'itali': 3317, 'tragedi': 671, 'crosbi': 3318, 'agreement': 4566, 'crazi': 579, 'foxx': 3319, 'grinch': 3320, 'feet': 4097, 'king': 503, 'blaisdel': 3322, 'thorn': 3323, 'capaldi': 3324, 'anxieti': 3325, 'joe': 1682, 'elsewher': 380, 'joann': 2725, 'sleepwalk': 3328, 'unintent': 2842, 'pass': 176, 'mason': 2349, 'strangler': 3332, 'suppos': 768, 'tire': 1166, 'marri': 4600, 'kwai': 4057, 'gomez': 3335, 'sunk': 3336, 'passag': 3337, 'clau': 4140, 'delinqu': 3339, 'carter': 1424, 'pronunci': 2638, 'detail': 695, 'western': 427, 'sid': 3342, 'tvpg': 2296, 'unengag': 3058, 'hardwork': 3344, 'thing': 58, 'chemistri': 3345, 'high': 652, 'eric': 1684, 'associ': 3346, 'bardot': 4532, 'aerodynam': 3347, 'rule': 672, 'folk': 599, 'heart': 135, 'would': 282, 'tast': 331, 'darn': 3350, 'choir': 4843, 'accomplish': 1169, 'piggi': 1887, 'studi': 1685, 'dime': 3353, 'teenag': 1686, 'appal': 945, 'languag': 399, 'harp': 177, 'sponsor': 3355, 'tom': 3356, 'timelin': 3357, 'soundtrack': 332, 'talent': 178, 'worst': 428, 'lisa': 3358, 'emptour': 3359, 'influenc': 3360, 'dumpster': 3361, 'unexcept': 3362, 'hirsch': 4144, 'seymour': 3363, 'board': 1687, 'tarantino': 1688, 'arm': 1689, 'honesti': 1170, 'autumn': 3364, 'mere': 1690, 'duel': 3366, 'mancini': 2366, 'harder': 1691, 'pitt': 1171, 'volcano': 4124, 'grinchma': 2999, 'airplan': 2977, 'credibl': 604, 'comet': 2299, 'caffein': 3370, 'dress': 3371, 'oxymoron': 2465, 'spielberg': 1173, 'philip': 3372, 'paint': 1152, 'osmond': 3154, 'reommend': 4381, 'includ': 1174, 'long': 281, 'modesti': 3374, 'innov': 1920, 'womb': 4855, 'mother': 2364, 'chop': 1375, 'erica': 2297, 'stunk': 1694, 'gracia': 1695, 'knocker': 3589, 'willard': 3025, 'verma': 3376, 'carrey': 3210, 'good': 14, 'goos': 1698, 'filler': 3378, 'oilwel': 3379, 'ameli': 3380, 'certain': 3381, 'notic': 580, 'houston': 3040, 'sentri': 3383, 'durat': 3384, 'weep': 3385, 'record': 4825, 'ww': 1965, 'polish': 3386, 'deepli': 2303, 'entiti': 3388, 'denni': 4578, 'oberon': 4152, 'harlin': 2550, 'europ': 1699, 'francisco': 3389, 'hors': 1176, 'profound': 4482, 'bissel': 3390, 'canon': 3391, 'madsen': 4272, 'panavis': 3392, 'insist': 3457, 'schartzscop': 3393, 'au': 3394, 'culp': 1700, 'obviou': 1175, 'pay': 1012, 'huh': 1981, 'overr': 4795, 'eburn': 3726, 'splat': 3395, 'improv': 429, 'imit': 1178, 'distract': 769, 'templ': 3180, 'stalker': 1179, 'lobotomi': 3398, 'industrialist': 2504, 'white': 1784, 'hmmm': 4380, 'thinner': 3293, 'spot': 2457, 'merk': 228, 'picnic': 3402, 'cut': 377, 'freddi': 1963, 'sketch': 2003, 'decad': 463, 'notch': 1703, 'trait': 2642, 'canadian': 1181, 'smith': 3405, 'aficionado': 3406, 'laughter': 826, 'build': 1282, 'bridg': 3742, 'poor': 246, 'deep': 1183, 'rr': 3408, 'hotel': 2286, 'conserv': 3410, 'gambl': 3411, 'greatest': 2309, 'suck': 162, 'chacho': 3413, 'blab': 3414, 'crime': 582, 'gespenst': 3675, 'hold': 1706, 'landi': 3416, 'instanc': 1983, 'masoch': 3419, 'marc': 3420, 'fair': 1707, 'johan': 4626, 'landlord': 3421, 'saurabh': 3422, 'ask': 386, 'gone': 770, 'strang': 771, 'green': 3690, 'across': 1022, 'richard': 3423, 'join': 4187, 'tension': 1708, 'stereotyp': 4113, 'hollywood': 243, 'calibr': 3424, 'yahoo': 3425, 'ladi': 583, 'obscur': 772, 'trail': 3426, 'putain': 3427, 'scene': 76, 'dodo': 2601, 'forth': 3429, 'matter': 195, 'afternoon': 773, 'soccer': 3430, 'amen': 1709, 'obstacl': 4083, 'prop': 4453, 'maegi': 2616, 'recommend': 7, 'nativ': 3432, 'pet': 3433, 'poorli': 1710, 'foot': 1711, 'lewi': 2022, 'consciou': 4721, 'gangland': 3436, 'im': 3437, 'matin': 3438, 'expos': 1712, 'player': 775, 'fx': 1086, 'spectat': 1713, 'discothequ': 3440, 'nap': 3442, 'glib': 2293, 'azjazz': 1714, 'shut': 1186, 'familiar': 2079, 'scar': 2091, 'occur': 3444, 'emmanuel': 3445, 'hypnot': 3446, 'gori': 3447, 'rougher': 3448, 'guard': 3449, 'slide': 3450, 'maverick': 2516, 'comrad': 3451, 'reaction': 3452, 'within': 4295, 'gr': 3453, 'endear': 1189, 'prototyp': 2386, 'rock': 533, 'filmographi': 1718, 'man': 186, 'bhhaaaad': 3456, 'cheesiest': 3121, 'bullshit': 3458, 'eh': 1190, 'bruckheim': 3459, 'dribbl': 3115, 'bleeder': 3120, 'columbo': 3461, 'rebel': 1719, 'devour': 3462, 'hamilton': 3463, 'manur': 1720, 'bless': 584, 'brutal': 1721, 'messag': 522, 'report': 1722, 'remot': 1723, 'irk': 3465, 'way': 26, 'stain': 3466, 'fox': 1724, 'extraordinari': 951, 'weird': 585, 'simon': 3535, 'vietnam': 2144, 'becom': 3468, 'garnish': 3469, 'tween': 3470, 'correctli': 3471, 'wors': 124, 'bmoviefreak': 3472, 'nolt': 3473, 'cell': 3549, 'fever': 1044, 'shelf': 952, 'kelli': 3475, 'dire': 1191, 'declin': 3476, 'apologis': 3477, 'gap': 3478, 'lead': 724, 'finish': 303, 'tribut': 1192, 'teas': 3480, 'boom': 3481, 'nomad': 3482, 'head': 358, 'pop': 2215, 'minded': 3484, 'conscious': 3485, 'timer': 3486, 'typecast': 3487, 'amrapurkar': 3228, 'controversi': 3488, 'post': 1136, 'contradict': 1727, 'verhoeven': 4638, 'defi': 3490, 'journey': 675, 'appl': 1195, 'pendleton': 2245, 'wholeheartedli': 1196, 'americana': 3493, 'sleev': 1728, 'basement': 1729, 'argentina': 3494, 'realiz': 1197, 'transplant': 4644, 'dexadrin': 2273, 'hogwash': 1198, 'franklin': 3496, 'render': 3497, 'weverka': 3498, 'rite': 3499, 'hasselhoff': 3500, 'aag': 3501, 'former': 3502, 'critic': 674, 'catchi': 3503, 'timothi': 2315, 'trash': 125, 'putz': 4049, 'stoog': 2884, 'awe': 3507, 'tnt': 3508, 'hire': 3704, 'scanner': 1730, 'villa': 3078, 'support': 870, 'nutshel': 3511, 'teen': 3512, 'speech': 2359, 'spellbound': 4641, 'cavalri': 3514, 'heck': 2367, 'lip': 1731, 'jewelri': 3516, 'fenton': 3517, 'washer': 3518, 'wake': 1732, 'bump': 2399, 'priceless': 776, 'esteem': 3217, 'columbia': 3107, 'due': 3522, 'scarier': 1199, 'alia': 3523, 'jacki': 1733, 'solitud': 3524, 'hammi': 1734, 'septemb': 1200, 'larissa': 3526, 'professor': 1480, 'airwolf': 2444, 'event': 777, 'kingdom': 2447, 'qualiti': 196, 'mcguir': 3528, 'dave': 3529, 'challeng': 566, 'renard': 3530, 'stinker': 586, 'wwii': 1201, 'jungl': 3331, 'strong': 1736, 'coaster': 3533, 'dimens': 1737, 'anybodi': 1738, 'chamber': 3534, 'databas': 2948, 'counterpart': 3536, 'feat': 3537, 'monster': 1202, 'journalist': 3539, 'vermin': 3540, 'retread': 3541, 'syndrom': 1203, 'noteworthi': 3542, 'run': 216, 'bottl': 1739, 'pretend': 4808, 'psycho': 3543, 'jud': 4178, 'connor': 4112, 'miller': 1740, 'demis': 1741, 'entangl': 3942, 'ever': 28, 'outcom': 3545, 'idiosyncrat': 2554, 'segment': 1552, 'anyth': 175, 'form': 361, 'room': 676, 'visual': 953, 'bag': 1204, 'iq': 2571, 'reward': 387, 'guarante': 677, 'robot': 3550, 'inquisit': 2580, 'kvell': 3552, 'conveni': 1742, 'process': 1743, 'frankenstein': 2423, 'free': 954, 'cunnilingu': 3553, 'vancouv': 3928, 'everybodi': 955, 'respons': 3554, 'medium': 3555, 'let': 304, 'competit': 3556, 'format': 778, 'lover': 229, 'markov': 3557, 'melt': 3558, 'vachon': 2627, 'humor': 217, 'navidad': 3560, 'swing': 3561, 'hum': 1744, 'encrypt': 3191, 'sloppi': 1205, 'agoni': 1745, 'beach': 3562, 'appli': 1206, 'reveng': 956, 'crappi': 3563, 'goofi': 3564, 'burst': 3565, 'music': 118, 'circl': 3566, 'aloha': 2670, 'procur': 3568, 'awhil': 1746, 'deliver': 2681, 'resourc': 3571, 'member': 3721, 'inconsequenti': 3245, 'indigest': 1747, 'fishburn': 3574, 'major': 3575, 'blunt': 3576, 'mb': 3577, 'rout': 3316, 'brighter': 3579, 'lester': 3580, 'proport': 3581, 'think': 45, 'concur': 3582, 'housew': 3583, 'guy': 244, 'psycholog': 3584, 'demonicu': 3585, 'media': 1208, 'bird': 3586, 'junkyard': 2772, 'fabul': 1748, 'byyyyyyyyeeee': 3588, 'petersson': 2716, 'odin': 3590, 'cinematopghaphi': 2783, 'telemundo': 3592, 'gorefest': 3593, 'ten': 91, 'disgust': 957, 'arsonist': 3209, 'landfil': 2801, 'breathtak': 1750, 'doubl': 1751, 'unknown': 3596, 'underst': 3597, 'chaplin': 3598, 'abl': 1120, 'rollin': 1752, 'issu': 4657, 'pray': 3600, 'rudolph': 3397, 'german': 4211, 'shirt': 1209, 'waqt': 3602, 'beneath': 3243, 'slasher': 1211, 'blondel': 3603, 'talk': 219, 'magorian': 3083, 'mania': 3605, 'that': 868, 'stand': 958, 'glove': 1753, 'tie': 1754, 'grim': 1563, 'renew': 1564, 'teach': 1876, 'guidanc': 3002, 'lilli': 3610, 'releas': 110, 'castl': 1212, 'endless': 4659, 'boredom': 3611, 'unforgiv': 3727, 'beard': 3612, 'wit': 779, 'success': 388, 'marathon': 2802, 'ugli': 959, 'shit': 2337, 'suxor': 3614, 'plenti': 1758, 'liz': 1759, 'sacrileg': 3615, 'forgiv': 678, 'front': 1760, 'mourn': 3218, 'wooofff': 2784, 'ground': 780, 'persuas': 3619, 'bordeaux': 3620, 'els': 54, 'tite': 3621, 'freak': 4688, 'pull': 1213, 'code': 3623, 'mann': 3400, 'slant': 1532, 'closur': 3625, 'crisi': 4662, 'flamboy': 3626, 'scoobi': 3627, 'beauti': 149, 'dumber': 3628, 'bladerunn': 3629, 'bloom': 3037, 'hallelujah': 3730, 'nephew': 3631, 'enemi': 1215, 'kornman': 3632, 'environ': 1216, 'sar': 3633, 'prehistor': 3634, 'demi': 3635, 'cusamano': 2487, 'relax': 1762, 'polic': 3636, 'sorcia': 3637, 'yippeee': 3638, 'luca': 1764, 'coffe': 1765, 'refin': 3639, 'cemeteri': 1628, 'light': 587, 'artagnan': 3640, 'deservedli': 1631, 'hardli': 1767, 'skidoo': 3642, 'nada': 3643, 'meaning': 1045, 'iberica': 3645, 'solino': 3646, 'likelihood': 3647, 'frenchman': 4573, 'upsid': 1768, 'closest': 3648, 'sens': 245, 'plate': 3129, 'prison': 1769, 'rod': 3824, 'copyright': 3650, 'kind': 505, 'feminin': 1770, 'task': 1771, 'intellig': 588, 'grasp': 960, 'warthog': 3651, 'anywher': 781, 'scan': 3652, 'understood': 1772, 'worthless': 666, 'lee': 679, 'diamantino': 3653, 'favour': 3349, 'quickli': 506, 'inc': 3655, 'prais': 1217, 'dcom': 4202, 'gal': 3657, 'visit': 1776, 'overboard': 1661, 'anger': 2790, 'skier': 3660, 'camouflag': 2224, 'croydon': 3662, 'explain': 782, 'patho': 1777, 'otranto': 3663, 'canada': 950, 'lembach': 2410, 'drunk': 1778, 'funnier': 639, 'comed': 4667, 'glori': 1218, 'lithgow': 3256, 'scienc': 1219, 'basi': 2767, 'stir': 3908, 'sitcom': 1220, 'snoozefest': 2793, 'feel': 179, 'result': 430, 'carradin': 4617, 'denmark': 1781, 'corp': 3276, 'renaiss': 3668, 'debat': 1221, 'circa': 1646, 'homophobia': 3736, 'ghilli': 3670, 'cancel': 1222, 'filmmak': 589, 'backbit': 3671, 'chronicl': 1782, 'certainli': 1223, 'menac': 3672, 'road': 681, 'ant': 3467, 'bark': 3674, 'realli': 139, 'masterwork': 4627, 'disown': 3439, 'mindwalk': 3676, 'vehicl': 3677, 'india': 3678, 'subdu': 3679, 'tonight': 1783, 'custom': 3681, 'hawaii': 3682, 'mulan': 3683, 'destini': 1224, 'stick': 1157, 'skunk': 3684, 'philosophi': 1701, 'engag': 507, 'yech': 3685, 'marriag': 1182, 'stop': 508, 'gigli': 3687, 'stove': 3688, 'return': 624, 'deliri': 949, 'fact': 464, 'grin': 3691, 'slug': 3567, 'zero': 306, 'underground': 3692, 'unsettl': 3953, 'romero': 3435, 'noth': 204, 'quick': 1785, 'franc': 683, 'connect': 684, 'amick': 3693, 'japan': 1786, 'evalu': 1225, 'linger': 1787, 'spawn': 3694, 'unforgett': 655, 'dynam': 3695, 'rees': 3595, 'scoop': 3697, 'characterist': 3698, 'siempr': 4785, 'natur': 785, 'towel': 3700, 'bat': 3701, 'gear': 3702, 'pedestrian': 3703, 'vaniti': 3509, 'pant': 3705, 'wormhol': 3706, 'gestur': 3707, 'appet': 3708, 'fellow': 4586, 'fiber': 3709, 'groin': 3527, 'unreal': 3711, 'traci': 2352, 'lurid': 3713, 'xx': 964, 'engin': 1788, 'barrymor': 3715, 'disord': 3716, 'victim': 1227, 'recognit': 3717, 'flag': 3718, 'stock': 1228, 'legaci': 965, 'propaganda': 2048, 'watson': 1789, 'feal': 2302, 'warhol': 3720, 'klaveno': 3689, 'list': 130, 'carlottai': 3722, 'amateurish': 4546, 'winkler': 3723, 'project': 431, 'kill': 279, 'ann': 3725, 'bush': 1790, 'mustan': 3606, 'par': 1756, 'poster': 3728, 'fire': 510, 'romania': 3729, 'okay': 171, 'despaaaaaair': 4608, 'imperi': 3731, 'marmit': 3732, 'move': 334, 'hustl': 3733, 'imo': 1230, 'sexploit': 3735, 'sg': 1792, 'videodisc': 3669, 'farrel': 3737, 'drawer': 3738, 'sexi': 1793, 'furdion': 2206, 'contact': 3876, 'cb': 3740, 'prioriti': 3741, 'relic': 1704, 'cring': 1982, 'spin': 1232, 'bait': 1794, 'dumb': 511, 'london': 1233, 'rotter': 2864, 'perfectli': 1234, 'ether': 3746, 'congratul': 1235, 'candid': 1231, 'littl': 335, 'van': 4450, 'rental': 307, 'ham': 4771, 'bummer': 3272, 'heard': 590, 'thrift': 3749, 'thirst': 3750, 'reynold': 3751, 'ho': 1796, 'graaff': 3752, 'carcass': 3753, 'jr': 787, 'pap': 3754, 'alik': 432, 'bocka': 3755, 'steroid': 4199, 'triumph': 3274, 'outrag': 3756, 'haircut': 3757, 'dash': 3886, 'linfield': 3758, 'lure': 3760, 'consensu': 3142, 'rheostat': 3762, 'vanish': 3763, 'safe': 1798, 'roberta': 3764, 'fame': 1236, 'caught': 3765, 'stunt': 3766, 'wrong': 111, 'biographi': 2368, 'akin': 3768, 'spend': 1237, 'mexico': 3769, 'welcom': 751, 'stephen': 3771, 'smackdown': 2404, 'gimmeclass': 1799, 'attenborough': 3773, 'injustic': 3774, 'love': 33, 'awak': 1238, 'ring': 967, 'jason': 1828, 'cameo': 1239, 'psp': 4161, 'slack': 3775, 'saget': 3131, 'depict': 1252, 'bob': 1801, 'franz': 3778, 'wink': 3224, 'simpl': 788, 'thoma': 4684, 'garvin': 3781, 'netherland': 1802, 'despair': 1240, 'rockarol': 3782, 'abduct': 2414, 'bajillion': 3784, 'glenda': 2739, 'kelvin': 2606, 'fine': 685, 'less': 283, 'forgotten': 284, 'undergar': 3786, 'societi': 389, 'wood': 969, 'sack': 1485, 'preciou': 3787, 'one': 4, 'logic': 1805, 'liiiiiiiiif': 3788, 'aladdin': 3789, 'joy': 1241, 'lost': 433, 'careless': 3790, 'crawford': 3791, 'neg': 1806, 'mobocraci': 3343, 'tale': 466, 'clever': 3792, 'mysteri': 364, 'eventid': 3794, 'hopewel': 3795, 'icki': 3796, 'yard': 3797, 'fold': 1807, 'cheap': 970, 'sheesh': 1808, 'arrang': 1809, 'tb': 2211, 'constantli': 3798, 'grant': 1242, 'charmingli': 3799, 'unconvinc': 3800, 'journeymen': 3802, 'describ': 2957, 'piec': 308, 'forgett': 686, 'sturg': 3804, 'time': 3, 'ringmast': 3805, 'concept': 1810, 'caution': 1243, 'gave': 172, 'tryfon': 2416, 'portug': 2369, 'barrel': 987, 'maddern': 3809, 'hankerchief': 3810, 'freeman': 3282, 'cute': 1896, 'ireland': 3813, 'venger': 3814, 'repeatedli': 3815, 'idea': 285, 'appendag': 3072, 'intens': 992, 'thomsen': 3761, 'possess': 3284, 'chow': 1811, 'excel': 136, 'seal': 3334, 'thankyou': 3819, 'hilton': 3820, 'expel': 3821, 'ail': 3822, 'russia': 3823, 'drek': 2822, 'snorer': 4228, 'empathi': 1812, 'grave': 1321, 'river': 1813, 'web': 4690, 'april': 996, 'knudsen': 4239, 'swedish': 3827, 'mayo': 3828, 'york': 3829, 'roof': 1634, 'casablanca': 3831, 'gratifi': 3832, 'real': 286, 'merlot': 3833, 'hit': 434, 'thoroughli': 3834, 'architectur': 4449, 'se': 1735, 'undistinguish': 3835, 'small': 688, 'reunion': 3837, 'input': 3838, 'indulg': 3839, 'centuri': 230, 'hoast': 3840, 'labyrinth': 3841, 'disast': 467, 'horrorfest': 1815, 'get': 49, 'monstervis': 3842, 'overal': 342, 'garden': 3843, 'farm': 4426, 'park': 3844, 'concern': 591, 'hug': 1245, 'vampir': 1246, 'menstruat': 3845, 'dub': 1816, 'follywood': 4331, 'wiskey': 3365, 'palmer': 4344, 'entri': 1819, 'asid': 3616, 'cgi': 3848, 'shoot': 3525, 'rerun': 3851, 'situat': 287, 'sing': 512, 'larocca': 3852, 'twice': 1247, 'werewolf': 4695, 'enthusiast': 790, 'reno': 3853, 'sulli': 3854, 'tho': 1821, 'job': 163, 'dustbin': 3855, 'trust': 818, 'lm': 2812, 'bomb': 391, 'stewart': 973, 'haha': 2039, 'fridg': 3858, 'diplomaci': 3859, 'electr': 4268, 'porter': 3861, 'dutch': 3862, 'lethal': 4237, 'bass': 3863, 'g': 1824, 'soho': 3864, 'dice': 3865, 'clear': 592, 'realist': 791, 'hornomania': 3866, 'scandal': 1825, 'insle': 3867, 'liaison': 3868, 'cover': 792, 'remain': 3869, 'thanx': 3870, 'creation': 2055, 'crowd': 1014, 'sorin': 2620, 'script': 173, 'sarcasm': 1826, 'dealer': 3874, 'tenant': 3875, 'opportun': 593, 'angri': 974, 'gasbag': 3559, 'forrest': 1827, 'nomin': 3877, 'footprint': 3878, 'potato': 3879, 'weak': 829, 'sirbossman': 3881, 'bond': 1248, 'adrian': 3882, 'hermit': 3883, 'clarifi': 3884, 'synagogu': 3885, 'witti': 2939, 'promot': 2318, 'chili': 3888, 'mandatori': 3889, 'complex': 968, 'jacob': 3890, 'derek': 3891, 'fella': 3892, 'consequ': 3222, 'wholesom': 3377, 'earth': 468, 'schnook': 3895, 'suffici': 1829, 'flix': 1830, 'band': 1831, 'convent': 1832, 'enchant': 1249, 'drew': 3897, 'gulp': 3871, 'alpo': 3898, 'zuf': 3899, 'artwork': 3900, 'morgia': 4704, 'spider': 3902, 'superman': 1834, 'base': 1250, 'humperdink': 3199, 'ishtar': 3904, 'simpson': 3905, 'antic': 3246, 'powerhous': 3907, 'horribbl': 2563, 'infecti': 4618, 'blonder': 3909, 'ripoff': 1835, 'reveal': 2573, 'civil': 3911, 'inspir': 336, 'refer': 1251, 'perkin': 3912, 'item': 1836, 'nwh': 3913, 'hoot': 821, 'ducktal': 3777, 'patricia': 3914, 'risk': 392, 'excit': 689, 'funer': 4248, 'date': 260, 'inform': 1351, 'wrought': 3916, 'answer': 975, 'baldwin': 3917, 'enraptur': 3919, 'inde': 337, 'link': 3039, 'pacino': 3921, 'poop': 4651, 'inimit': 3922, 'amaz': 288, 'nepal': 1838, 'dumbass': 3710, 'ryan': 3923, 'phenomen': 3924, 'misfir': 976, 'hietala': 3375, 'voic': 1165, 'barki': 1839, 'dentist': 1253, 'furiou': 4027, 'satisfi': 360, 'phew': 2830, 'impos': 3930, 'vol': 3931, 'behind': 1363, 'occurr': 3933, 'incorrect': 3934, 'print': 977, 'warrant': 1840, 'vey': 4252, 'rip': 435, 'scope': 3936, 'acid': 3937, 'spade': 1841, 'puff': 2321, 'line': 261, 'luciano': 3939, 'ganz': 3940, 'romanian': 3941, 'tape': 711, 'rainmak': 3943, 'canyon': 1842, 'cube': 3944, 'bagatel': 3945, 'mouth': 793, 'jeez': 3946, 'i': 3947, 'airport': 2388, 'shower': 1376, 'mood': 393, 'design': 3949, 'ship': 1378, 'hell': 318, 'age': 106, 'ex': 1843, 'actress': 436, 'weirdo': 2155, 'besid': 2159, 'locker': 2162, 'flee': 2164, 'equal': 1255, 'boy': 594, 'russwil': 3954, 'dreamgirl': 3955, 'genuin': 3956, 'upset': 1844, 'cowgirl': 4581, 'realis': 1049, 'wilkerson': 3958, 'colleagu': 2220, 'necessari': 979, 'adult': 595, 'primit': 3428, 'popular': 701, 'std': 3020, 'curti': 3961, 'hehe': 1350, 'bw': 3962, 'unconvent': 3826, 'crumbl': 3964, 'govern': 1258, 'attack': 1259, 'despic': 2841, 'agaaaain': 4275, 'amateurishli': 3965, 'texan': 3966, 'prophet': 3967, 'lift': 3968, 'stomach': 980, 'kitchen': 3969, 'condens': 3970, 'hand': 231, 'carmen': 1846, 'hoffman': 3654, 'brand': 3971, 'drink': 1847, 'caricatur': 981, 'cheek': 3973, 'outer': 3177, 'postal': 1848, 'robbi': 2317, 'trek': 3975, 'trout': 3976, 'reviv': 2844, 'screenplay': 982, 'better': 15, 'tuck': 3978, 'station': 1850, 'unlearn': 3979, 'knight': 3980, 'rose': 3981, 'saxon': 4589, 'breviti': 3982, 'pain': 311, 'emul': 3983, 'boob': 3984, 'data': 4001, 'programm': 4815, 'testicl': 2983, 'germani': 3283, 'magic': 394, 'violenc': 339, 'horroryearbook': 2373, 'flemyng': 3987, 'odd': 2745, 'mc': 3989, 'cincinnati': 4318, 'squalor': 2617, 'peter': 1260, 'mediocr': 871, 'outstand': 513, 'med': 3991, 'asleep': 690, 'sentinel': 3992, 'min': 692, 'hee': 3993, 'wonderland': 1076, 'maillot': 2420, 'voyag': 1593, 'impli': 4716, 'carv': 3699, 'morgan': 3997, 'wheeeew': 3998, 'boobag': 3124, 'statur': 4000, 'cup': 3046, 'swear': 4824, 'ocar': 4002, 'choos': 547, 'honestli': 1853, 'louisiana': 4004, 'pilot': 4005, 'miss': 18, 'next': 312, 'storm': 4007, 'thieveri': 4008, 'underr': 1262, 'superstar': 4009, 'graveyard': 4010, 'defam': 4011, 'ok': 514, 'stewardess': 4012, 'laputa': 4013, 'watch': 5, 'searcher': 4014, 'duplic': 4015, 'fountainhead': 4016, 'choreographi': 4017, 'gymnast': 4018, 'uneas': 4270, 'experi': 92, 'award': 396, 'pink': 4019, 'agn': 4020, 'spontan': 4271, 'attach': 1263, 'katrina': 4023, 'slow': 4024, 'entertain': 22, 'moran': 4025, 'offend': 2030, 'today': 53, 'cheapli': 4028, 'shed': 2848, 'evilest': 4029, 'titti': 3925, 'everyth': 469, 'ninja': 983, 'comatos': 2565, 'whore': 3896, 'behold': 4032, 'grandmoth': 4033, 'vomit': 796, 'accid': 3301, 'kumar': 3352, 'gauntlet': 3138, 'guest': 3686, 'dude': 1264, 'toxin': 2605, 'hate': 247, 'genr': 81, 'sayang': 4038, 'number': 597, 'plausibl': 4039, 'rack': 4040, 'persona': 4663, 'aplomb': 3520, 'dentro': 3329, 'banal': 3310, 'commun': 691, 'attract': 1448, 'bottom': 1265, 'spice': 3330, 'bent': 3569, 'colleg': 4045, 'stink': 797, 'key': 2885, 'posit': 1261, 'excellent': 4047, 'plan': 1857, 'mon': 4048, 'brazil': 1858, 'perhap': 1267, 'pantalino': 4034, 'ziba': 2680, 'loop': 1851, 'outright': 4277, 'joyless': 1516, 'hide': 1518, 'hokum': 4051, 'willi': 4052, 'charisma': 3455, 'korea': 2710, 'todesk': 4054, 'black': 798, 'inert': 3065, 'cooker': 4055, 'avoid': 31, 'freed': 4790, 'chore': 4056, 'sub': 3227, 'fier': 4058, 'bar': 1860, 'monsterfest': 4059, 'naught': 4060, 'meretrici': 4061, 'boz': 4062, 'commer': 4787, 'side': 470, 'blalock': 4063, 'also': 471, 'loud': 810, 'valu': 220, 'artefact': 4064, 'leari': 1861, 'italian': 1472, 'advanc': 812, 'crp': 4066, 'nowaday': 1117, 'thnk': 4068, 'beforehand': 1863, 'fiend': 197, 'terror': 1864, 'strip': 4069, 'town': 657, 'merit': 365, 'foil': 4071, 'heal': 4656, 'grip': 4072, 'sad': 221, 'treat': 366, 'macdowel': 4073, 'screw': 1866, 'earli': 515, 'foster': 1352, 'robert': 4074, 'atlanti': 1867, 'page': 4075, 'late': 397, 'hard': 944, 'boxset': 4076, 'alpha': 4077, 'outcast': 4078, 'chanc': 100, 'overcom': 1270, 'author': 1868, 'inventori': 4079, 'melissa': 4080, 'overlook': 1271, 'reel': 1869, 'follow': 340, 'featur': 437, 'flop': 516, 'prefer': 800, 'quicki': 1870, 'particular': 4081, 'argu': 4082, 'left': 801, 'construct': 1871, 'fanat': 1272, 'wallet': 1872, 'sacrific': 1873, 'written': 341, 'melbourn': 1833, 'wear': 1874, 'widescreen': 4085, 'hooray': 4086, 'bill': 1845, 'bucket': 4143, 'dmd': 4088, 'agre': 438, 'oz': 4732, 'brando': 4791, 'cross': 4549, 'poignant': 1500, 'swordplay': 4089, 'consum': 1877, 'bare': 1273, 'art': 180, 'shimmi': 4090, 'breaker': 4091, 'jim': 3113, 'unfortun': 693, 'imamura': 3666, 'mindf': 3811, 'danger': 923, 'roth': 4094, 'gere': 3041, 'convinc': 1670, 'fukushima': 4096, 'offens': 1879, 'copi': 227, 'lebrock': 4099, 'transit': 2427, 'aargh': 4287, 'grushenka': 4101, 'name': 174, 'caus': 985, 'australian': 4103, 'funney': 4104, 'videogam': 4105, 'charmer': 4106, 'us': 95, 'brian': 3091, 'cholera': 4108, 'afraid': 424, 'fi': 4110, 'nakata': 4111, 'quot': 1875, 'lousi': 1145, 'tortuga': 3407, 'milk': 1880, 'pint': 3348, 'dalton': 1274, 'inaccuraci': 1275, 'sarandon': 4114, 'modest': 4115, 'oomph': 4116, 'ds': 4117, 'keep': 1881, 'constitut': 3434, 'noir': 803, 'ape': 3314, 'mean': 187, 'sigh': 1882, 'tab': 2437, 'flat': 804, 'sword': 3184, 'mani': 600, 'punk': 1884, 'desir': 1885, 'uncomfort': 1886, 'laugh': 56, 'nostalg': 4823, 'assign': 4119, 'courag': 4120, 'howl': 4121, 'natali': 4122, 'ghost': 1715, 'knock': 1888, 'wkrp': 3972, 'roadi': 4125, 'gothic': 3369, 'riot': 601, 'nl': 4126, 'soldier': 986, 'athey': 4127, 'smile': 519, 'literatur': 1889, 'label': 1276, 'involuntarili': 3806, 'meal': 4737, 'opera': 805, 'basic': 1674, 'superbad': 4129, 'fraud': 4130, 'html': 694, 'clown': 4131, 'wiser': 3294, 'theatr': 806, 'misnam': 4371, 'reed': 4134, 'slowli': 4135, 'lord': 1890, 'nevada': 4136, 'monkey': 1681, 'hanki': 3808, 'crew': 398, 'nation': 1586, 'hulk': 3333, 'unbear': 3338, 'gari': 1468, 'killer': 520, 'crypt': 4741, 'auteur': 1277, 'tt': 1725, 'storylin': 1892, 'lullabi': 1893, 'lesser': 4142, 'revolutionari': 3198, 'impress': 289, 'mayhem': 4138, 'bruckhiem': 4145, 'uplift': 1894, 'dvd': 41, 'finlay': 4147, 'crowley': 4148, 'reak': 4149, 'wild': 1278, 'ocean': 3193, 'site': 988, 'minut': 68, 'cop': 2090, 'bsg': 3667, 'term': 989, 'hatton': 4153, 'human': 367, 'costum': 990, 'survivor': 4154, 'fortnight': 4155, 'bias': 4156, 'troubl': 1279, 'crapola': 4157, 'wing': 4158, 'draft': 4159, 'compens': 3974, 'poorer': 4162, 'presid': 1895, 'silli': 572, 'power': 390, 'fast': 807, 'longer': 808, 'categoryanswerman': 4164, 'pruitt': 4165, 'racist': 4166, 'door': 991, 'freddyshoop': 4167, 'murder': 529, 'subtleti': 4168, 'recycl': 4169, 'given': 696, 'anna': 4170, 'pinnochio': 3354, 'venic': 4171, 'fest': 697, 'war': 262, 'legend': 1897, 'oversea': 4172, 'bun': 4173, 'new': 809, 'toilet': 4174, 'materi': 333, 'frequent': 4176, 'discuss': 1280, 'boppana': 4177, 'invis': 1898, 'b': 104, 'inquisitor': 4747, 'sign': 1281, 'reput': 757, 'colombo': 4179, 'without': 523, 'rather': 4180, 'johnson': 4181, 'cowardic': 4182, 'slightest': 1899, 'overkil': 3326, 'confidenti': 4496, 'wilson': 4183, 'evolv': 1900, 'statist': 4184, 'migrain': 4185, 'dang': 4186, 'brandi': 2419, 'beliv': 1901, 'nihil': 3801, 'among': 4188, 'rabbit': 4189, 'destroy': 993, 'artifici': 4190, 'tilli': 3617, 'reccommend': 4191, 'pein': 4192, 'cv': 4193, 'greenhous': 3460, 'teaser': 4194, 'grudg': 3950, 'enviou': 4196, 'renter': 4197, 'wrap': 767, 'state': 698, 'syfi': 3418, 'unkind': 4200, 'mccarthi': 4201, 'hmmmm': 3656, 'arbuckl': 2202, 'half': 222, 'johnston': 4204, 'sync': 4205, 'epic': 1031, 'bergman': 1902, 'shark': 3818, 'articl': 4208, 'jmv': 4209, 'buri': 2561, 'god': 462, 'bangla': 4210, 'peopl': 74, 'butcher': 3996, 'doozi': 1226, 'pwnz': 4212, 'pakistan': 4213, 'dunst': 4214, 'hitchcock': 4215, 'introduct': 1904, 'piper': 4216, 'fido': 4217, 'regard': 1283, 'similar': 1905, 'complain': 1906, 'concert': 4257, 'mulch': 4219, 'shaq': 2541, 'p': 345, 'plot': 150, 'priest': 3608, 'louis': 3770, 'disappear': 1908, 'picutr': 3572, 'size': 2062, 'encor': 2708, 'grind': 4624, 'tree': 1909, 'rejoic': 4224, 'attent': 263, 'near': 699, 'zwrite': 4225, 'timeless': 994, 'pile': 1284, 'victor': 1910, 'appeal': 700, 'cinematograph': 4226, 'carrier': 4227, 'upon': 1285, 'bud': 4610, 'lunat': 2982, 'cd': 713, 'rocki': 1911, 'capric': 4230, 'tock': 4231, 'repuls': 4232, 'shortchang': 4233, 'seri': 90, 'thunderossa': 4234, 'consist': 1286, 'tit': 4235, 'prime': 995, 'mole': 1912, 'perfect': 188, 'judg': 362, 'faint': 3910, 'eddi': 3367, 'figur': 400, 'willpow': 4240, 'bachchan': 4241, 'quaker': 3368, 'jaw': 4243, 'quall': 4244, 'eggert': 4245, 'compromis': 1913, 'downhil': 963, 'armi': 4247, 'usa': 1287, 'hitch': 3915, 'speechless': 4249, 'exercis': 1914, 'greas': 4250, 'etc': 290, 'stardom': 4251, 'shill': 3935, 'paradis': 4253, 'defend': 4254, 'drago': 3830, 'embarrass': 811, 'fault': 2610, 'interest': 88, 'gleam': 4259, 'sophomor': 4260, 'elit': 4261, 'boil': 1791, 'ash': 3873, 'laughabl': 1288, 'glad': 291, 'altar': 2467, 'godfath': 4264, 'charcter': 4139, 'yuck': 997, 'toast': 3538, 'wilk': 4266, 'chicken': 4267, 'nauseat': 2621, 'statham': 2990, 'knew': 1854, 'spike': 4021, 'week': 472, 'travolta': 2692, 'ron': 4273, 'palac': 4274, 'infin': 3214, 'lot': 292, 'sarcast': 2761, 'guess': 473, 'oblivion': 1289, 'vanderbeek': 4050, 'jaqui': 4030, 'like': 11, 'switch': 4279, 'candl': 4280, 'nut': 1862, 'lincoln': 1995, 'pie': 1479, 'nonetheless': 813, 'star': 10, 'iguana': 4283, 'youth': 998, 'fare': 1918, 'draw': 4284, 'churchil': 4285, 'comprehens': 1290, 'crayola': 4286, 'turret': 4137, 'yo': 1291, 'ear': 1919, 'expect': 309, 'blow': 493, 'proudli': 3321, 'share': 556, 'ebook': 3506, 'ride': 248, 'armstrong': 4290, 'vacat': 1572, 'imho': 814, 'uncl': 1921, 'fresh': 1922, 'jacket': 1923, 'wish': 702, 'provok': 1924, 'appear': 401, 'mention': 622, 'exploit': 1573, 'dug': 4292, 'statement': 1926, 'holli': 1927, 'schildkraut': 4293, 'ingeni': 3860, 'seriou': 789, 'parker': 4625, 'hurri': 1928, 'planet': 605, 'global': 4296, 'treatment': 999, 'atmospher': 1000, 'discov': 4297, 'market': 815, 'scott': 602, 'season': 182, 'virtu': 4474, 'internet': 1930, 'hanahan': 4299, 'rennt': 4719, 'shrek': 1931, 'pornostalgia': 4300, 'devin': 4665, 'tear': 816, 'window': 1001, 'punish': 1292, 'battl': 1917, 'weapon': 1293, 'v': 402, 'scorpio': 4302, 'volum': 1932, 'achiev': 703, 'wa': 4303, 'categori': 704, 'q': 606, 'completist': 439, 'lunchtim': 4304, 'face': 264, 'darklight': 4305, 'netflix': 1294, 'mordrid': 4306, 'dialogu': 673, 'regardless': 4307, 'pool': 1933, 'heroism': 1934, 'prejudic': 946, 'sandman': 3887, 'hill': 1935, 'sale': 1936, 'forgiven': 1937, 'coy': 4308, 'paper': 4310, 'emma': 1938, 'enjoy': 8, 'bulli': 1939, 'territori': 1940, 'credit': 310, 'thin': 1941, 'barf': 1942, 'atroci': 1943, 'highlight': 705, 'path': 1295, 'doubt': 403, 'snake': 4311, 'trebek': 4312, 'frasier': 4621, 'geoff': 4313, 'depart': 1944, 'rent': 96, 'crise': 4315, 'hair': 1296, 'oh': 4516, 'ego': 4203, 'yam': 4316, 'spoiler': 817, 'address': 1945, 'balanc': 1297, 'stupid': 524, 'judgment': 1002, 'sandwich': 1946, 'sud': 2748, 'group': 1269, 'ehl': 4319, 'ye': 474, 'pronto': 4324, 'outa': 4320, 'mundi': 4321, 'misplac': 4322, 'whatsoev': 607, 'torn': 4323, 'girlfriend': 935, 'deal': 475, 'gib': 4325, 'vaudevil': 4326, 'gate': 4327, 'intervent': 4328, 'cameron': 1947, 'daniel': 1948, 'math': 4329, 'object': 1949, 'unsupris': 4330, 'yup': 3505, 'cabal': 4333, 'joki': 4334, 'cage': 4276, 'junk': 293, 'tierney': 4336, 'c': 157, 'schmid': 4545, 'stinkpot': 4337, 'motorcycl': 4218, 'sed': 4339, 'nice': 404, 'arthur': 706, 'jbc': 4772, 'angel': 927, 'cuisin': 3029, 'begin': 405, 'owl': 4341, 'godaw': 4342, 'firefli': 1952, 'spiritu': 4343, 'viabl': 4345, 'hart': 4346, 'premis': 4347, 'test': 1953, 'uglier': 4348, 'sequenc': 1003, 'moonstruck': 1954, 'heavili': 4349, 'comparison': 608, 'execut': 717, 'cosmo': 4351, 'unexpectedli': 4352, 'verdict': 1004, 'progress': 1955, 'tanner': 4353, 'mari': 4354, 'fertil': 4355, 'tend': 4356, 'tasteless': 3847, 'mjh': 4358, 'passion': 1005, 'biopic': 4359, 'master': 1535, 'needless': 4361, 'actual': 1185, 'turtl': 4362, 'ill': 2912, 'fu': 1957, 'definit': 609, 'holocaust': 4364, 'doa': 4365, 'cameroon': 4366, 'advertis': 4687, 'democraci': 4367, 'grinder': 4368, 'tug': 4263, 'promis': 476, 'newcom': 4369, 'presenc': 1958, 'mistak': 343, 'pearl': 1959, 'separ': 4098, 'mcbain': 4370, 'freeway': 2883, 'hanna': 4372, 'control': 966, 'nietzsch': 4373, 'step': 1961, 'known': 707, 'clueless': 4374, 'second': 420, 'exec': 3759, 'hjm': 4377, 'ustinov': 4378, 'push': 1962, 'rememb': 294, 'indian': 2081, 'exot': 1964, 'pad': 4382, 'militari': 4383, 'bunch': 2089, 'hunt': 610, 'partner': 1775, 'anthoni': 4385, 'ford': 4386, 'portfolio': 4387, 'camera': 708, 'backdrop': 1007, 'shelv': 1298, 'gawd': 3387, 'februari': 4388, 'reject': 4389, 'kattan': 4390, 'turkey': 329, 'roadkil': 4392, 'packag': 1008, 'schnitz': 1966, 'inflict': 4393, 'pocket': 4394, 'bleak': 4395, 'l': 1967, 'waffl': 2137, 'grrrr': 4397, 'reflect': 4398, 'toler': 1299, 'leza': 4399, 'e': 4400, 'death': 313, 'jackman': 1968, 'mathematician': 4401, 'sixti': 4402, 'diari': 1969, 'condit': 1300, 'sublim': 4779, 'hackney': 4403, 'putti': 2138, 'scrat': 1971, 'true': 265, 'mash': 4404, 'characteris': 4405, 'ugh': 611, 'mortal': 1972, 'omelett': 4406, 'roll': 477, 'boll': 1301, 'mold': 4407, 'asia': 4441, 'slave': 4408, 'rjt': 4409, 'woah': 2174, 'yugoslavia': 4411, 'pedophil': 4412, 'acin': 4413, 'thompson': 1391, 'spent': 1009, 'abysm': 1973, 'hddc': 4685, 'tivo': 2185, 'loos': 1974, 'f': 126, 'cw': 4416, 'purpl': 4492, 'poem': 4417, 'hooper': 1975, 'jessica': 4418, 'horrifi': 4419, 'finest': 1010, 'singer': 4006, 'aris': 1976, 'terrifi': 4420, 'complet': 709, 'flashback': 2223, 'tanaka': 3578, 'topless': 2460, 'intoler': 4422, 'decim': 4423, 'million': 1407, 'zap': 4424, 'cronenberg': 4425, 'fahey': 2244, 'rhonda': 4427, 'crude': 4428, 'clare': 4429, 'pg': 4430, 'zzzzzzzzzzzzzzzzzzzzzzzzzzzzzzzzzzzzzzzzzzzz': 4431, 'locoformovi': 1305, 'fifti': 1244, 'felt': 1977, 'plant': 1419, 'ejam': 4725, 'ratatouil': 3734, 'whole': 1978, 'sympath': 4435, 'sacrilag': 4436, 'beyond': 440, 'th': 1509, 'blew': 4438, 'involv': 266, 'british': 1979, 'girl': 441, 'anytim': 1011, 'refund': 1306, 'protagonist': 1970, 'august': 4440, 'screen': 89, 'babysitt': 4720, 'differ': 189, 'play': 215, 'discours': 2129, 'palat': 2340, 'deduct': 4534, 'crack': 4442, 'bed': 1307, 'dung': 1980, 'raider': 4680, 'sexist': 4443, 'choppi': 4444, 'rid': 1177, 'unadulter': 2372, 'demarol': 4446, 'mystifi': 4447, 'thang': 4448, 'christma': 819, 'finch': 1814, 'bresson': 4451, 'clark': 4452, 'gratitud': 2406, 'aspect': 1984, 'yarn': 1985, 'street': 1308, 'moron': 3817, 'bliss': 2035, 'lugosi': 1986, 'anyhow': 1309, 'landmark': 4455, 'paycheck': 2428, 'kell': 4457, 'chariti': 4458, 'bleed': 1883, 'stahl': 3212, 'marshal': 2445, 'badder': 4460, 'born': 1266, 'sensibl': 4461, 'baghdad': 4462, 'young': 820, 'zesti': 4463, 'wight': 4464, 'duti': 4465, 'threadbar': 4466, 'hollow': 1310, 'soprano': 1311, 'schwarzenegg': 4467, 'alway': 344, 'alright': 539, 'rajni': 2478, 'dancer': 1987, 'saga': 2085, 'magazin': 1312, 'herein': 4548, 'hugh': 1313, 'grate': 1988, 'bracket': 4470, 'falk': 1989, 'teletubbi': 1990, 'spartacu': 2501, 'indi': 4471, 'ben': 3399, 'movi': 1, 'gain': 1991, 'miracl': 1551, 'libbi': 4473, 'dreck': 527, 'bearabl': 1992, 'scheider': 4776, 'hyet': 2534, 'cinema': 52, 'burt': 1993, 'medal': 4476, 'moviedom': 4477, 'aircraft': 2268, 'frontal': 4478, 'hahahahaha': 2875, 'user': 4480, 'salli': 4481, 'drag': 2096, 'charact': 127, 'walk': 712, 'tube': 4483, 'porno': 1996, 'dodson': 4484, 'spectacular': 1316, 'dead': 267, 'creator': 1997, 'give': 16, 'carnosour': 2608, 'burton': 4488, 'morn': 1317, 'heat': 4489, 'rasulala': 4084, 'danza': 4490, 'scrap': 4491, 'seven': 1998, 'giggl': 1999, 'tomato': 2639, 'evid': 895, 'misinterpret': 4494, 'dimpl': 4495, 'subtext': 2936, 'institut': 4497, 'nightmar': 2000, 'border': 4498, 'vener': 4499, 'barbarian': 4500, 'eve': 4501, 'trove': 4502, 'schlock': 822, 'lesli': 4503, 'dramatis': 4504, 'armor': 4506, 'peril': 823, 'catscratch': 4507, 'examin': 2001, 'go': 63, 'ago': 422, 'habit': 1318, 'narrat': 2002, 'representin': 4509, 'suzhou': 4510, 'phenom': 4207, 'cultur': 947, 'outgrew': 2226, 'forward': 714, 'unaccept': 4439, 'reachabl': 4512, 'symptom': 4513, 'bleah': 2470, 'mungo': 4514, 'special': 442, 'crapfest': 1320, 'puke': 1527, 'duckl': 3644, 'lake': 4332, 'suspend': 4357, 'ostfront': 4517, 'curs': 4518, 'felix': 4519, 'appar': 1032, 'zafoid': 4520, 'unicorn': 4521, 'comment': 369, 'recommand': 4434, 'sight': 877, 'bergen': 4522, 'shapiro': 1538, 'claus': 4562, 'noiromet': 4524, 'seem': 2004, 'zone': 2005, 'sundown': 4525, 'win': 326, 'price': 1015, 'lesbian': 4526, 'submarin': 4527, 'spoof': 4528, 'stile': 4529, 'question': 368, 'denouement': 2105, 'photo': 4531, 'water': 719, 'sometim': 2006, 'derang': 2940, 'santa': 4456, 'ru': 2855, 'couch': 4536, 'sadli': 1322, 'seventi': 4537, 'mark': 374, 'undemand': 2872, 'shambl': 4539, 'awwwwww': 4669, 'law': 1323, 'hop': 2257, 'outta': 528, 'rattlesnak': 2008, 'problem': 406, 'mar': 2009, 'univers': 567, 'favorit': 223, 'halloween': 2903, 'dud': 407, 'madhous': 4542, 'accolad': 4543, 'dutchman': 4799, 'briefli': 2925, 'sucker': 2010, 'babaganoosh': 3409, 'verboten': 4031, 'appropri': 824, 'tacki': 2248, 'shot': 346, 'tiresom': 4547, 'ferrari': 4511, 'instinct': 4338, 'manhattan': 2011, 'madrid': 2120, 'bluff': 4550, 'nooooooo': 4551, 'embrac': 4552, 'cohen': 4553, 'explan': 1324, 'sissi': 4554, 'abomin': 2012, 'beg': 1325, 'nyc': 2698, 'rifl': 4555, 'zhang': 4556, 'bah': 4557, 'twister': 2013, 'enbom': 4558, 'enter': 2014, 'dream': 297, 'fuhgeddaboutit': 4559, 'tedium': 4561, 'monk': 2015, 'sam': 2709, 'cohol': 4563, 'prayer': 2016, 'onibaba': 4565, 'platform': 2787, 'hoo': 3053, 'soap': 4568, 'pirat': 4570, 'labor': 4469, 'kudo': 2017, 'butcheri': 3044, 'rainbow': 4572, 'gould': 3060, 'selfish': 1327, 'curio': 2018, 'charm': 479, 'unintellig': 2995, 'unmemor': 3920, 'shaku': 3098, 'short': 347, 'mdm': 2913, 'director': 113, 'salt': 2070, 'goal': 2019, 'statu': 825, 'bee': 3179, 'lycanthrop': 4579, 'trip': 715, 'alon': 151, 'cole': 3137, 'redempt': 784, 'nauseum': 4582, 'hmm': 3894, 'elvi': 3241, 'digress': 4095, 'payoff': 3161, 'happi': 205, 'unemploy': 4432, 'penni': 2020, 'period': 525, 'trick': 1641, 'toy': 2021, 'celebr': 1328, 'nintendo': 4588, 'china': 1017, 'said': 408, 'bhai': 4590, 'fade': 1774, 'drive': 1018, 'incid': 4591, 'microman': 4592, 'engross': 2024, 'home': 249, 'scari': 521, 'danc': 613, 'museum': 4594, 'comic': 1779, 'present': 314, 'unmad': 4595, 'albert': 4596, 'either': 82, 'merci': 1019, 'dump': 4597, 'dad': 1456, 'mountain': 4599, 'berton': 4601, 'occas': 4602, 'much': 25, 'four': 315, 'vivah': 2056, 'jubil': 4603, 'experienc': 1156, 'sappi': 4604, 'theyr': 2949, 'reader': 4606, 'zzzzzzzz': 4810, 'adventur': 443, 'dazzl': 4607, 'exist': 224, 'footag': 2025, 'jerri': 3287, 'snl': 1329, 'creatur': 961, 'oop': 2026, 'refus': 4609, 'apart': 1021, 'twenti': 1679, 'phenomena': 4459, 'justic': 370, 'tradeoff': 4611, 'miscast': 2027, 'latvia': 2951, 'guitar': 4612, 'union': 4613, 'rain': 1330, 'sell': 2028, 'u': 2029, 'martian': 3351, 'scissor': 4614, 'depend': 2031, 'religion': 1331, 'canal': 4615, 'defin': 4616, 'sweater': 2032, 'laundri': 4269, 'cost': 35, 'meant': 1916, 'reicher': 4350, 'andi': 1696, 'edward': 2033, 'yeah': 1332, 'boot': 1333, 'futur': 105, 'reign': 1334, 'mccabe': 4622, 'sanechao': 4623, 'access': 1418, 'meter': 2034, 'afficionado': 2300, 'idiot': 1315, 'count': 614, 'worri': 2898, 'pleasur': 948, 'peron': 3275, 'bonehead': 4628, 'cule': 4629, 'shallow': 4630, 'badli': 4631, 'tripe': 615, 'tone': 1006, 'earn': 1335, 'tighten': 4632, 'blame': 828, 'borrow': 4633, 'trite': 4634, 'thrill': 774, 'suit': 830, 'effort': 103, 'uncov': 4635, 'dear': 4636, 'sexton': 4637, 'bath': 2037, 'exactli': 1336, 'know': 50, 'sleeper': 2038, 'feed': 3489, 'nemo': 4639, 'snow': 1823, 'cobbler': 4640, 'learn': 504, 'baddi': 4160, 'rstj': 4643, 'ass': 2040, 'horrend': 1337, 'ryo': 2909, 'stanley': 4645, 'radic': 4236, 'restrain': 4647, 'drastic': 2041, 'bubbl': 3893, 'devast': 3532, 'sunday': 2042, 'sheepish': 4648, 'slayer': 4649, 'destin': 4650, 'televis': 207, 'mid': 4652, 'mulletrif': 4731, 'mildli': 4653, 'embarass': 2043, 'behavior': 4360, 'illinoi': 4654, 'kira': 4655, 'still': 298, 'insomniac': 1749, 'sever': 2044, 'trooper': 3599, 'coupl': 1339, 'englund': 4817, 'bori': 4658, 'betray': 3269, 'disc': 4660, 'around': 166, 'ludicr': 2045, 'nelson': 4661, 'birdi': 3519, 'tim': 1717, 'sequel': 93, 'wherev': 1761, 'reson': 4664, 'heh': 1340, 'georg': 2046, 'miseri': 1531, 'obscura': 831, 'vodka': 2130, 'role': 129, 'jock': 4294, 'kane': 832, 'toupe': 3714, 'interpret': 4668, 'matt': 3744, 'distinct': 4670, 'view': 42, 'end': 13, 'nois': 4671, 'probabl': 616, 'celluloid': 682, 'sum': 2047, 'broadcast': 1023, 'scratch': 1342, 'craft': 4673, 'somehow': 1229, 'hero': 531, 'condemn': 4674, 'nanavati': 4675, 'unbeliev': 617, 'specialti': 3783, 'et': 4677, 'lieuten': 4678, 'elmo': 4679, 'shakespear': 1470, 'exhal': 4301, 'shame': 152, 'yesterday': 4681, 'jayden': 4682, 'yvelin': 833, 'check': 48, 'portrait': 2049, 'fontain': 4822, 'pretext': 3780, 'averag': 484, 'intrigu': 1804, 'btw': 4686, 'super': 1024, 'updat': 3431, 'color': 1344, 'american': 1025, 'leagu': 1345, 'jaoui': 4689, 'insan': 2050, 'un': 3825, 'paperhous': 2492, 'comfort': 2051, 'jahfr': 3836, 'aftertast': 4691, 'kong': 4692, 'staff': 2721, 'apolog': 4693, 'bullsey': 4694, 'approv': 2053, 'decemb': 2054, 'digest': 1820, 'barjatya': 4696, 'fantasi': 1026, 'fond': 4698, 'david': 1570, 'loner': 2443, 'rant': 4700, 'eeeee': 3544, 'top': 316, 'brain': 465, 'hospit': 2057, 'tritter': 4702, 'steel': 4703, 'abolit': 3901, 'unprepar': 4705, 'miser': 1348, 'adequ': 1027, 'senc': 4707, 'six': 4708, 'middl': 835, 'mess': 137, 'insight': 2058, 'jlh': 2059, 'ob': 4709, 'hype': 836, 'doon': 4710, 'unsatisfi': 1028, 'want': 164, 'turd': 837, 'belong': 4711, 'june': 2060, 'uhm': 4712, 'coma': 4713, 'bay': 1349, 'davi': 1257, 'came': 618, 'apparatu': 4714, 'chao': 2499, 'cold': 4715, 'see': 6, 'note': 395, 'cri': 532, 'plane': 2061, 'california': 4717, 'suffoc': 4410, 'friend': 115, 'adolesc': 1855, 'dalmatian': 1960, 'ermin': 2063, 'smallvil': 2064, 'splainin': 4722, 'rise': 4697, 'marcel': 4723, 'phone': 4724, 'decent': 1384, 'russian': 1859, 'theme': 838, 'caruso': 4726, 'program': 1029, 'spi': 4727, 'unturn': 2065, 'hey': 4728, 'huge': 4706, 'paul': 4730, 'gener': 112, 'grade': 60, 'outliv': 3042, 'decis': 620, 'suspect': 2066, 'insomnia': 1030, 'jaihind': 4317, 'ignor': 621, 'qauntiti': 4733, 'curios': 1353, 'mate': 1354, 'bear': 2067, 'sold': 4734, 'pan': 2068, 'level': 250, 'lamb': 2069, 'slop': 4735, 'uniqu': 839, 'franci': 4375, 'freebird': 2669, 'notifi': 4736, 'search': 2071, 'assumpt': 3281, 'tact': 4738, 'alec': 4133, 'main': 4740, 'cabbag': 3918, 'knowl': 3415, 'sick': 716, 'needl': 4742, 'arctic': 4743, 'olli': 4533, 'manchu': 4744, 'torment': 1368, 'milliard': 4746, 'best': 43, 'toe': 2072, 'studio': 2073, 'jakarta': 4748, 'completionist': 4749, 'school': 480, 'strive': 4750, 'foolhardi': 4751, 'insid': 2074, 'murphi': 4752, 'koyaanisqatsi': 4753, 'parodi': 2075, 'scam': 2076, 'exodu': 4754, 'other': 183, 'myth': 4755, 'viewer': 225, 'industri': 603, 'beep': 4756, 'pursu': 4757, 'pt': 4758, 'cloth': 1994, 'thumb': 158, 'eleph': 4760, 'reckon': 4761, 'berkeley': 4762, 'dominicano': 4763, 'chart': 4764, 'porn': 2078, 'europa': 3443, 'owe': 917, 'happier': 1187, 'cringeworthi': 3194, 'three': 1929, 'argument': 2689, 'contriv': 4767, 'kid': 97, 'burn': 840, 'mysterios': 3018, 'straightforward': 4839, 'marvel': 1080, 'deeper': 3594, 'accus': 4768, 'breakup': 4769, 'neat': 2082, 'whuppin': 4770, 'necessarili': 1490, 'blob': 1355, 'team': 1951, 'rooney': 1356, 'winner': 277, 'fairi': 4773, 'irrelev': 2083, 'him': 4774, 'frank': 2084, 'chri': 1033, 'bloodlust': 2867, 'depress': 1357, 'arci': 4775, 'vcr': 1697, 'void': 4777, 'incarn': 1358, 'pixar': 4778, 'opposit': 2087, 'pastur': 2981, 'torr': 3743, 'aam': 4780, 'gem': 140, 'gay': 4781, 'instead': 29, 'rohmer': 2088, 'januari': 1800, 'elliot': 3483, 'coloss': 4784, 'episod': 119, 'allan': 3926, 'frakken': 4786, 'zombi': 1214, 'domino': 4788, 'somewher': 623, 'bink': 4789, 'compani': 1034, 'exit': 4102, 'heaven': 526, 'ir': 4801, 'children': 242, 'boyfriend': 4792, 'tollywood': 4793, 'plu': 4794, 'unjust': 2723, 'ranger': 1359, 'puppet': 1360, 'aimant': 4340, 'skagway': 3846, 'advis': 2092, 'context': 1361, 'worker': 2093, 'stifler': 4797, 'knob': 4798, 'fiction': 718, 'gladiat': 3396, 'hamlet': 1366, 'lust': 2604, 'surf': 4309, 'duchovni': 4845, 'heath': 4739, 'rocker': 4800, 'psych': 3929, 'frontier': 3604, 'routin': 4802, 'women': 317, 'kindl': 4803, 'commend': 2094, 'claim': 4804, 'ritter': 1035, 'kitti': 4805, 'nick': 2095, 'hostel': 4827, 'hound': 1036, 'termin': 4806, 'disjoint': 4314, 'wet': 3680, 'cynic': 1037, 'deck': 4809, 'stay': 900, 'itch': 1362, 'wtf': 2863, 'windmil': 4811, 'boooooooo': 4812, 'gag': 2097, 'manipul': 3521, 'bewar': 720, 'resolv': 4813, 'nevermor': 2098, 'bin': 1038, 'desper': 1365, 'urin': 2271, 'smell': 4141, 'doc': 2987, 'kasden': 4642, 'richardson': 4816, 'madonna': 2099, 'cinderella': 3454, 'day': 36, 'dark': 841, 'pervers': 4379, 'stimul': 4666, 'stride': 4818, 'frame': 4819, 'abound': 4291, 'might': 1341, 'magnitud': 1367, 'disturb': 534, 'kaufmann': 2988, 'highway': 4396, 'preach': 4560, 'ador': 1347, 'geez': 3927, 'cimarron': 4826, 'skin': 2100, 'vulner': 3082, 'mous': 4828, 'capot': 4829, 'numb': 3957, 'quibbl': 4831, 'imag': 2101, 'homegrown': 4576, 'odditi': 4832, 'punch': 2102, 'never': 371, 'uninform': 4833, 'plagiar': 4834, 'impart': 1602, 'kish': 4836, 'binev': 3776, 'completest': 1652, 'bamboozl': 3938, 'display': 4571, 'forget': 233, 'closer': 1915, 'chuckl': 842, 'drama': 198, 'kramer': 4840, 'imbd': 4841, 'flair': 4842, 'sabretooth': 2595, 'pill': 1702, 'crother': 3273, 'unrealist': 4844, 'annoy': 496, 'assist': 2106, 'stolen': 3122, 'irina': 4854, 'unholi': 4646, 'leav': 445, 'enterrrrrr': 4847, 'morrow': 4848, 'smart': 4849, 'save': 535, 'brochur': 4850, 'versa': 2107, 'tradit': 4851, 'innard': 3492, 'perplex': 3504, 'bulworth': 4846, 'protect': 4092, 'slipper': 4856, 'section': 4857}\n"
     ]
    }
   ],
   "source": [
    "print(word2idx)"
   ]
  },
  {
   "cell_type": "markdown",
   "metadata": {
    "deletable": true,
    "editable": true
   },
   "source": [
    "## Text to vector function"
   ]
  },
  {
   "cell_type": "code",
   "execution_count": 13,
   "metadata": {
    "collapsed": false,
    "deletable": true,
    "editable": true
   },
   "outputs": [],
   "source": [
    "def text_to_vector(text):\n",
    "    to_vector = np.zeros((1, len(word2idx)), dtype=np.int)\n",
    "    for word in [word for word in word_tokenize(text) if word not in stopwords_col and word not in punctuations]:\n",
    "        try:\n",
    "            raw = stemmer.stem(word)\n",
    "        except:\n",
    "            raw = word\n",
    "        if raw in word2idx:\n",
    "            to_vector[0][word2idx[raw]] += 1\n",
    "    return to_vector"
   ]
  },
  {
   "cell_type": "markdown",
   "metadata": {
    "deletable": true,
    "editable": true
   },
   "source": [
    "The result should be returned by this function :\n",
    "```\n",
    "text_to_vector('The tea is for a party to celebrate '\n",
    "               'the movie so she has no time for a cake')[:65]\n",
    "                   \n",
    "array([0, 1, 0, 0, 2, 0, 1, 1, 0, 0, 0, 0, 0, 0, 0, 0, 0, 2, 0, 1, 0, 0, 0,\n",
    "       0, 0, 0, 0, 0, 0, 0, 0, 0, 0, 0, 0, 0, 0, 0, 1, 0, 0, 0, 0, 0, 0, 0,\n",
    "       0, 0, 1, 0, 0, 0, 0, 0, 1, 0, 0, 0, 1, 1, 0, 0, 0, 0, 0])\n",
    "```       "
   ]
  },
  {
   "cell_type": "markdown",
   "metadata": {
    "deletable": true,
    "editable": true
   },
   "source": [
    "## Turn all of the sentances to Vectors"
   ]
  },
  {
   "cell_type": "code",
   "execution_count": 14,
   "metadata": {
    "collapsed": false,
    "deletable": true,
    "editable": true
   },
   "outputs": [],
   "source": [
    "word_vectors = np.zeros((len(reviews), len(vocab)), dtype=np.int_)\n",
    "for ii, (_, text) in enumerate(reviews.iterrows()):\n",
    "    word_vectors[ii] = text_to_vector(text[0])"
   ]
  },
  {
   "cell_type": "code",
   "execution_count": 15,
   "metadata": {
    "collapsed": false,
    "deletable": true,
    "editable": true
   },
   "outputs": [
    {
     "data": {
      "text/plain": [
       "array([[0, 0, 0, 1, 1, 0, 1, 0, 0, 0, 0, 0, 0, 0, 0, 0, 0, 1, 0, 0, 0, 0, 0],\n",
       "       [0, 0, 0, 1, 0, 0, 0, 0, 0, 0, 1, 0, 0, 0, 1, 1, 0, 0, 0, 0, 0, 1, 0],\n",
       "       [8, 0, 2, 0, 1, 0, 2, 0, 0, 0, 1, 5, 0, 1, 0, 0, 1, 1, 0, 0, 0, 0, 1],\n",
       "       [8, 0, 6, 4, 4, 0, 2, 0, 0, 0, 1, 4, 0, 1, 1, 0, 0, 0, 1, 0, 1, 0, 2],\n",
       "       [0, 1, 0, 2, 1, 0, 1, 0, 0, 0, 0, 0, 0, 0, 1, 1, 0, 0, 0, 0, 0, 0, 0]])"
      ]
     },
     "execution_count": 15,
     "metadata": {},
     "output_type": "execute_result"
    }
   ],
   "source": [
    "# Printing out the first 5 word vectors\n",
    "word_vectors[:5, :23]"
   ]
  },
  {
   "cell_type": "markdown",
   "metadata": {
    "deletable": true,
    "editable": true
   },
   "source": [
    "## Train, Validation, Test sets\n",
    "\n",
    "Split the data into train, validation, and test sets. Using the function `to_categorical` from TFLearn to reshape the target data so that we'll have two output units and can classify with a softmax activation function. "
   ]
  },
  {
   "cell_type": "code",
   "execution_count": 16,
   "metadata": {
    "collapsed": false,
    "deletable": true,
    "editable": true
   },
   "outputs": [],
   "source": [
    "Y = (labels=='positive').astype(np.int_)\n",
    "records = len(labels)\n",
    "\n",
    "shuffle = np.arange(records)\n",
    "np.random.shuffle(shuffle)\n",
    "test_fraction = 0.9\n",
    "\n",
    "train_split, test_split = shuffle[:int(records*test_fraction)], shuffle[int(records*test_fraction):]\n",
    "trainX, trainY = word_vectors[train_split,:], to_categorical(Y.values[train_split], 2)\n",
    "testX, testY = word_vectors[test_split,:], to_categorical(Y.values[test_split], 2)"
   ]
  },
  {
   "cell_type": "markdown",
   "metadata": {
    "deletable": true,
    "editable": true
   },
   "source": [
    "## The network"
   ]
  },
  {
   "cell_type": "code",
   "execution_count": 18,
   "metadata": {
    "collapsed": false,
    "deletable": true,
    "editable": true
   },
   "outputs": [],
   "source": [
    "# Network building\n",
    "def build_model():\n",
    "    # This resets all parameters and variables, leave this here\n",
    "    tf.reset_default_graph()\n",
    "    \n",
    "    #### Your code ####\n",
    "    net = tflearn.input_data([None, 4858])                          # Input\n",
    "    net = tflearn.fully_connected(net, 200, activation='ReLU')      # Hidden\n",
    "    net = tflearn.fully_connected(net, 25, activation='ReLU') \n",
    "    net = tflearn.fully_connected(net, 2, activation='softmax')   # Output\n",
    "    net = tflearn.regression(net, optimizer='sgd', learning_rate=0.1, loss='categorical_crossentropy')\n",
    "    model = tflearn.DNN(net)\n",
    "    return model"
   ]
  },
  {
   "cell_type": "markdown",
   "metadata": {
    "deletable": true,
    "editable": true
   },
   "source": [
    "## Intializing the model"
   ]
  },
  {
   "cell_type": "code",
   "execution_count": 19,
   "metadata": {
    "collapsed": false,
    "deletable": true,
    "editable": true
   },
   "outputs": [],
   "source": [
    "model = build_model()"
   ]
  },
  {
   "cell_type": "markdown",
   "metadata": {
    "deletable": true,
    "editable": true
   },
   "source": [
    "## Training the network"
   ]
  },
  {
   "cell_type": "code",
   "execution_count": 20,
   "metadata": {
    "collapsed": false,
    "deletable": true,
    "editable": true,
    "scrolled": false
   },
   "outputs": [
    {
     "name": "stdout",
     "output_type": "stream",
     "text": [
      "Training Step: 3179  | total loss: \u001b[1m\u001b[32m0.21597\u001b[0m\u001b[0m | time: 1.832s\n",
      "| SGD | epoch: 020 | loss: 0.21597 - acc: 0.9508 -- iter: 20224/20250\n",
      "Training Step: 3180  | total loss: \u001b[1m\u001b[32m0.19808\u001b[0m\u001b[0m | time: 2.883s\n",
      "| SGD | epoch: 020 | loss: 0.19808 - acc: 0.9558 | val_loss: 0.39120 - val_acc: 0.8680 -- iter: 20250/20250\n",
      "--\n"
     ]
    }
   ],
   "source": [
    "# Training\n",
    "model.fit(trainX, trainY, validation_set=0.1, show_metric=True, batch_size=128, n_epoch=20)"
   ]
  },
  {
   "cell_type": "markdown",
   "metadata": {
    "deletable": true,
    "editable": true
   },
   "source": [
    "## Testing\n",
    "This shows the accuracy of our model."
   ]
  },
  {
   "cell_type": "code",
   "execution_count": 21,
   "metadata": {
    "collapsed": false,
    "deletable": true,
    "editable": true
   },
   "outputs": [
    {
     "name": "stdout",
     "output_type": "stream",
     "text": [
      "Test accuracy:  0.8664\n"
     ]
    }
   ],
   "source": [
    "predictions = (np.array(model.predict(testX))[:,0] >= 0.5).astype(np.int_)\n",
    "test_accuracy = np.mean(predictions == testY[:,0], axis=0)\n",
    "print(\"Test accuracy: \", test_accuracy)"
   ]
  },
  {
   "cell_type": "markdown",
   "metadata": {
    "deletable": true,
    "editable": true
   },
   "source": [
    "## Test it out!"
   ]
  },
  {
   "cell_type": "code",
   "execution_count": 22,
   "metadata": {
    "collapsed": false,
    "deletable": true,
    "editable": true
   },
   "outputs": [],
   "source": [
    "# Helper function that uses your model to predict sentiment\n",
    "def test_sentence(sentence):\n",
    "    positive_prob = model.predict(text_to_vector(sentence))[0][1]\n",
    "    print('Sentence: {}'.format(sentence))\n",
    "    print('P(positive) = {:.3f} :'.format(positive_prob), \n",
    "          'Positive' if positive_prob > 0.5 else 'Negative')"
   ]
  },
  {
   "cell_type": "code",
   "execution_count": 23,
   "metadata": {
    "collapsed": false,
    "deletable": true,
    "editable": true
   },
   "outputs": [
    {
     "name": "stdout",
     "output_type": "stream",
     "text": [
      "Sentence: Moonlight is by far the best movie of 2016.\n",
      "P(positive) = 0.918 : Positive\n",
      "Sentence: It's amazing anyone could be talented enough to make something this spectacularly awful\n",
      "P(positive) = 0.021 : Negative\n"
     ]
    }
   ],
   "source": [
    "sentence = \"Moonlight is by far the best movie of 2016.\"\n",
    "test_sentence(sentence)\n",
    "text_to_vector(sentence)\n",
    "sentence = \"It's amazing anyone could be talented enough to make something this spectacularly awful\"\n",
    "test_sentence(sentence)"
   ]
  },
  {
   "cell_type": "code",
   "execution_count": 24,
   "metadata": {
    "collapsed": false,
    "deletable": true,
    "editable": true
   },
   "outputs": [
    {
     "name": "stdout",
     "output_type": "stream",
     "text": [
      "Sentence: This is just a masterpiece\n",
      "P(positive) = 0.965 : Positive\n"
     ]
    }
   ],
   "source": [
    "test_sentence(\"This is just a masterpiece\")"
   ]
  }
 ],
 "metadata": {
  "anaconda-cloud": {},
  "kernelspec": {
   "display_name": "Python 3",
   "language": "python",
   "name": "python3"
  },
  "language_info": {
   "codemirror_mode": {
    "name": "ipython",
    "version": 3
   },
   "file_extension": ".py",
   "mimetype": "text/x-python",
   "name": "python",
   "nbconvert_exporter": "python",
   "pygments_lexer": "ipython3",
   "version": "3.5.3"
  }
 },
 "nbformat": 4,
 "nbformat_minor": 2
}
