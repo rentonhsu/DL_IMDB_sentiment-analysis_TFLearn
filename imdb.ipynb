{
 "cells": [
  {
   "cell_type": "markdown",
   "metadata": {
    "deletable": true,
    "editable": true
   },
   "source": [
    "# Sentiment analysis with TFLearn\n",
    "Sentiment analysis using TFLearn / NLTK"
   ]
  },
  {
   "cell_type": "markdown",
   "metadata": {},
   "source": [
    "## Dependencies"
   ]
  },
  {
   "cell_type": "code",
   "execution_count": 5,
   "metadata": {
    "collapsed": false,
    "deletable": true,
    "editable": true
   },
   "outputs": [],
   "source": [
    "import pandas as pd\n",
    "import numpy as np\n",
    "import tensorflow as tf\n",
    "import tflearn\n",
    "from tflearn.data_utils import to_categorical"
   ]
  },
  {
   "cell_type": "markdown",
   "metadata": {
    "deletable": true,
    "editable": true
   },
   "source": [
    "### Counting word frequency"
   ]
  },
  {
   "cell_type": "code",
   "execution_count": 3,
   "metadata": {
    "collapsed": false,
    "deletable": true,
    "editable": true
   },
   "outputs": [
    {
     "name": "stdout",
     "output_type": "stream",
     "text": [
      "Total words in data set:  4858\n"
     ]
    }
   ],
   "source": [
    "from collections import Counter\n",
    "from nltk.tokenize import word_tokenize \n",
    "from nltk.corpus import stopwords\n",
    "import string\n",
    "\n",
    "stemmer = nltk.PorterStemmer() #convert words to their word stem\n",
    "punctuations = list(string.punctuation) #remove punctuations\n",
    "stopwords_col = stopwords.words('english') #remove meaningless wrods\n",
    "\n",
    "total_counts = Counter()#words counter\n",
    "for text in reviews[0]:\n",
    "        for word in [word for word in word_tokenize(text) if word not in stopwords_col and word not in punctuations]:\n",
    "            try:\n",
    "                raw = stemmer.stem(word)\n",
    "            except:\n",
    "                raw = word\n",
    "        total_counts[raw] += 1\n",
    "print(\"Total words in data set: \", len(total_counts))"
   ]
  },
  {
   "cell_type": "markdown",
   "metadata": {},
   "source": [
    "## Bag of words"
   ]
  },
  {
   "cell_type": "code",
   "execution_count": 5,
   "metadata": {
    "collapsed": false,
    "deletable": true,
    "editable": true
   },
   "outputs": [
    {
     "name": "stdout",
     "output_type": "stream",
     "text": [
      "['br', 'movi', 'film', 'time', 'one', 'watch', 'see', 'recommend', 'enjoy', 'rate', 'star', 'like', 'disappoint', 'end', 'good', 'better', 'give', 'life', 'miss', 'fan', 'bad', 'stori', 'entertain', 'well', 'seen', 'much', 'way', 'work', 'ever', 'instead', 'year', 'avoid', 'show', 'love', 'back', 'cost', 'day', 'made', 'money', 'classic', 'fun', 'dvd', 'view', 'best', 'look', 'think', 'deserv', 'check', 'warn', 'know', 'get', 'though', 'cinema', 'els', 'today', 'away', 'laugh', 'crap', 'thing', 'grade', 'funni', 'come', 'go', 'audienc', 'right', 'say', 'minut', 'world', 'make', 'comedi', 'perform', 'act', 'great', 'peopl', 'score', 'scene', 'bore', 'either', 'book', 'hour', 'thank', 'genr', 'pictur', 'flick', 'happen', 'anyon', 'point', 'interest', 'night', 'screen', 'seri', 'sequel', 'experi', 'ten', 'com', 'us', 'rent', 'kid', 'version', 'opinion', 'chanc', 'review', 'b', 'stuff', 'effort', 'futur', 'age', 'worth', 'aw', 'releas', 'gener', 'wrong', 'masterpiec', 'director', 'episod', 'friend', 'live', 'done', 'eye', 'music', 'part', 'famili', 'f', 'wors', 'actor', 'trash', 'charact', 'buy', 'list', 'wast', 'role', 'video', 'pleas', 'mess', 'heart', 'excel', 'possibl', 'place', 'realli', 'gem', 'find', 'garbag', 'plot', 'alon', 'career', 'origin', 'anyway', 'product', 'soon', 'beauti', 'bother', 'shame', 'collect', 'tv', 'histori', 'c', 'skip', 'later', 'thumb', 'want', 'tri', 'suck', 'job', 'even', 'vote', 'help', 'okay', 'around', 'everyon', 'sure', 'script', 'cox', 'gave', 'name', 'wonder', 'anyth', 'pass', 'other', 'forev', 'feel', 'season', 'talent', 'harp', 'art', 'perfect', 'care', 'differ', 'least', 'mean', 'man', 'game', 'fiend', 'someth', 'drama', 'enough', 'qualiti', 'mind', 'matter', 'plagu', 'noth', 'regret', 'moment', 'joke', 'sorri', 'happi', 'two', 'yet', 'exist', 'sad', 'serious', 'first', 'action', 'half', 'theater', 'believ', 'televis', 'reason', 'favorit', 'run', 'talk', 'viewer', 'play', 'sleep', 'terribl', 'humor', 'valu', 'centuri', 'hand', 'lover', 'effect', 'die', 'merk', 'copi', 'forget', 'home', 'imagin', 'sens', 'ride', 'togeth', 'poor', 'lame', 'guy', 'titl', 'set', 'children', 'read', 'hate', 'level', 'cast', 'hollywood', 'horribl', 'face', 'line', 'rubbish', 'true', 'close', 'involv', 'hous', 'soul', 'date', 'horror', 'old', 'dead', 'surpris', 'attent', 'war', 'thriller', 'need', 'song', 'rememb', 'anim', 'men', 'glad', 'idea', 'write', 'real', 'impress', 'still', 'long', 'etc', 'forgotten', 'lot', 'junk', 'less', 'bit', 'kill', 'truth', 'situat', 'direct', 'person', 'winner', 'child', 'channel', 'sit', 'dream', 'would', 'offer', 'budget', 'amaz', 'four', 'piec', 'zero', 'hope', 'expect', 'let', 'death', 'cartoon', 'word', 'next', 'could', 'present', 'finish', 'rental', 'top', 'pain', 'bravo', 'credit', 'women', 'mistak', 'use', 'geniu', 'overal', 'shot', 'soundtrack', 'littl', 'watchabl', 'win', 'written', 'america', 'inde', 'hell', 'throughout', 'alway', 'start', 'imdb', 'p', 'style', 'mayb', 'move', 'turkey', 'inspir', 'break', 'tast', 'materi', 'follow', 'short', 'anymor', 'violenc', 'form', 'head', 'car', 'cheer', 'exampl', 'avail', 'satisfi', 'polarisdib', 'english', 'question', 'merit', 'cours', 'mysteri', 'lol', 'justic', 'judg', 'hilari', 'past', 'comment', 'never', 'memori', 'treat', 'air', 'human', 'reward', 'worthwhil', 'turn', 'scale', 'late', 'problem', 'dud', 'risk', 'societi', 'languag', 'bomb', 'v', 'doubt', 'tell', 'countri', 'said', 'elsewher', 'begin', 'touch', 'success', 'appear', 'catch', 'cut', 'aliv', 'mood', 'choic', 'mark', 'crew', 'figur', 'novel', 'nice', 'ask', 'magic', 'power', 'note', 'adapt', 'award', 'hit', 'beyond', 'special', 'improv', 'peac', 'agre', 'chang', 'appreci', 'adventur', 'featur', 'ago', 'afraid', 'case', 'leav', 'worst', 'buff', 'girl', 'produc', 'western', 'result', 'completist', 'pathet', 'rip', 'order', 'project', 'actress', 'wow', 'second', 'respect', 'listen', 'understand', 'alik', 'lost', 'space', 'documentari', 'blood', 'sex', 'fantast', 'compar', 'guess', 'thought', 'roll', 'last', 'tale', 'school', 'take', 'failur', 'everyth', 'also', 'earth', 'ye', 'god', 'brilliant', 'deal', 'standard', 'promis', 'charm', 'hurt', 'content', 'memor', 'mail', 'decad', 'disast', 'must', 'side', 'piti', 'ii', 'week', 'far', 'brain', 'accent', 'fact', 'intend', 'king', 'messag', 'flop', 'edit', 'smile', 'dreck', 'cri', 'remak', 'cabl', 'killer', 'dumb', 'x', 'learn', 'earli', 'stop', 'paid', 'disturb', 'quickli', 'cent', 'engag', 'blow', 'murder', 'chase', 'trilog', 'ok', 'store', 'sing', 'cinematographi', 'outta', 'confus', 'heaven', 'averag', 'conclus', 'scari', 'r', 'outstand', 'none', 'fire', 'saw', 'shine', 'bye', 'portray', 'rock', 'kind', 'sister', 'period', 'ridicul', 'hero', 'stupid', 'save', 'awesom', 'subject', 'annoy', 'without', 'danc', 'treasur', 'sinc', 'planet', 'crime', 'concern', 'ladi', 'distribut', 'asham', 'lesson', 'share', 'rest', 'wait', 'opportun', 'crazi', 'highli', 'often', 'comparison', 'mine', 'silli', 'univers', 'count', 'stage', 'scare', 'romanc', 'unbeliev', 'mention', 'folk', 'light', 'shock', 'alright', 'gore', 'quit', 'q', 'replay', 'superb', 'amus', 'adult', 'cat', 'easi', 'moon', 'grow', 'tripe', 'whatsoev', 'clear', 'luck', 'ugh', 'credibl', 'choos', 'number', 'seek', 'heard', 'citi', 'somewher', 'manner', 'decis', 'storytel', 'put', 'industri', 'notic', 'challeng', 'came', 'wise', 'alreadi', 'nonsens', 'afterward', 'intellig', 'probabl', 'creepi', 'element', 'definit', 'profan', 'bless', 'call', 'scott', 'filmmak', 'ignor', 'return', 'insult', 'stinker', 'except', 'got', 'boy', 'delight', 'suspens', 'riot', 'mani', 'hunt', 'weird', 'achiev', 'hat', 'dull', 'fiction', 'given', 'detail', 'fall', 'era', 'min', 'wish', 'creat', 'guarante', 'dog', 'unforgett', 'franc', 'room', 'rule', 'hot', 'relationship', 'forward', 'solid', 'public', 'fest', 'potenti', 'trip', 'fascin', 'asleep', 'forgiv', 'commun', 'bewar', 'dialogu', 'town', 'connect', 'blockbust', 'state', 'blah', 'fine', 'pretenti', 'unfortun', 'tragedi', 'arthur', 'excit', 'tape', 'drug', 'emot', 'accur', 'ruin', 'kick', 'librari', 'highlight', 'worthless', 'html', 'busi', 'cd', 'forgett', 'popular', 'month', 'lee', 'field', 'whatev', 'england', 'near', 'critic', 'someon', 'camera', 'dare', 'receiv', 'sake', 'funnier', 'festiv', 'categori', 'wall', 'uk', 'celluloid', 'execut', 'high', 'journey', 'extra', 'known', 'appeal', 'fool', 'howev', 'complet', 'sick', 'edg', 'mad', 'water', 'repeat', 'cool', 'road', 'small', 'bodi', 'woman', 'low', 'walk', 'fight', 'realist', 'left', 'twist', 'breath', 'burn', 'decid', 'track', 'afternoon', 'tear', 'loser', 'tortur', 'vomit', 'weak', 'commentari', 'hear', 'appropri', 'hoot', 'worthi', 'substanc', 'christma', 'format', 'floor', 'uniqu', 'pace', 'ya', 'embarrass', 'theme', 'player', 'harri', 'hype', 'lie', 'cover', 'young', 'artist', 'leg', 'fast', 'lead', 'along', 'purpos', 'opera', 'anoth', 'laughter', 'buck', 'total', 'reput', 'prefer', 'fail', 'unwatch', 'cheesi', 'turd', 'gone', 'brother', 'collector', 'ground', 'peril', 'anywher', 'redempt', 'nonetheless', 'middl', 'faith', 'suppos', 'mouth', 'seriou', 'jone', 'priceless', 'black', 'new', 'predict', 'statu', 'thrill', 'superior', 'evil', 'maker', 'spoiler', 'obscur', 'popcorn', 'realiti', 'noir', 'iii', 'schlock', 'k', 'succeed', 'enthusiast', 'event', 'wrap', 'flat', 'parent', 'network', 'blame', 'theatr', 'distract', 'jr', 'continu', 'trust', 'strang', 'yvelin', 'camp', 'dread', 'market', 'lower', 'dark', 'stink', 'sentiment', 'wit', 'longer', 'kane', 'advanc', 'chuckl', 'suit', 'simpl', 'natur', 'melodrama', 'spirit', 'final', 'explain', 'absurd', 'obscura', 'told', 'loud', 'imho', 'welcom', 'remark', 'travesti', 'appar', 'stand', 'stomach', 'across', 'girlfriend', 'class', 'wood', 'evid', 'may', 'price', 'grasp', 'treatment', 'immedi', 'drivel', 'danger', 'apart', 'perspect', 'angri', 'news', 'extrem', 'appal', 'print', 'ap', 'china', 'massacr', 'misfir', 'xx', 'favourit', 'kiss', 'topic', 'earlier', 'fantasi', 'jane', 'pay', 'owe', 'suggest', 'sequenc', 'lucki', 'site', 'wreck', 'relat', 'control', 'imposs', 'stay', 'unsatisfi', 'express', 'refresh', 'march', 'went', 'tomorrow', 'dri', 'locat', 'screenplay', 'frighten', 'reveng', 'hard', 'that', 'american', 'keeper', 'downhil', 'africa', 'suicid', 'hound', 'etern', 'formula', 'legaci', 'youth', 'sight', 'destroy', 'judgement', 'skill', 'proud', 'broadcast', 'support', 'creatur', 'loss', 'option', 'abil', 'self', 'door', 'import', 'headach', 'atmospher', 'photographi', 'finest', 'factor', 'pick', 'packag', 'ugli', 'farc', 'surviv', 'frost', 'pleasur', 'super', 'deliri', 'lane', 'org', 'deliv', 'big', 'file', 'fashion', 'yike', 'costum', 'caus', 'cheap', 'angel', 'oscar', 'ninja', 'ritter', 'christian', 'purchas', 'match', 'cultur', 'vision', 'goer', 'extraordinari', 'altogeth', 'trailer', 'throw', 'circumst', 'creep', 'sound', 'cash', 'babi', 'affect', 'shelf', 'websit', 'prime', 'yuck', 'area', 'term', 'program', 'bbc', 'mediocr', 'answer', 'timeless', 'everybodi', 'everywher', 'caricatur', 'prejudic', 'backdrop', 'brillianc', 'moral', 'spent', 'adequ', 'barrel', 'chri', 'cynic', 'disgust', 'april', 'window', 'complex', 'escap', 'shortcom', 'satir', 'john']\n"
     ]
    }
   ],
   "source": [
    "vocab = sorted(total_counts, key=total_counts.get, reverse=True)\n",
    "print(vocab[:1000])"
   ]
  },
  {
   "cell_type": "markdown",
   "metadata": {
    "deletable": true,
    "editable": true
   },
   "source": [
    "What's the last word in our vocabulary? We can use this to judge if 10000 is too few. If the last word is pretty common, we probably need to keep more words."
   ]
  },
  {
   "cell_type": "markdown",
   "metadata": {
    "deletable": true,
    "editable": true
   },
   "source": [
    "## Word to vectors"
   ]
  },
  {
   "cell_type": "code",
   "execution_count": 7,
   "metadata": {
    "collapsed": false,
    "deletable": true,
    "editable": true
   },
   "outputs": [],
   "source": [
    "word2idx = {}\n",
    "for index, word in enumerate(vocab):\n",
    "    word2idx[word] = index"
   ]
  },
  {
   "cell_type": "code",
   "execution_count": 8,
   "metadata": {
    "collapsed": false,
    "deletable": true,
    "editable": true
   },
   "outputs": [
    {
     "name": "stdout",
     "output_type": "stream",
     "text": [
      "{'preach': 3830, 'travesti': 843, 'blom': 4365, 'intend': 481, 'mafia': 2109, 'nekromantik': 2110, 'king': 482, 'form': 348, 'necropoli': 2129, 'hat': 626, 'grate': 1369, 'menstruat': 2112, 'lack': 4256, 'pronto': 2114, 'mash': 2115, 'kit': 4549, 'poorli': 1613, 'carrier': 2116, 'thanx': 2893, 'warrior': 2117, 'reveal': 2118, 'fleapit': 2119, 'cameron': 1370, 'realist': 721, 'impos': 2120, 'especi': 4827, 'adam': 1039, 'heat': 4390, 'sourc': 1040, 'breaker': 4715, 'found': 1041, 'philip': 2123, 'appet': 3964, 'crisi': 2217, 'jack': 2124, 'rage': 2125, 'corpor': 1974, 'anim': 270, 'wilk': 3452, 'like': 11, 'boil': 1372, 'rant': 2130, 'desper': 1042, 'northwest': 2131, 'appar': 844, 'left': 722, 'finlay': 2132, 'stand': 845, 'assist': 1406, 'catchi': 3926, 'fantast': 446, 'horrorfest': 1373, 'jf': 2800, 'hit': 409, 'essenti': 1374, 'ontkean': 2137, 'testicl': 2138, 'glow': 2139, 'cleavag': 1375, 'aunt': 2140, 'era': 632, 'heartbeat': 1426, 'ether': 2143, 'barri': 2144, 'irk': 2145, 'four': 299, 'stahl': 2146, 'tighten': 2147, 'tutti': 2148, 'thirti': 3157, 'europa': 3019, 'seat': 1044, 'ebert': 2152, 'preiti': 2153, 'pronunci': 2154, 'illinoi': 2155, 'beyond': 410, 'odin': 2156, 'drewbi': 3189, 'phenom': 2157, 'danc': 536, 'equival': 2369, 'charcter': 2158, 'compar': 447, 'unlearn': 2159, 'across': 847, 'labor': 2161, 'keren': 2162, 'spontan': 2163, 'treasur': 537, 'passag': 2164, 'girlfriend': 848, 'summer': 1690, 'fiction': 628, 'lullabi': 1377, 'freed': 2165, 'class': 849, 'harmless': 2168, 'full': 1378, 'bare': 1045, 'superl': 4396, 'cheek': 2171, 'mio': 2172, 'piec': 300, 'central': 2173, 'face': 251, 'parti': 1497, 'twist': 723, 'radic': 2176, 'sinc': 538, 'uhum': 2177, 'commer': 2178, 'messag': 483, 'beep': 3147, 'wood': 850, 'hungri': 2179, 'reward': 372, 'jerker': 2180, 'bite': 2524, 'charg': 2182, 'boycott': 2183, 'breath': 724, 'shelf': 969, 'garnish': 2969, 'work': 27, 'anderson': 1380, 'busi': 677, 'virgin': 2748, 'insan': 1382, 'maldonado': 2557, 'necessarili': 1383, 'bulworth': 2186, 'member': 2187, 'part': 120, 'burn': 725, 'chariti': 2188, 'decid': 726, 'pump': 1384, 'souvenir': 2189, 'wherev': 1385, 'meretrici': 3675, 'sum': 1498, 'scheider': 2191, 'edison': 3465, 'watson': 1387, 'sabretooth': 2193, 'armstrong': 2194, 'doy': 2195, 'strangler': 2607, 'industrialist': 2198, 'evid': 851, 'discoveri': 2199, 'loaf': 2200, 'drat': 2201, 'may': 852, 'unkindli': 2203, 'rememb': 269, 'price': 853, 'woeful': 2366, 'carer': 2205, 'nomin': 2206, 'sophist': 2207, 'handl': 1388, 'cat': 574, 'ever': 28, 'home': 234, 'right': 64, 'hjm': 2209, 'phew': 2210, 'flashback': 2211, 'devote': 2212, 'gulp': 2213, 'parol': 2214, 'ball': 1390, 'decent': 1813, 'eyebal': 3031, 'demarol': 2216, 'mildli': 3244, 'arbuckl': 2218, 'spade': 1391, 'coffe': 1392, 'unaccept': 2219, 'chow': 1393, 'realli': 138, 'coloss': 2220, 'dude': 1046, 'sgt': 2221, 'stun': 1394, 'ecstasi': 2455, 'detail': 630, 'track': 727, 'poop': 4405, 'climax': 1395, 'justifi': 3354, 'magazin': 1047, 'zero': 301, 'aargh': 2226, 'smith': 2227, 'trust': 814, 'advis': 1504, 'band': 1877, 'yet': 206, 'internet': 1980, 'afternoon': 728, 'pad': 3780, 'crayola': 2232, 'cheesi': 769, 'gimmeclass': 1397, 'planet': 539, 'bastidg': 2233, 'disappoint': 12, 'redifin': 4407, 'propag': 2235, 'prime': 971, 'game': 190, 'star': 10, 'lightn': 2237, 'cohol': 2238, 'treatment': 855, 'hoffman': 2239, 'hope': 302, 'rounder': 2240, 'burst': 3474, 'taliban': 2241, 'hyde': 2243, 'rayvyn': 3034, 'fame': 1085, 'spartan': 2244, 'sacrilag': 3035, 'worth': 107, 'exist': 207, 'pipelin': 1399, 'relic': 1400, 'crimin': 2246, 'jmv': 4037, 'stewart': 1014, 'kouzina': 2249, 'motorbik': 2250, 'flop': 484, 'rhonda': 2251, 'unsupris': 2252, 'baldwin': 2253, 'burt': 1401, 'extraordinair': 2254, 'rattlesnak': 1403, 'conspiraci': 1404, 'tide': 4643, 'cloth': 1664, 'uncut': 1405, 'mile': 1620, 'schnitz': 1610, 'artagnan': 2257, 'sheriff': 2133, 'misnam': 2258, 'seal': 2259, 'resolv': 2260, 'whuppin': 2261, 'immedi': 856, 'cap': 1407, 'lineup': 2262, 'stinkpot': 2263, 'nephew': 2264, 'lord': 1408, 'frownbust': 2265, 'amrapurkar': 2598, 'cost': 35, 'canteen': 3604, 'interpret': 2268, 'contradict': 1409, 'francisco': 2269, 'drivel': 857, 'absorb': 1410, 'sheepish': 2270, 'curiou': 1634, 'joyless': 1411, 'concern': 541, 'shonuff': 2272, 'dope': 2273, 'tire': 1051, 'bounci': 2274, 'loser': 730, 'squar': 1052, 'creatur': 918, 'falcon': 2276, 'nausicaa': 4430, 'worthless': 675, 'trainer': 2277, 'et': 2278, 'titan': 2279, 'theori': 1414, 'tortur': 731, 'thieveri': 3041, 'vanderbeek': 2281, 'commonplac': 2282, 'greas': 2283, 'round': 2284, 'needless': 2285, 'fountainhead': 2286, 'franci': 3042, 'aircraft': 3169, 'benefici': 2289, 'fall': 631, 'invest': 1178, 'cracker': 2290, 'guid': 2291, 'unmad': 4563, 'jacki': 1415, 'drawer': 2292, 'cv': 2293, 'nietzsch': 2295, 'goos': 1416, 'trace': 2296, 'pom': 2297, 'atmospher': 926, 'cm': 2299, 'download': 1417, 'shakespear': 1418, 'centuri': 226, 'middl': 779, 'quicki': 1419, 'skin': 1420, 'brien': 1763, 'wilkerson': 2303, 'polish': 2304, 'crocodil': 1422, 'stuck': 2689, 'industri': 594, 'men': 271, 'min': 633, 'backseat': 2306, 'feet': 2307, 'franz': 2308, 'finest': 928, 'st': 1053, 'bhai': 2312, 'nepal': 1424, 'bergman': 1425, 'danger': 858, 'lollobrigida': 2142, 'factori': 2314, 'carlottai': 3310, 'sue': 1427, 'edit': 485, 'moran': 4424, 'sensibl': 2317, 'nurs': 2318, 'mccarthi': 2319, 'masterpiec': 112, 'expect': 303, 'zwartboek': 2320, 'transport': 2601, 'length': 1428, 'apart': 859, 'depict': 1171, 'fanat': 1055, 'demon': 1056, 'prozac': 2322, 'entir': 1680, 'paymer': 3372, 'libbi': 2325, 'reommend': 2326, 'special': 411, 'corni': 1057, 'klingon': 2222, 'code': 2328, 'perspect': 860, 'modest': 4499, 'birdi': 2329, 'spell': 2330, 'doghi': 3403, 'wooofff': 2332, 'tng': 3402, 'flick': 83, 'discours': 2334, 'period': 527, 'warrant': 1430, 'snl': 1276, 'dagon': 2338, 'oxymoron': 2339, 'argument': 2340, 'ladi': 542, 'angri': 861, 'compel': 1431, 'dazzl': 2202, 'olli': 2341, 'chapeau': 2342, 'groundbreak': 2343, 'treat': 369, 'wink': 4749, 'tanner': 2344, 'tierney': 2345, 'jimbo': 4851, 'sexier': 2346, 'realism': 1433, 'birthday': 2347, 'drama': 193, 'boxset': 2348, 'eddi': 2349, 'oz': 2350, 'scoop': 2351, 'uniqu': 743, 'imag': 1623, 'princ': 1436, 'aw': 108, 'coaster': 2352, 'bonehead': 2353, 'hand': 227, 'extrem': 863, 'unfunni': 1437, 'gaz': 2354, 'hatton': 2355, 'funney': 3331, 'reinforc': 2356, 'groaner': 2357, 'anonym': 2358, 'pap': 2359, 'abduct': 2361, 'claud': 4776, 'commentari': 734, 'instinct': 2838, 'improv': 412, 'head': 349, 'quid': 2362, 'car': 350, 'sword': 2363, 'vault': 2364, 'borefest': 2365, 'els': 53, 'cabbag': 2895, 'empathi': 1438, 'unforgiv': 2367, 'stiff': 1439, 'appal': 864, 'brian': 2370, 'quiet': 1440, 'activ': 2371, 'dime': 2372, 'dawn': 4723, 'hear': 735, 'derang': 2795, 'superbad': 2376, 'kilmer': 4195, 'endeavour': 1058, 'xxx': 3898, 'snoozer': 2378, 'wish': 634, 'anybodi': 1441, 'train': 1442, 'curri': 4751, 'trend': 4121, 'firm': 2379, 'cop': 1443, 'badder': 2380, 'spawn': 2381, 'threadbar': 2384, 'releas': 109, 'laughabl': 1060, 'morgia': 2385, 'novemb': 2386, 'lynch': 1444, 'ehl': 3163, 'automobil': 2388, 'ostfront': 4648, 'sequenc': 880, 'yugoslavia': 2390, 'murphi': 2392, 'prescienc': 2393, 'mother': 2394, 'slow': 2395, 'creat': 635, 'ladder': 4752, 'hine': 2397, 'investig': 1061, 'imho': 840, 'fiend': 191, 'risibl': 2398, 'horroryearbook': 2400, 'appropri': 736, 'peac': 413, 'comedi': 69, 'exhibit': 2401, 'let': 304, 'ru': 4077, 'inert': 2403, 'institut': 2404, 'yay': 2405, 'ds': 2406, 'bagman': 2407, 'hardli': 1445, 'hoot': 737, 'phone': 2408, 'tree': 1598, 'rebel': 1447, 'emmanuel': 2409, 'cameo': 1062, 'timberlak': 2410, 'bud': 4059, 'hanger': 3838, 'loner': 4444, 'geez': 2412, 'mjh': 2413, 'smile': 486, 'jason': 1450, 'worthi': 738, 'tarzan': 1063, 'basing': 2414, 'thought': 449, 'moonstruck': 1451, 'amanda': 2415, 'ww': 1452, 'biopic': 2821, 'seaton': 1453, 'sandman': 2416, 'shelv': 1303, 'gander': 2418, 'luciano': 3435, 'sequal': 2419, 'evolv': 1454, 'cheer': 351, 'prehistor': 2422, 'cule': 2423, 'china': 867, 'likabl': 1126, 'scifi': 2375, 'knowl': 2426, 'nfl': 2427, 'useless': 2428, 'tonight': 1455, 'carradin': 2429, 'snake': 2430, 'substanc': 739, 'bori': 2431, 'preced': 1456, 'christma': 740, 'massacr': 868, 'tranquil': 2432, 'din': 1457, 'reach': 1458, 'higher': 1064, 'fifti': 1065, 'bizarr': 1459, 'guarante': 636, 'color': 1066, 'mountain': 3502, 'spotlight': 4854, 'smallvil': 1460, 'tlk': 3696, 'starfuck': 2435, 'fla': 1889, 'locoformovi': 1067, 'outright': 2438, 'barrel': 989, 'principl': 2440, 'profession': 1461, 'superman': 1729, 'gut': 2442, 'hurri': 1462, 'dreck': 487, 'scrat': 1463, 'allow': 2443, 'candid': 1068, 'mchatti': 2444, 'feminin': 1988, 'shortchang': 2446, 'weav': 2447, 'distribut': 543, 'amick': 2448, 'misfir': 869, 'lover': 228, 'dancer': 1464, 'bankrupt': 2449, 'amigo': 4625, 'boundari': 1465, 'use': 319, 'todesk': 2450, 'station': 1993, 'sleev': 1466, 'outrag': 2452, 'rollin': 1468, 'pruitt': 2453, 'prais': 1069, 'outfit': 1070, 'exampl': 352, 'stitch': 2681, 'film': 2, 'bill': 1470, 'asham': 544, 'interrupt': 2456, 'doe': 2457, 'mindwalk': 2458, 'dahmer': 1471, 'pinto': 3874, 'ghastli': 2461, 'size': 1472, 'fli': 1473, 'otranto': 2462, 'crumbl': 2463, 'bull': 2464, 'awak': 1197, 'riot': 621, 'digest': 1474, 'putti': 2467, 'curs': 3597, 'avail': 353, 'eastwood': 2469, 'cuba': 2470, 'dreg': 3793, 'galactica': 2472, 'needl': 2473, 'hippi': 3875, 'glad': 272, 'ashley': 1948, 'roll': 450, 'lust': 2736, 'sweden': 4235, 'vermin': 4457, 'beck': 2476, 'joann': 4274, 'butcher': 2479, 'math': 2480, 'englund': 2481, 'beatnik': 2482, 'xx': 870, 'happenst': 2483, 'pilot': 2484, 'peopl': 73, 'key': 2485, 'favourit': 871, 'european': 2486, 'driver': 2603, 'germani': 2487, 'restraint': 2488, 'shop': 1072, 'steel': 2507, 'seven': 1475, 'keaton': 1476, 'abandon': 2491, 'bladerunn': 2492, 'barnum': 4460, 'sensual': 4612, 'electr': 2493, 'babe': 1198, 'splainin': 2495, 'consist': 1292, 'graveyard': 2497, 'kiss': 872, 'piper': 2498, 'l': 1477, 'health': 2499, 'dar': 2500, 'floor': 742, 'submit': 2501, 'dont': 2502, 'search': 1478, 'poignant': 1852, 'shudder': 1479, 'sane': 2504, 'sematari': 2505, 'scrap': 2506, 'unforgett': 638, 'mezrich': 4706, 'older': 1480, 'gener': 110, 'punish': 1074, 'pace': 744, 'tame': 2508, 'death': 305, 'rape': 1481, 'logic': 1506, 'reak': 4029, 'nervou': 2510, 'rock': 524, 'notic': 595, 'franc': 639, 'quot': 2002, 'robot': 2514, 'topic': 873, 'nazism': 2515, 'ziba': 2516, 'marri': 2517, 'turd': 770, 'anar': 2518, 'ordinari': 1482, 'inflict': 2519, 'earlier': 874, 'son': 1075, 'piggi': 1483, 'pwnz': 2377, 'numb': 2521, 'cure': 2522, 'scorpio': 2523, 'seen': 24, 'street': 1076, 'doubl': 1485, 'open': 1077, 'merlot': 4548, 'occurr': 2721, 'stephen': 2525, 'ya': 745, 'outing': 1339, 'mourn': 2660, 'sigh': 1508, 'nada': 4466, 'binev': 2528, 'detect': 2040, 'insist': 2531, 'video': 131, 'ganz': 2532, 'miser': 1078, 'immens': 1079, 'bangla': 2533, 'aftertast': 2534, 'docksid': 2535, 'bark': 2537, 'bound': 1488, 'rite': 2538, 'montag': 2539, 'fantasi': 875, 'spend': 1080, 'psycholog': 3287, 'flair': 4581, 'rack': 2541, 'cri': 488, 'unreward': 2543, 'pint': 4023, 'flawless': 1489, 'assign': 4316, 'neglig': 2544, 'hokum': 2545, 'groov': 2546, 'polarisdib': 355, 'rule': 641, 'jaw': 2547, 'embarrass': 746, 'geniu': 320, 'room': 640, 'sabu': 2548, 'constantli': 2494, 'last': 451, 'bait': 1381, 'detroit': 2552, 'laurent': 2553, 'sad': 208, 'pray': 2555, 'drag': 2080, 'author': 1492, 'manur': 1493, 'agre': 414, 'smirk': 2558, 'masala': 2560, 'transplant': 2561, 'accid': 3545, 'behind': 1081, 'pay': 877, 'tedium': 2562, 'perfect': 184, 'scope': 3365, 'abolit': 4378, 'b': 102, 'worthwhil': 373, 'inc': 3520, 'barjatya': 2565, 'pt': 2230, 'walk': 719, 'david': 1495, 'porter': 2569, 'idea': 273, 'frakken': 2570, 'funnni': 2571, 'turn': 374, 'buddi': 2572, 'wight': 2573, 'hire': 2113, 'secreci': 2574, 'night': 88, 'ton': 2575, 'vulcan': 2576, 'lantana': 3896, 'lunat': 2577, 'everybodi': 980, 'btw': 2579, 'darkon': 3438, 'theme': 747, 'speechless': 2580, 'rerun': 2581, 'dislik': 1082, 'limb': 2175, 'among': 2582, 'leari': 1977, 'label': 1097, 'amateurishli': 2584, 'appelonia': 2190, 'actual': 1083, 'ash': 2586, 'clarifi': 2587, 'dupe': 4084, 'took': 1499, 'lv': 1013, 'owe': 878, 'tomato': 2591, 'player': 748, 'themslev': 2592, 'horrend': 1084, 'harri': 749, 'steal': 2593, 'tirad': 1500, 'crime': 540, 'badli': 2595, 'tug': 2596, 'upset': 1501, 'subtitl': 2597, 'suggest': 879, 'soccer': 2266, 'allen': 1086, 'someth': 192, 'miss': 18, 'comed': 3442, 'hug': 1087, 'sink': 1088, 'depress': 1089, 'fear': 1090, 'bob': 1502, 'dragon': 1091, 'vomit': 732, 'hey': 4229, 'sentri': 3963, 'smoke': 1092, 'civil': 2604, 'flemyng': 2605, 'counter': 1434, 'border': 2150, 'masoch': 2608, 'klaveno': 2609, 'gawd': 2610, 'moi': 1887, 'unemploy': 4712, 'bw': 2612, 'understood': 1800, 'bernsen': 2613, 'twice': 1093, 'group': 1099, 'verboten': 2616, 'hee': 2389, 'dusti': 2617, 'paint': 1094, 'madsen': 2619, 'killer': 491, 'mummif': 2620, 'okay': 166, 'gleam': 3228, 'regular': 4480, 'marshal': 2622, 'zesti': 2623, 'select': 4481, 'deep': 1095, 'chang': 415, 'dribbl': 3246, 'pickl': 2625, 'gespenst': 2626, 'neighbor': 2627, 'brando': 3529, 'maillot': 2629, 'lurid': 2630, 'see': 6, 'rather': 2632, 'hilton': 2633, 'record': 2634, 'remak': 489, 'revisit': 2003, 'global': 2636, 'cognoscenti': 2637, 'dentist': 1096, 'supremaci': 2638, 'serious': 209, 'swedish': 2639, 'her': 2509, 'bleak': 2640, 'dust': 2641, 'cartoon': 306, 'lift': 2526, 'imagin': 235, 'toy': 1509, 'brighter': 2643, 'tomba': 4305, 'windmil': 2644, 'eight': 1490, 'hitch': 2645, 'overal': 321, 'shot': 322, 'signific': 1510, 'anyday': 2563, 'lucki': 881, 'lie': 751, 'hot': 642, 'weez': 2647, 'slaughter': 2583, 'cabl': 490, 'htm': 1098, 'tho': 1511, 'ass': 1512, 'unadulter': 3536, 'perform': 70, 'iceberg': 2650, 'biographi': 2606, 'incred': 1913, 'inescap': 2615, 'th': 1503, 'enraptur': 2652, 'tinsel': 2653, 'howl': 2631, 'custodi': 2654, 'insid': 1513, 'milk': 1514, 'scale': 375, 'mad': 710, 'flix': 1515, 'relationship': 643, 'outlet': 2658, 'imamura': 2659, 'maegi': 2661, 'tina': 2662, 'gruffudd': 2663, 'guest': 4599, 'say': 65, 'barf': 1516, 'instead': 29, 'gimmick': 2666, 'orson': 1517, 'gould': 2667, 'anyth': 175, 'adventur': 417, 'blog': 2668, 'garden': 2669, 'share': 546, 'site': 882, 'noth': 199, 'guard': 2671, 'brand': 2672, 'first': 210, 'famili': 121, 'graphic': 1100, 'charisma': 2675, 'rori': 4217, 'brazil': 1532, 'gasbag': 2121, 'nooooo': 2682, 'bang': 1518, 'colleagu': 2683, 'calibr': 2684, 'tale': 452, 'tool': 2685, 'cover': 752, 'butcheri': 2686, 'franchis': 1519, 'f': 122, 'abyss': 2688, 'therefor': 1101, 'childhood': 1102, 'jew': 4746, 'jayden': 2691, 'russwil': 2692, 'featur': 418, 'rest': 547, 'dumb': 492, 'him': 2693, 'includ': 1115, 'brilliantli': 2695, 'freebird': 2696, 'translat': 1520, 'trout': 2698, 'write': 274, 'rever': 1521, 'godaw': 2699, 'meal': 2700, 'x': 493, 'ago': 419, 'acorn': 2701, 'foe': 2702, 'learn': 494, 'debut': 1103, 'tx': 2705, 'toast': 4093, 'ail': 2706, 'whidbey': 2707, 'milliard': 2708, 'dexadrin': 2709, 'sexton': 2710, 'borzag': 2712, 'wear': 1522, 'capra': 2713, 'turner': 4496, 'exodu': 2670, 'wreck': 883, 'stranger': 2714, 'wait': 548, 'completionist': 2715, 'satisfi': 354, 'stalker': 1104, 'coat': 2716, 'either': 77, 'oomph': 2717, 'satisfactori': 2529, 'relat': 884, 'photograph': 1523, 'front': 1524, 'celebr': 1105, 'humperdink': 4325, 'boat': 2719, 'monkey': 1604, 'stunk': 1525, 'tradeoff': 2169, 'closer': 1526, 'pass': 176, 'berton': 2725, 'destroy': 912, 'marathon': 2726, 'childish': 2727, 'bride': 1201, 'news': 862, 'artist': 754, 'womb': 4159, 'imposs': 886, 'thinner': 4351, 'robbi': 2730, 'solid': 645, 'afraid': 420, 'dish': 2732, 'taqueria': 2733, 'ars': 2734, 'hahahahaha': 2465, 'brother': 772, 'dynam': 2737, 'stay': 887, 'elliot': 2738, 'leg': 755, 'other': 177, 'ahista': 2739, 'sentenc': 1530, 'rockarol': 3120, 'upbeat': 4048, 'subtli': 2742, 'pixar': 2743, 'unsatisfi': 888, 'nine': 4666, 'carrey': 2215, 'express': 889, 'oblivion': 1106, 'line': 252, 'dang': 2744, 'weep': 2745, 'aficionado': 3018, 'scum': 1531, 'backdrop': 984, 'school': 453, 'torr': 3103, 'snore': 4850, 'raider': 2746, 'abl': 1147, 'refresh': 890, 'opportun': 549, 'leaf': 2750, 'incarn': 1048, 'psycho': 2752, 'dave': 2753, 'case': 421, 'cameroon': 2678, 'platform': 2754, 'gift': 1533, 'discov': 4223, 'mortal': 1534, 'rank': 1535, 'japan': 1537, 'theyr': 2756, 'godfath': 2757, 'arci': 2758, 'bog': 4814, 'march': 891, 'entiti': 2759, 'woodi': 1923, 'shall': 2679, 'went': 892, 'crazi': 550, 'garbag': 141, 'pleas': 132, 'upsid': 1540, 'nelson': 2761, 'freeman': 2762, 'ham': 2763, 'swimmer': 2764, 'despic': 2765, 'eeeee': 2766, 'neither': 1379, 'templ': 2767, 'pedophil': 2247, 'lyric': 1543, 'rubbish': 253, 'wagner': 2770, 'cage': 2771, 'drago': 2772, 'ill': 2773, 'ghetto': 2723, 'base': 1107, 'sayang': 3339, 'misogynist': 1544, 'trek': 2777, 'sens': 236, 'itttttttt': 2778, 'gere': 2779, 'duh': 1545, 'late': 376, 'pervers': 2780, 'ireland': 4264, 'involuntarili': 2781, 'pun': 3326, 'jacob': 2782, 'cegid': 1547, 'sure': 169, 'diplomaci': 2783, 'picutr': 2784, 'pop': 2785, 'burgundi': 2786, 'tomorrow': 893, 'peni': 1108, 'forgett': 679, 'swordplay': 2787, 'fedor': 2788, 'distributor': 3302, 'call': 609, 'battl': 1749, 'bink': 2790, 'long': 278, 'imo': 1180, 'grip': 2796, 'go': 62, 'usual': 1109, 'spectat': 1548, 'globe': 2797, 'real': 275, 'overestim': 2798, 'yesterday': 4349, 'insight': 1549, 'atlant': 4510, 'kalifornia': 2136, 'excellent': 2801, 'descript': 2802, 'watch': 5, 'plenti': 1550, 'melissa': 4508, 'retread': 2804, 'paul': 2805, 'insomniac': 1551, 'spiritu': 2807, 'cape': 2808, 'white': 1552, 'outcast': 3941, 'thewli': 2809, 'shock': 565, 'bollywood': 1553, 'zombi': 1111, 'sar': 2811, 'thompson': 1554, 'relief': 1555, 'jacket': 1556, 'petersson': 2814, 'pizza': 1557, 'word': 307, 'problem': 377, 'loos': 1558, 'huh': 1371, 'kira': 2815, 'often': 552, 'regret': 200, 'bhhaaaad': 2816, 'warfar': 2817, 'crappi': 2818, 'dri': 894, 'dutch': 4044, 'militari': 2820, 'potenti': 648, 'disagr': 1559, 'comparison': 553, 'mesmer': 1112, 'histori': 154, 'nevada': 2822, 'cheapli': 2823, 'tube': 2267, 'pie': 1707, 'henderson': 2825, 'updat': 2826, 'blue': 2827, 'silli': 555, 'sweeney': 2828, 'english': 356, 'locat': 895, 'dumber': 2829, 'dutchman': 4047, 'diamantino': 2830, 'sublim': 3566, 'refus': 3139, 'occas': 2832, 'stop': 496, 'underton': 4835, 'thorn': 2833, 'tumor': 2834, 'merri': 4799, 'marc': 2835, 'screenplay': 896, 'connoisseur': 2836, 'vener': 2229, 'gigli': 3824, 'lifetim': 1561, 'belief': 1114, 'hole': 2806, 'back': 34, 'patricia': 2839, 'hooper': 1562, 'nanavati': 2840, 'humankind': 2842, 'fridg': 2843, 'web': 2844, 'bajillion': 2845, 'behold': 2694, 'failur': 455, 'palmer': 2755, 'journeymen': 2847, 'indigest': 1564, 'soprano': 1116, 'programm': 2536, 'pocket': 2477, 'compromis': 1565, 'consider': 2849, 'frighten': 897, 'slayer': 2850, 'smart': 2851, 'denni': 2852, 'drastic': 1566, 'nineti': 2854, 'broadway': 2855, 'dna': 2856, 'femal': 1567, 'untouch': 2857, 'reveng': 898, 'fast': 756, 'wors': 123, 'clever': 2859, 'filmographi': 1568, 'zuf': 2860, 'gracia': 1569, 'model': 2861, 'colleg': 2862, 'defi': 2863, 'bullshit': 2864, 'johan': 2865, 'bake': 2866, 'madonna': 1570, 'enough': 194, 'mexico': 2868, 'next': 308, 'rainbow': 2204, 'paid': 497, 'dialogu': 655, 'slasher': 1118, 'shrek': 1571, 'mordrid': 2871, 'spartacu': 2872, 'windup': 2873, 'portrait': 1572, 'rennt': 2697, 'strongli': 2875, 'barki': 1573, 'south': 2876, 'mess': 133, 'rescu': 1574, 'myer': 2877, 'bun': 2878, 'branagh': 1119, 'expans': 2881, 'lead': 757, 'boot': 1120, 'empti': 1121, 'sun': 1122, 'bubbl': 2882, 'torment': 1123, 'wt': 2884, 'bardot': 2885, 'icehol': 3576, 'univers': 556, 'matin': 2886, 'mildr': 4544, 'entri': 1575, 'reynold': 2887, 'crapfest': 1124, 'indiscret': 2888, 'forrest': 1576, 'leav': 422, 'torch': 2889, 'stalinist': 2674, 'appendag': 2890, 'wed': 1577, 'shower': 1578, 'furdion': 2197, 'episod': 114, 'along': 758, 'qualiti': 195, 'purpos': 759, 'fascin': 650, 'abc': 4527, 'teas': 2894, 'fukushima': 2160, 'surf': 2898, 'zafoid': 2899, 'hard': 899, 'setup': 2900, 'liz': 1909, 'deck': 4049, 'thunderossa': 4575, 'viru': 2902, 'crusad': 2903, 'circl': 2904, 'ranger': 1259, 'oilwel': 2905, 'count': 557, 'filho': 2906, 'g': 1582, 'that': 900, 'inimit': 2908, 'ulmer': 1127, 'high': 700, 'winner': 290, 'domino': 2948, 'gay': 2913, 'everyth': 456, 'american': 901, 'separ': 2914, 'opera': 760, 'boredom': 2915, 'actor': 124, 'awhil': 2004, 'comatos': 2916, 'true': 254, 'putz': 3173, 'submarin': 2917, 'louisiana': 2918, 'carnag': 1484, 'keeper': 902, 'one': 4, 'downhil': 903, 'washington': 2920, 'educ': 1627, 'practic': 2922, 'hum': 1494, 'dement': 1584, 'mistaken': 3863, 'witt': 2923, 'crother': 2924, 'africa': 904, 'slum': 2925, 'aaa': 2926, 'also': 457, 'book': 78, 'mice': 2927, 'meatbal': 3505, 'look': 44, 'race': 1585, 'test': 1586, 'intact': 2928, 'capot': 2929, 'mindf': 2930, 'suxor': 2931, 'macdowel': 2932, 'suicid': 905, 'far': 477, 'breast': 2933, 'homophobia': 4564, 'due': 2934, 'aboutagirli': 2935, 'instructor': 2936, 'movement': 2937, 'hound': 906, 'tasteless': 2938, 'laughter': 762, 'aquat': 3154, 'sever': 1589, 'swallow': 1964, 'uselessli': 2940, 'cait': 4065, 'river': 1590, 'jam': 3179, 'gross': 2942, 'want': 159, 'waster': 1884, 'quibbl': 3156, 'stage': 558, 'defin': 2944, 'asleep': 651, 'question': 357, 'glori': 1129, 'gladiat': 4443, 'disturb': 498, 'warhol': 2945, 'derek': 2420, 'loath': 4175, 'gem': 139, 'forgiv': 652, 'could': 309, 'stifler': 4825, 'ye': 459, 'vachon': 2949, 'doa': 2950, 'footag': 1593, 'breviti': 2951, 'buck': 763, 'architectur': 2952, 'warthog': 2953, 'siempr': 2954, 'humour': 1043, 'eric': 1594, 'jox': 2011, 'water': 711, 'colombia': 2567, 'mould': 2958, 'duel': 4538, 'landi': 4069, 'ironsid': 4505, 'ho': 1595, 'jahfr': 2301, 'tremend': 1671, 'renaiss': 2961, 'formula': 908, 'yahoo': 2962, 'rejoic': 2167, 'denmark': 1597, 'commun': 653, 'pile': 1326, 'bewar': 654, 'implement': 2964, 'wrestlemania': 2965, 'total': 764, 'sud': 2722, 'effect': 229, 'forward': 644, 'cartoonish': 2968, 'duckl': 2970, 'pakistan': 2971, 'underst': 2972, 'darren': 2973, 'risk': 379, 'carri': 1601, 'close': 255, 'victor': 1602, 'junkyard': 2974, 'scare': 559, 'seep': 2975, 'bay': 1162, 'mister': 2976, 'coincid': 2977, 'widescreen': 2978, 'jour': 2979, 'cunnilingu': 2980, 'hour': 79, 'verma': 3599, 'fraud': 2982, 'dodo': 4743, 'preachi': 1130, 'batwoman': 2983, 'notabl': 4645, 'action': 211, 'outa': 2530, 'hankerchief': 3927, 'cherish': 1603, 'ap': 866, 'parker': 4569, 'anticip': 1131, 'chees': 1794, 'copyright': 2987, 'whole': 1606, 'shimmi': 2989, 'anthoni': 2990, 'romanc': 560, 'introduct': 1607, 'away': 55, 'condom': 2991, 'legaci': 909, 'tiger': 2992, 'pufnstuf': 4369, 'phenomen': 2993, 'rodriguez': 2994, 'scream': 1027, 'plot': 142, 'dear': 2996, 'affair': 2997, 'sexploit': 2998, 'introduc': 2999, 'freddi': 1609, 'around': 167, 'pagevirgin': 3001, 'cooki': 3002, 'mon': 2256, 'reput': 765, 'littl': 324, 'lamb': 2087, 'joy': 1175, 'sollett': 3004, 'parallel': 4691, 'avoid': 31, 'unexcept': 3005, 'oper': 3406, 'rigg': 3006, 'account': 1132, 'testament': 1133, 'sadism': 1795, 'grade': 59, 'wheel': 3007, 'carcass': 3008, 'restrain': 3978, 'grind': 3890, 'iq': 3009, 'youth': 910, 'foul': 1134, 'innard': 3011, 'werewolf': 3012, 'possess': 2955, 'thomsen': 2387, 'ignor': 612, 'shaw': 3016, 'sell': 1614, 'en': 4173, 'uninterest': 1615, 'frequent': 2768, 'shallow': 2151, 'impress': 276, 'aboard': 3633, 'bet': 1135, 'bald': 3020, 'act': 71, 'sera': 3021, 'asset': 3022, 'sight': 911, 'care': 185, 'beliv': 1527, 'fortun': 1616, 'bias': 2185, 'noiromet': 3024, 'remot': 1617, 'page': 3691, 'prefer': 766, 'sophomor': 3025, 'cb': 3026, 'albert': 3027, 'pastur': 3028, 'crowley': 3029, 'quickli': 499, 'clinic': 3030, 'filter': 2883, 'fail': 767, 'bleah': 3032, 'unwatch': 768, 'knocker': 3033, 'grasp': 854, 'town': 656, 'presenc': 1618, 'context': 1136, 'appear': 392, 'fluff': 1398, 'moron': 2245, 'cetera': 3036, 'procur': 4082, 'twenti': 1619, 'stain': 3037, 'version': 98, 'stoog': 2255, 'student': 1621, 'morgan': 3038, 'cholera': 4567, 'restor': 2280, 'schnook': 2287, 'brave': 3043, 'coma': 4463, 'analysi': 1137, 'thesp': 4570, 'backbit': 4727, 'display': 3045, 'deserv': 46, 'connect': 657, 'buff': 424, 'maverick': 3046, 'skier': 3047, 'suspect': 1622, 'masterwork': 3048, 'whimper': 3049, 'kornman': 3050, 'profit': 3051, 'devour': 3052, 'blockbust': 658, 'unbeliev': 561, 'nausea': 2417, 'silenc': 3054, 'rout': 2459, 'fertil': 3055, 'graaff': 3056, 'mango': 3058, 'unturn': 1624, 'chair': 2943, 'mention': 562, 'cimarron': 2439, 'jeffrey': 3061, 'z': 1138, 'culkin': 2057, 'spider': 3062, 'skill': 914, 'condecens': 3063, 'walthal': 3613, 'reader': 3065, 'reviv': 3066, 'agn': 2402, 'dice': 4709, 'deni': 1536, 'resurrect': 3068, 'jordan': 3069, 'poster': 4087, 'rio': 3070, 'shake': 3072, 'resourc': 3073, 'properli': 2001, 'scotland': 1190, 'staff': 3074, 'destini': 1347, 'folk': 563, 'contrast': 3075, 'perdit': 3076, 'lesbian': 3077, 'kennedi': 3078, 'disappear': 1628, 'everyon': 168, 'societi': 380, 'poorer': 3079, 'dung': 1629, 'bachchan': 2602, 'subplot': 1631, 'streisand': 3618, 'clueless': 4099, 'visit': 1632, 'nomad': 3083, 'scarier': 1139, 'gone': 771, 'vacat': 1633, 'freezer': 2271, 'columbia': 4295, 'hart': 3084, 'cathol': 1486, 'island': 1140, 'chop': 1635, 'lincoln': 2073, 'mundi': 3089, 'magictrain': 1637, 'armi': 3090, 'tri': 160, 'encrypt': 3091, 'aim': 1638, 'patient': 3092, 'grushenka': 3093, 'sg': 1639, 'grave': 1141, 'chri': 990, 'leonard': 4789, 'pretend': 3094, 'hitchcock': 3095, 'rod': 3295, 'leza': 3096, 'god': 460, 'offens': 1641, 'traci': 2360, 'alpha': 3623, 'blah': 660, 'mere': 1642, 'proud': 915, 'alan': 3098, 'broadcast': 916, 'annihil': 3099, 'fine': 661, 'misinterpret': 3100, 'portug': 3624, 'rheostat': 3182, 'pretenti': 662, 'team': 1505, 'menu': 1643, 'brutal': 1644, 'pride': 1645, 'kurasawa': 3104, 'nauseat': 3105, 'languag': 381, 'unfortun': 663, 'collector': 773, 'machin': 2077, 'shaq': 2664, 'watcher': 1646, 'vh': 1647, 'polic': 3108, 'still': 277, 'bibl': 3109, 'follywood': 3110, 'closet': 3111, 'screen': 89, 'bomb': 382, 'year': 30, 'mind': 196, 'myth': 3114, 'robocop': 3115, 'unsettl': 3116, 'hunter': 1649, 'tragedi': 664, 'chacho': 3117, 'jungl': 3118, 'xd': 3119, 'franco': 1528, 'brochur': 3121, 'salli': 3122, 'support': 917, 'fill': 1650, 'ruthless': 3123, 'replac': 3124, 'cardinal': 3125, 'swear': 3126, 'reflect': 2275, 'aheheh': 4682, 'prank': 3127, 'liaison': 3128, 'ground': 774, 'demonicu': 3630, 'die': 230, 'concept': 1651, 'light': 564, 'curmudgeon': 3130, 'girl': 425, 'ad': 1652, 'loss': 919, 'public': 646, 'sundown': 3132, 'raoul': 1657, 'topless': 2600, 'unkind': 2383, 'geoff': 3134, 'debbi': 3135, 'option': 920, 'exot': 1653, 'journalist': 3136, 'simultan': 3137, 'list': 128, 'settlefor': 3138, 'reel': 1560, 'dire': 1142, 'abysm': 1655, 'develop': 1143, 'washout': 3140, 'abil': 921, 'jodorowski': 2853, 'cope': 3143, 'self': 922, 'broomstick': 4566, 'rougher': 3144, 'rabbit': 3145, 'despis': 1656, 'mari': 2880, 'half': 212, 'mandatori': 3146, 'v': 383, 'consol': 1448, 'saxon': 3148, 'boston': 2897, 'cent': 500, 'villain': 1658, 'thing': 58, 'protagonist': 1659, 'literaci': 3151, 'vice': 3152, 'good': 14, 'mole': 1660, 'produc': 426, 'falk': 1661, 'youtub': 3153, 'honest': 1588, 'miik': 3155, 'repres': 1128, 'door': 923, 'belt': 2946, 'peril': 775, 'impart': 1662, 'vampir': 1059, 'flame': 1663, 'arthur': 665, 'system': 1782, 'anywher': 776, 'nemesi': 3159, 'mdm': 3160, 'hanki': 3161, 'airplan': 3162, 'comrad': 2985, 'alright': 566, 'landmark': 3193, 'merit': 358, 'homosexu': 3164, 'berth': 1145, 'omelett': 3165, 'thank': 80, 'blanc': 4787, 'museum': 3166, 'uncomfirm': 3167, 'hietala': 3168, 'gore': 567, 'sugar': 3170, 'sharif': 3171, 'lembach': 3172, 'tragic': 1665, 'locker': 3044, 'smell': 2520, 'landlord': 3175, 'aahhh': 3176, 'quit': 568, 'keyboard': 3177, 'cours': 359, 'ghilli': 3178, 'bronz': 1666, 'q': 569, 'cheadl': 3087, 'engag': 501, 'excit': 666, 'medium': 3180, 'princess': 3181, 'bissel': 3102, 'babaganoosh': 3194, 'shill': 3184, 'guitar': 3185, 'hide': 1648, 'nepot': 3640, 'instanc': 1667, 'lousi': 1146, 'replay': 570, 'funkion': 3187, 'arrgh': 3188, 'redempt': 777, 'parodi': 2010, 'doze': 2599, 'eureka': 3641, 'ear': 1669, 'premis': 3190, 'hirsch': 3191, 'doubt': 384, 'quip': 3192, 'sacrileg': 4668, 'import': 924, 'sperm': 4630, 'acin': 2919, 'power': 405, 'space': 442, 'carousel': 4618, 'uniform': 3183, 'pedestrian': 3195, 'healer': 3196, 'prey': 3197, 'debri': 3198, 'squad': 3199, 'tape': 667, 'spectacl': 1148, 'limit': 3200, 'commend': 2017, 'pointless': 1149, 'beg': 1150, 'headach': 925, 'wound': 3202, 'forgiven': 1672, 'function': 3203, 'mandu': 3204, 'harbor': 3236, 'embrac': 3206, 'mastermind': 3207, 'prospect': 4203, 'happen': 84, 'nonetheless': 778, 'basic': 1673, 'sorbonn': 1674, 'jerk': 3208, 'vietnam': 4663, 'fondli': 4497, 'allan': 4452, 'sixpack': 3210, 'lip': 1675, 'notch': 1676, 'ducktal': 3212, 'deluis': 3067, 'mindless': 4626, 'airport': 3214, 'alon': 143, 'searcher': 2298, 'visibl': 4114, 'irrelev': 1716, 'bulli': 1678, 'depth': 3215, 'wrong': 111, 'ate': 3217, 'career': 144, 'miscast': 1679, 'superb': 571, 'concert': 4798, 'bird': 3219, 'western': 427, 'passabl': 4784, 'pearl': 1681, 'wurth': 2774, 'seem': 2015, 'rasuk': 3222, 'note': 406, 'regardless': 4788, 'frank': 1682, 'method': 4250, 'longshot': 3224, 'hadley': 3225, 'life': 17, 'doctor': 1684, 'stood': 2300, 'intrigu': 1685, 'russia': 3227, 'heart': 134, 'drug': 668, 'toxin': 3229, 'sanit': 4101, 'assumpt': 3650, 'renew': 1654, 'ratatouil': 3231, 'unglamor': 3232, 'altar': 3233, 'invent': 1153, 'lesli': 2909, 'hennessi': 3235, 'representin': 3081, 'letterbox': 3237, 'statur': 3238, 'nutshel': 3239, 'pill': 1687, 'kumar': 3240, 'jay': 2960, 'html': 676, 'genuin': 3141, 'ride': 237, 'suffer': 1791, 'exhal': 3245, 'wall': 696, 'alien': 1154, 'downward': 1688, 'savannah': 2489, 'prototyp': 2896, 'cemeteri': 1689, 'amus': 572, 'iguana': 3530, 'hobgoblin': 1691, 'competit': 3249, 'vergeben': 3250, 'manipul': 3251, 'three': 1692, 'despaaaaaair': 3252, 'u': 1693, 'woah': 3254, 'uneas': 2391, 'watchabl': 325, 'prayer': 1695, 'summari': 3255, 'luci': 3256, 'mansion': 3258, 'emot': 669, 'della': 3259, 'blow': 502, 'inquisitor': 3260, 'sleazi': 3261, 'photographi': 927, 'dodger': 3262, 'madhous': 3955, 'accur': 670, 'win': 326, 'embarass': 1915, 'cheesiest': 3264, 'hooray': 2594, 'lebrock': 3744, 'hercul': 1697, 'predecessor': 1698, 'zone': 2024, 'tempest': 3268, 'hogwash': 1155, 'strong': 1625, 'rr': 3269, 'sholay': 3270, 'slipper': 3271, 'superfici': 1699, 'movi': 1, 'stock': 1156, 'nightmar': 1700, 'matur': 3273, 'paus': 3274, 'parhat': 3275, 'fuhgeddaboutit': 3966, 'murder': 503, 'elmo': 3276, 'lobotomi': 3277, 'prison': 1701, 'robert': 2309, 'ambigu': 1702, 'resid': 3278, 'oop': 1817, 'kell': 3280, 'firework': 1703, 'void': 3281, 'mystifi': 4695, 'miracl': 1819, 'squalor': 3282, 'spike': 3283, 'factor': 929, 'jakarta': 3284, 'curtain': 3285, 'unlik': 1158, 'clown': 3286, 'rang': 1159, 'hollywe': 3213, 'august': 3288, 'stargat': 3289, 'lose': 1704, 'slightest': 1705, 'anyon': 85, 'propaganda': 1706, 'theater': 213, 'lesser': 3290, 'sanechao': 3291, 'suppos': 781, 'stride': 3292, 'greater': 3293, 'nonconform': 3294, 'enchant': 1160, 'impact': 1161, 'lester': 2677, 'origin': 145, 'jim': 3296, 'edu': 3297, 'cleo': 3298, 'laundri': 3299, 'aussi': 1423, 'landfil': 3300, 'bath': 1708, 'mouth': 782, 'audienc': 63, 'sold': 3014, 'chase': 504, 'harm': 1542, 'fun': 40, 'gratifi': 3303, 'pick': 930, 'fare': 1709, 'ape': 3304, 'subsid': 3305, 'bleeder': 3306, 'studi': 1710, 'keep': 1711, 'chernitski': 3307, 'oppos': 3308, 'put': 593, 'deal': 462, 'adult': 573, 'rigour': 3311, 'fier': 3312, 'reccomend': 3313, 'erotic': 4596, 'scoobi': 3314, 'hustl': 3315, 'renard': 3316, 'baffl': 3317, 'packag': 931, 'william': 3318, 'manhattan': 1713, 'sheesh': 1714, 'catastroph': 1881, 'dunk': 1715, 'respons': 3320, 'terror': 1677, 'cring': 1717, 'rigger': 2718, 'mccabe': 3322, 'proudli': 3220, 'sissi': 2646, 'unholi': 3325, 'italian': 1834, 'egan': 3327, 'australian': 3328, 'easi': 575, 'nuditi': 1163, 'ruin': 671, 'etc': 279, 'mysteri': 360, 'tank': 1164, 'chong': 1718, 'flee': 3329, 'bg': 3330, 'gadget': 4601, 'govern': 1246, 'nut': 1719, 'screw': 1720, 'sunday': 1965, 'mental': 4770, 'seriou': 783, 'certainli': 1165, 'trilog': 505, 'democraci': 3332, 'forc': 1166, 'ugli': 932, 'scene': 75, 'forth': 3333, 'persona': 4330, 'medal': 3334, 'sir': 1899, 'chamber': 3335, 'snow': 1721, 'wrath': 3336, 'harder': 1722, 'tip': 3337, 'countri': 386, 'sceneri': 1902, 'wholeheartedli': 1234, 'schwarzenegg': 3340, 'septemb': 1054, 'syfi': 2551, 'qauntiti': 3341, 'hula': 2466, 'hanahan': 3342, 'baghdad': 3343, 'india': 3345, 'categoryanswerman': 4326, 'surviv': 934, 'drop': 1723, 'spit': 3346, 'jone': 784, 'wrestler': 3347, 'idiot': 1168, 'drunk': 1724, 'palac': 3348, 'written': 327, 'newcom': 3997, 'gear': 3349, 'pantalino': 3350, 'said': 387, 'render': 3351, 'possibl': 136, 'ta': 1169, 'anyway': 146, 'exagger': 3352, 'frost': 935, 'shaku': 3479, 'clare': 3856, 'blast': 1725, 'pleasur': 936, 'roger': 1726, 'complex': 995, 'fossil': 4106, 'agent': 3356, 'frankenstein': 3929, 'consum': 1727, 'adrian': 3357, 'cheesecak': 3358, 'yawn': 1429, 'psp': 3359, 'clue': 1728, 'technerd': 3360, 'c': 155, 'draft': 3361, 'flaw': 1172, 'geek': 4255, 'june': 1730, 'suck': 161, 'bump': 3362, 'ok': 506, 'enjoy': 8, 'invis': 1731, 'gauntlet': 3850, 'artefact': 3363, 'capac': 3364, 'saw': 520, 'park': 3366, 'truli': 1173, 'bluto': 3368, 'believ': 214, 'abomin': 2025, 'reunion': 3369, 'rocki': 1733, 'faint': 3370, 'nemo': 2128, 'kick': 672, 'priceless': 785, 'giallo': 3373, 'undergar': 3374, 'lane': 939, 'bigv': 3375, 'notifi': 3377, 'goofi': 3378, 'altern': 1507, 'sunris': 3379, 'disgust': 992, 'unexpectedli': 3381, 'complaint': 1734, 'org': 940, 'know': 49, 'asap': 2468, 'mous': 3383, 'baker': 1735, 'drew': 4275, 'corps': 1174, 'violenc': 347, 'day': 36, 'consumpt': 3384, 'colombo': 4347, 'romero': 2327, 'sync': 3385, 'dad': 1736, 'black': 786, 'capric': 3386, 'junkermann': 3388, 'ob': 3389, 'hell': 330, 'vacuiti': 3321, 'librari': 673, 'deliv': 941, 'woodard': 3391, 'complain': 1737, 'baragrey': 3392, 'appetit': 1738, 'unnot': 4418, 'gain': 1739, 'knock': 1823, 'couch': 3393, 'sorin': 3394, 'sponsor': 3395, 'standard': 463, 'feast': 3466, 'heartfelt': 3397, 'access': 1740, 'wwii': 1176, 'conveni': 1732, 'ebook': 3272, 'gamecub': 3399, 'timothi': 2373, 'hehe': 1177, 'infinit': 4607, 'sed': 3489, 'bryan': 3404, 'expos': 1742, 'highlight': 674, 'monk': 1743, 'unusu': 3405, 'new': 787, 'offend': 1744, 'opposit': 1668, 'exciti': 2676, 'dvd': 41, 'anytim': 1023, 'promis': 464, 'blind': 1745, 'grow': 577, 'ingeni': 3408, 'houston': 2311, 'thnk': 3410, 'dissapiont': 3600, 'pool': 1746, 'risqu': 3411, 'hoo': 3412, 'lyf': 4148, 'luke': 1747, 'scissor': 3414, 'fest': 647, 'oregon': 1748, 'behavior': 3416, 'stella': 3417, 'onibaba': 2789, 'fan': 19, 'intervent': 3418, 'starter': 3419, 'correctli': 3420, 'russel': 3421, 'store': 507, 'med': 3422, 'fece': 4697, 'partner': 1802, 'ceausescu': 2050, 'felix': 4397, 'result': 428, 'mb': 3158, 'sick': 708, 'bring': 1029, 'wife': 1750, 'thru': 4543, 'mann': 3428, 'wtf': 3430, 'blondel': 3431, 'sing': 508, 'habit': 1179, 'speci': 3432, 'flesh': 3433, 'achiev': 625, 'castl': 1351, 'sometim': 1696, 'tension': 1751, 'pinata': 2310, 'underwhelm': 3436, 'big': 942, 'lugosi': 1752, 'ballarat': 3437, 'curio': 1753, 'guess': 448, 'ryo': 2704, 'incorpor': 2437, 'cassidi': 3439, 'hustler': 3440, 'flamboy': 4504, 'horribl': 250, 'sander': 2635, 'televis': 215, 'casablanca': 3443, 'subordin': 2794, 'overkil': 3444, 'pokemon': 3445, 'lol': 361, 'uncomfort': 1755, 'recal': 3446, 'teach': 1756, 'stori': 21, 'predict': 788, 'blasphemi': 3448, 'statu': 789, 'cruella': 3449, 'flow': 3450, 'flashdanc': 3451, 'involv': 256, 'crash': 1182, 'ridicul': 528, 'e': 3453, 'poor': 239, 'deerfield': 4616, 'thrill': 790, 'bench': 3455, 'soul': 258, 'drink': 1757, 'resum': 1017, 'walker': 1183, 'plate': 3456, 'natali': 3457, 'gib': 3458, 'toler': 1184, 'termin': 3459, 'insle': 3460, 'carv': 3461, 'dominicano': 3462, 'wrought': 4813, 'completist': 429, 'kate': 1758, 'darn': 2184, 'electrocut': 3464, 'anyhow': 1185, 'scratch': 1186, 'boz': 2192, 'nostalg': 2196, 'elsewher': 388, 'auteur': 1187, 'begin': 389, 'acid': 3467, 'marmit': 3468, 'winslet': 4492, 'buzz': 1759, 'wind': 1760, 'clich': 1188, 'spoof': 2223, 'katrina': 3471, 'southron': 3472, 'mistak': 318, 'pffffft': 3226, 'van': 3475, 'pg': 3476, 'coffin': 1189, 'switch': 4857, 'superior': 791, 'balanc': 1191, 'chao': 3930, 'duchovni': 3477, 'martin': 1761, 'goldmin': 3478, 'suffici': 1413, 'jovial': 3754, 'addit': 3480, 'opinion': 99, 'thrift': 3481, 'eighti': 1762, 'fisher': 1421, 'terrifi': 3483, 'jbc': 4707, 'touch': 390, 'nomine': 3484, 'japanes': 3485, 'outcom': 3486, 'overcom': 1193, 'icki': 3487, 'gestur': 3488, 'dub': 1764, 'crapola': 4357, 'forgotten': 280, 'sacrific': 1765, 'item': 1766, 'condit': 1194, 'weak': 733, 'argu': 3241, 'begun': 3490, 'charmingli': 3491, 'wheeeew': 4623, 'bear': 1768, 'belong': 3493, 'evil': 792, 'grinchma': 3494, 'think': 45, 'imbd': 3496, 'hypnot': 3693, 'wilson': 3497, 'present': 310, 'professor': 1769, 'fiber': 3499, 'primit': 3500, 'toe': 1770, 'romania': 2434, 'justic': 362, 'ermin': 1771, 'teaser': 2441, 'swing': 3504, 'chou': 4401, 'johnson': 2803, 'monster': 1195, 'charm': 465, 'sweet': 1196, 'reason': 216, 'dalla': 3506, 'help': 165, 'confront': 3507, 'success': 391, 'show': 32, 'bela': 3508, 'awe': 3509, 'dog': 637, 'shadow': 3510, 'earp': 3511, 'mathematician': 3512, 'crane': 3514, 'andi': 1772, 'revolut': 1773, 'row': 3515, 'vie': 4655, 'seri': 90, 'whatsoev': 579, 'innit': 3516, 'grower': 3517, 'storylin': 1774, 'wormhol': 2687, 'kazzam': 4171, 'willi': 4501, 'rose': 2963, 'wonderland': 1199, 'cup': 3729, 'drill': 2564, 'cohes': 3521, 'edward': 1496, 'load': 3864, 'rap': 1776, 'lesson': 545, 'tortuga': 3522, 'leon': 3523, 'observ': 1777, 'file': 943, 'knucklehead': 2554, 'african': 4174, 'biz': 1778, 'byyyyyyyyeeee': 3525, 'fora': 3526, 'repertoir': 3527, 'foil': 3528, 'appreci': 416, 'cinematograph': 3531, 'forev': 178, 'wisdom': 1779, 'glib': 3532, 'hamilton': 3533, 'ambit': 3534, 'drum': 3535, 'least': 187, 'mulan': 2649, 'repeatedli': 3537, 'maker': 793, 'johnston': 3538, 'yike': 945, 'costum': 946, 'prequel': 1144, 'bluff': 3540, 'runner': 3541, 'renown': 3542, 'exercis': 1780, 'americana': 3543, 'apolog': 3544, 'fund': 1781, 'caus': 947, 'spoiler': 794, 'fiasco': 1200, 'quaker': 3546, 'chanc': 100, 'block': 3547, 'young': 753, 'beast': 3548, 'rooney': 1202, 'ryoo': 2741, 'luck': 581, 'blizzard': 3923, 'wiser': 3551, 'conserv': 3552, 'comet': 3539, 'reno': 3553, 'happi': 204, 'disabl': 2957, 'soap': 3555, 'romanian': 3556, 'nah': 3557, 'segment': 1449, 'rajni': 3558, 'rich': 3559, 'hall': 1783, 'gambl': 3560, 'al': 1694, 'gymnast': 3562, 'ppv': 3563, 'pathet': 430, 'give': 16, 'hungari': 3564, 'beneath': 3565, 'creator': 1784, 'puff': 3216, 'legend': 1785, 'blalock': 2831, 'statement': 1786, 'itali': 2837, 'helvard': 3569, 'cd': 678, 'ugh': 582, 'countrysid': 3720, 'provok': 1788, 'discomfitur': 3571, 'revolutionari': 3572, 'durat': 3573, 'virginia': 1789, 'cheap': 948, 'hous': 257, 'join': 3575, 'tock': 3057, 'breez': 3577, 'richard': 3578, 'credibl': 583, 'eventid': 3579, 'pacino': 3580, 'holli': 1790, 'beard': 3581, 'characteris': 3582, 'martian': 3583, 'piffl': 3407, 'id': 3561, 'berkeley': 3584, 'kasden': 3657, 'obscur': 795, 'sale': 1792, 'craft': 3585, 'advertis': 3586, 'uncertain': 3587, 'depend': 1793, 'bash': 3588, 'tom': 4438, 'roth': 3589, 'job': 162, 'frenchman': 3756, 'likelihood': 3591, 'feed': 2374, 'popcorn': 796, 'dodson': 3593, 'ossession': 3594, 'number': 585, 'villa': 3097, 'entangl': 3059, 'realiti': 797, 'ladd': 3470, 'product': 147, 'pretti': 2981, 'wit': 824, 'aloha': 2984, 'heavili': 3601, 'creation': 1605, 'completest': 1951, 'rip': 431, 'reckon': 4185, 'mayhem': 2288, 'age': 106, 'desir': 1612, 'angel': 949, 'antonioni': 4646, 'ishq': 2874, 'boppana': 4490, 'task': 1796, 'rudolph': 4647, 'becom': 3608, 'cinematographi': 509, 'judgement': 913, 'throne': 1204, 'filth': 1205, 'cinematopghaphi': 3609, 'stardom': 3906, 'roadi': 3610, 'babysitt': 3837, 'favorit': 217, 'susan': 3064, 'stuff': 103, 'luv': 3614, 'zhivago': 3615, 'oversea': 3616, 'iv': 3080, 'goldblum': 3619, 'lycanthrop': 3620, 'goof': 3621, 'evilest': 3622, 'heartless': 4288, 'noir': 798, 'best': 43, 'lyndsay': 3441, 'ron': 3625, 'catch': 393, 'asia': 3626, 'stole': 3727, 'outta': 510, 'eclips': 3628, 'postal': 1797, 'osmond': 3629, 'theroux': 3129, 'soho': 3631, 'sht': 1215, 'recov': 1491, 'hels': 1798, 'odditi': 3635, 'earn': 1206, 'barracuda': 3636, 'bruckhiem': 3637, 'merk': 231, 'hop': 3638, 'marvel': 1207, 'order': 432, 'priest': 3639, 'minut': 66, 'inch': 3186, 'moment': 201, 'purpl': 3643, 'horton': 4267, 'plan': 1799, 'fever': 1270, 'mine': 554, 'shoot': 3646, 'sooner': 3647, 'effort': 104, 'frisbe': 4453, 'standpoint': 1801, 'sarcasm': 1803, 'dinosauru': 3648, 'singer': 3649, 'hyet': 3230, 'powerhous': 3651, 'much': 25, 'zwrite': 3652, 'tie': 1804, 'iii': 799, 'yorker': 3519, 'pleasant': 3654, 'remain': 3655, 'design': 3656, 'awwwwww': 3257, 'counsel': 3658, 'horobin': 3659, 'fit': 1208, 'scar': 1805, 'stronger': 3660, 'heck': 3661, 'phil': 3662, 'junk': 282, 'farm': 3663, 'thirst': 3664, 'sam': 3665, 'tunnel': 1806, 'artifici': 3666, 'major': 3667, 'cabin': 3668, 'suspend': 3669, 'oscar': 950, 'schlock': 800, 'particular': 3670, 'atroc': 1807, 'alway': 332, 'chili': 3671, 'bleed': 1808, 'schartzscop': 3672, 'dimens': 1809, 'alvarado': 3673, 'bass': 3674, 'tim': 1810, 'gyarah': 3676, 'pinjar': 3677, 'dec': 3678, 'jewel': 3679, 'sensat': 3681, 'heartstr': 3682, 'steroid': 4721, 'kitti': 3683, 'million': 1811, 'deliver': 3684, 'razor': 3685, 'azjazz': 1812, 'inventori': 3602, 'subzero': 2628, 'main': 2813, 'rick': 2651, 'illog': 3688, 'verbiag': 3689, 'lisa': 4199, 'elit': 2793, 'molli': 3692, 'tb': 3060, 'kish': 3694, 'project': 433, 'downer': 3695, 'counterpart': 3223, 'knob': 3697, 'rate': 9, 'waffl': 3698, 'corp': 3699, 'throughout': 331, 'burton': 3501, 'requir': 1209, 'popular': 680, 'disingenu': 3701, 'intoler': 3703, 'simon': 3704, 'realis': 1192, 'cut': 394, 'unintellig': 3706, 'itch': 1210, 'net': 1211, 'push': 1814, 'obstacl': 3707, 'flightsuit': 3708, 'neat': 1815, 'naught': 3709, 'user': 3390, 'confus': 511, 'futur': 105, 'authent': 1816, 'hilar': 3737, 'unfold': 3711, 'garvin': 3279, 'month': 681, 'cohen': 3712, 'mayo': 3713, 'start': 333, 'aliv': 395, 'gotuntil': 3714, 'convict': 3715, 'friendli': 3716, 'liiiiiiiiif': 3717, 'saurabh': 3718, 'succeed': 802, 'unknown': 3719, 'ocar': 3570, 'date': 259, 'time': 3, 'hardwork': 3947, 'lee': 682, 'consciou': 3722, 'canadian': 1212, 'bag': 1213, 'vaniti': 3723, 'hanna': 2799, 'frasier': 4664, 'prize': 3726, 'handi': 1991, 'monsterfest': 3627, 'moretti': 2425, 'emma': 1818, 'magnitud': 1157, 'leader': 2769, 'turret': 3730, 'rainmak': 4651, 'amen': 1820, 'quall': 3731, 'facet': 3732, 'endur': 1821, 'athey': 3733, 'psych': 3605, 'enthusiast': 803, 'mar': 1529, 'splat': 3734, 'courag': 3735, 'ninja': 951, 'gap': 3736, 'heaven': 512, 'averag': 513, 'rid': 1214, 'perri': 3710, 'peep': 3738, 'longer': 825, 'aladdin': 3085, 'perhap': 1113, 'ritter': 952, 'cox': 171, 'mustan': 2315, 'flane': 3740, 'joke': 202, 'georgett': 3218, 'friend': 115, 'aam': 3742, 'appli': 1203, 'lame': 240, 'smackdown': 4736, 'subtext': 3745, 'denoument': 3746, 'boss': 1824, 'glove': 1825, 'jubil': 3747, 'volcano': 3748, 'stimul': 3749, 'foolhardi': 3750, 'check': 47, 'dean': 3751, 'groin': 3752, 'soldier': 1012, 'actress': 434, 'less': 283, 'sleaz': 3755, 'gloriou': 1826, 'goer': 958, 'research': 3757, 'bc': 1827, 'thinker': 3382, 'jerri': 3759, 'anger': 3760, 'past': 365, 'christian': 953, 'crucifix': 3762, 'seek': 586, 'atroci': 1828, 'pete': 3763, 'whew': 3764, 'live': 116, 'hammi': 1829, 'get': 50, 'event': 804, 'outgrew': 3765, 'kid': 97, 'sort': 1767, 'holi': 3766, 'husband': 3767, 'triumph': 3768, 'heard': 587, 'citi': 588, 'fishburn': 3769, 'afficionado': 3770, 'dud': 378, 'jr': 812, 'highli': 551, 'grudg': 3772, 'bhangra': 4766, 'hurt': 466, 'arbit': 3773, 'uncov': 3774, 'strive': 3775, 'prop': 4211, 'mood': 396, 'print': 865, 'content': 467, 'shapiro': 1831, 'field': 683, 'ahead': 1218, 'fortnight': 4213, 'poetic': 3777, 'telemundo': 3778, 'twin': 1832, 'karma': 3779, 'viewpoint': 2846, 'funer': 3781, 'judg': 363, 'stereotyp': 3782, 'gotten': 3687, 'cosmo': 3784, 'somewher': 589, 'showcas': 1833, 'rothrock': 3785, 'almost': 3645, 'warn': 48, 'chiasmu': 3786, 'finch': 1435, 'shuttl': 3787, 'tab': 3788, 'airwav': 3789, 'purchas': 954, 'diamond': 4855, 'catscratch': 3790, 'whatev': 684, 'com': 94, 'mumbl': 3918, 'pinter': 3791, 'peddler': 3792, 'cancel': 1220, 'mate': 1221, 'shown': 2848, 'manner': 590, 'match': 955, 'unjust': 3794, 'copi': 232, 'error': 4138, 'root': 4610, 'skip': 156, 'cole': 3795, 'frustrat': 3796, 'cultur': 956, 'nation': 1958, 'castrat': 3798, 'hollow': 1117, 'kvell': 4733, 'eleniak': 3800, 'digress': 3801, 'mail': 469, 'streep': 3802, 'wrap': 805, 'choic': 397, 'kingdom': 3803, 'phenomenon': 3804, 'simpson': 3805, 'varieti': 1835, 'sorcia': 3806, 'tearjerk': 3943, 'england': 685, 'turkey': 339, 'similar': 1836, 'bacon': 3807, 'funni': 60, 'plausibl': 3632, 'emmi': 1837, 'uplift': 1920, 'decis': 591, 'imdb': 334, 'meter': 1838, 'steam': 3753, 'vodka': 3809, 'guy': 241, 'up': 1839, 'near': 686, 'vision': 957, 'chronicl': 1840, 'melachon': 3810, 'tribut': 1222, 'arctic': 3811, 'safe': 1841, 'waltz': 4760, 'flat': 806, 'dollar': 3812, 'articl': 3813, 'proceed': 3814, 'scorses': 4681, 'romant': 1223, 'indi': 3815, 'hook': 1842, 'solino': 3816, 'bergen': 3817, 'wildsmith': 3818, 'soon': 148, 'ocean': 3819, 'absolut': 1224, 'plane': 1843, 'incorrect': 3820, 'bit': 284, 'way': 26, 'surpris': 263, 'extraordinari': 959, 'urg': 3821, 'tune': 1844, 'satir': 998, 'refer': 1225, 'highway': 3822, 'databas': 3823, 'obvious': 1226, 'rstj': 2901, 'titti': 3825, 'venger': 3758, 'blank': 3826, 'pursu': 3827, 'second': 436, 'davitelja': 3828, 'mold': 3829, 'accentu': 4765, 'expel': 3000, 'justif': 3831, 'remark': 842, 'parent': 807, 'borrow': 3832, 'hilari': 364, 'ana': 4685, 'over': 3834, 'equal': 1227, 'finish': 311, 'apologis': 4686, 'fond': 2858, 'ozjepp': 3836, 'network': 808, 'holler': 4694, 'sandwich': 1846, 'necessari': 1007, 'storytel': 592, 'paramilitari': 4702, 'diehard': 3267, 'tiresom': 3839, 'tavern': 3840, 'jlh': 1847, 'offic': 3841, 'doon': 3842, 'critic': 687, 'altogeth': 960, 'jaqui': 3843, 'blame': 809, 'annual': 2841, 'whistl': 3844, 'ferrari': 3845, 'trailer': 961, 'throw': 962, 'kattan': 3846, 'bitter': 3847, 'versa': 1636, 'destruct': 3848, 'feat': 3849, 'circumst': 963, 'someon': 688, 'nevermor': 1850, 'camouflag': 2751, 'kill': 285, 'clariti': 3702, 'creep': 964, 'archiv': 3852, 'superstar': 3853, 'nyc': 3854, 'ludicr': 1851, 'sound': 965, 'everyday': 3855, 'furiou': 3243, 'camera': 689, 'au': 3857, 'shark': 3859, 'dimpl': 3860, 'trap': 1228, 'ga': 1229, 'horror': 260, 'saith': 3861, 'vulner': 3862, 'shirt': 1230, 'old': 261, 'enix': 2657, 'daughter': 1019, 'argentina': 3865, 'cash': 966, 'sweater': 1853, 'clau': 4227, 'cleveland': 3867, 'construct': 1830, 'point': 86, 'review': 101, 'innoc': 1854, 'monument': 3869, 'dalton': 1231, 'bicycl': 3870, 'great': 72, 'crank': 3871, 'mgm': 1855, 'clean': 4781, 'nooooooo': 4153, 'jackman': 1856, 'cool': 713, 'travolta': 3013, 'theatr': 810, 'distract': 811, 'warner': 2749, 'inspir': 340, 'lunchtim': 3876, 'greatest': 2549, 'verdict': 1030, 'miller': 1857, 'us': 95, 'survivor': 3380, 'engross': 1858, 'seymour': 3881, 'obsess': 3309, 'magorian': 3882, 'kink': 1859, 'respect': 437, 'joseph': 3883, 'cupidgrl': 3884, 'pein': 3885, 'quatermain': 3338, 'experienc': 1340, 'stardust': 3888, 'aris': 1860, 'pinnochio': 3889, 'appl': 1271, 'reicher': 4019, 'decad': 470, 'eisenstein': 3891, 'truth': 286, 'dipaolo': 3892, 'frontier': 3893, 'todd': 3894, 'latvia': 3895, 'skidoo': 2648, 'retir': 1861, 'wow': 435, 'conclus': 514, 'measur': 1232, 'irrit': 1686, 'trash': 125, 'crikey': 3897, 'lidl': 2471, 'encount': 4688, 'bloodlust': 3899, 'beauti': 149, 'capsul': 1233, 'yup': 3900, 'hospit': 1863, 'loud': 839, 'tap': 1864, 'breakumentarion': 3902, 'preciou': 4578, 'disc': 3903, 'refin': 3904, 'babi': 967, 'vey': 3905, 'claim': 4560, 'switzerland': 1272, 'drule': 3907, 'cinderella': 4699, 'underground': 3909, 'skagway': 3910, 'disast': 471, 'snoozefest': 3911, 'ten': 93, 'dare': 690, 'fix': 1866, 'mexican': 4090, 'pit': 3912, 'sequel': 91, 'sappi': 3914, 'listen': 438, 'ramon': 3915, 'p': 335, 'benchmark': 3425, 'fox': 1867, 'continu': 813, 'toilet': 3917, 'k': 801, 'come': 61, 'grew': 1036, 'dustbin': 3776, 'sub': 2460, 'senc': 2149, 'affect': 968, 'ofstar': 3922, 'sitcom': 1235, 'dull': 627, 'devin': 4704, 'hallelujah': 3925, 'scari': 515, 'slack': 2166, 'ticket': 1238, 'even': 163, 'writer': 1010, 'dcom': 3023, 'talk': 219, 'eggert': 3931, 'jewelri': 3933, 'heroism': 1869, 'nest': 1870, 'tend': 3934, 'crew': 399, 'cuisin': 3935, 'fella': 3319, 'sayonara': 3936, 'condemn': 3503, 'given': 629, 'snowman': 1871, 'mcdermott': 3938, 'kelli': 3939, 'later': 157, 'aplomb': 3940, 'drek': 4659, 'mtv': 3469, 'rjt': 3942, 'bmoviefreak': 2559, 'websit': 970, 'contin': 3944, 'weapon': 1237, 'must': 472, 'greenhous': 3945, 'aimant': 3265, 'grim': 1872, 'racist': 2228, 'joe': 1873, 'state': 659, 'spellbound': 2236, 'fullest': 3948, 'foot': 1874, 'tnt': 3949, 'data': 4236, 'shim': 3951, 'inevit': 1402, 'reinhold': 3952, 'videotequ': 3953, 'demis': 1875, 'unconvent': 2867, 'viewer': 220, 'spectacular': 1239, 'better': 15, 'illiteraci': 2181, 'post': 1240, 'grrrr': 3956, 'automat': 3201, 'walken': 1876, 'confidenti': 3958, 'barrymor': 3959, 'brilliant': 461, 'autumn': 3960, 'breathless': 2988, 'cincinnati': 3962, 'br': 0, 'penalti': 3921, 'texan': 3323, 'octob': 2321, 'buri': 2324, 'jonah': 3965, 'asid': 2333, 'hearst': 3967, 'yvelin': 816, 'yuck': 972, 'dubieti': 3968, 'surround': 1241, 'greek': 3969, 'solitud': 3970, 'upon': 1242, 'gangland': 3971, 'dash': 3920, 'hddc': 3972, 'nl': 3973, 'unrecogniz': 4672, 'overpopul': 3974, 'clear': 580, 'area': 973, 'deliber': 3975, 'straightforward': 3976, 'teen': 3977, 'tear': 729, 'regim': 1712, 'camp': 817, 'percept': 3980, 'dread': 818, 'zorro': 3981, 'dreamgirl': 3982, 'broadhurst': 3983, 'daylight': 3984, 'puzzlement': 4074, 'thx': 3409, 'lilli': 4525, 'deeper': 3986, 'stick': 1243, 'term': 974, 'lantern': 3987, 'ryan': 3988, 'claus': 3990, 'taxi': 3991, 'program': 975, 'i': 4266, 'matter': 197, 'cabal': 3992, 'slot': 1284, 'market': 819, 'wast': 129, 'play': 221, 'bother': 150, 'target': 1878, 'demand': 1879, 'moviepass': 2512, 'uninform': 3993, 'unnecessari': 1880, 'jock': 3550, 'wet': 4714, 'ant': 2127, 'potter': 3205, 'revel': 3513, 'grandin': 3996, 'rifl': 3644, 'hawaii': 4244, 'inept': 1245, 'style': 336, 'campaign': 3999, 'hung': 1882, 'mediocr': 977, 'dead': 262, 'meant': 1883, 'answer': 978, 'situat': 287, 'timeless': 979, 'indign': 4000, 'zeal': 4001, 'club': 4507, 'memor': 468, 'groupi': 4002, 'emul': 2578, 'migrain': 4815, 'r': 516, 'tollywood': 4003, 'filmdom': 4004, 'prostitut': 4005, 'engin': 1885, 'receiv': 691, 'trove': 4006, 'bunch': 1886, 'armor': 2611, 'gamera': 4007, 'roberta': 4008, 'cw': 4009, 'excrement': 4010, 'forti': 4011, 'everywher': 981, 'raven': 3741, 'moustach': 2642, 'influenc': 3985, 'holocaust': 4014, 'condens': 3423, 'toupe': 4015, 'schlesing': 4016, 'somehow': 1151, 'mobocraci': 4272, 'croydon': 4017, 'sunset': 4759, 'corman': 4018, 'caricatur': 982, 'everyman': 3919, 'disagre': 1888, 'nick': 1591, 'breathtak': 2094, 'sake': 692, 'sung': 4021, 'alec': 4022, 'kindl': 3010, 'prejudic': 983, 'outstand': 517, 'danza': 4024, 'sexist': 2735, 'own': 1890, 'parter': 1891, 'ringmast': 4249, 'direct': 288, 'bent': 4026, 'diari': 1892, 'unrecommend': 2478, 'chicken': 4028, 'comfort': 1893, 'fairi': 2690, 'associ': 2134, 'evalu': 1247, 'recognit': 4030, 'pant': 3107, 'imperi': 4033, 'statist': 4652, 'cell': 4035, 'lithgow': 4036, 'whichev': 2775, 'unsubtli': 4038, 'brillianc': 985, 'duck': 4039, 'bullsey': 4040, 'fee': 1248, 'fenton': 4041, 'chart': 4042, 'incomprehens': 1894, 'randolph': 2436, 'rental': 312, 'moral': 986, 'doozi': 1249, 'coloni': 2819, 'wiskey': 4045, 'bah': 4046, 'klick': 3728, 'ustinov': 3598, 'mark': 398, 'spent': 987, 'feel': 179, 'conceit': 4050, 'labyrinth': 4051, 'funnier': 693, 'challeng': 596, 'london': 1250, 'impli': 4052, 'lenya': 4053, 'sid': 4054, 'season': 180, 'began': 1895, 'overcook': 4056, 'inclus': 1896, 'ciao': 4057, 'adolesc': 1897, 'monitor': 4058, 'luca': 1898, 'mayb': 337, 'worker': 1581, 'sorri': 203, 'titl': 242, 'correct': 1900, 'recommand': 4060, 'reson': 4061, 'breakup': 4062, 'tanger': 3263, 'tenant': 3053, 'blew': 4013, 'palat': 4063, 'housew': 4064, 'noteworthi': 2941, 'decemb': 1539, 'easier': 4067, 'sarcast': 4068, 'eburn': 3797, 'aspect': 1901, 'came': 597, 'weirdo': 4230, 'derboil': 2585, 'crunch': 4071, 'artemisia': 4769, 'zzzzzzzzzzzzz': 4072, 'resolut': 4073, 'hoast': 2879, 'lower': 820, 'adequ': 988, 'shame': 151, 'overweight': 4075, 'schildkraut': 3015, 'posit': 1125, 'fanfan': 3495, 'chocol': 4078, 'recreat': 1904, 'bradburi': 4079, 'flic': 1167, 'laura': 4081, 'excel': 135, 'duplic': 3554, 'caffein': 4083, 'zhang': 3040, 'winkler': 3473, 'carnosour': 4085, 'hitler': 4086, 'maddern': 2445, 'fate': 4088, 'wkrp': 4089, 'box': 1252, 'farc': 933, 'speak': 4091, 'heath': 2870, 'vijay': 3617, 'bush': 1640, 'wallet': 1905, 'wise': 598, 'willett': 1253, 'understand': 439, 'hannib': 4095, 'none': 518, 'experi': 92, 'figur': 400, 'hollar': 4097, 'side': 473, 'environ': 1254, 'mask': 1906, 'fresh': 1907, 'blech': 4098, 'junki': 4100, 'parlour': 3142, 'bracket': 4585, 'might': 1255, 'path': 1256, 'neatli': 4103, 'rider': 1908, 'mixtur': 1910, 'microphon': 4703, 'willard': 3642, 'nauseum': 4107, 'penni': 1911, 'rees': 4108, 'gave': 172, 'wa': 4109, 'foudr': 4110, 'potato': 4111, 'fahey': 4112, 'dumpster': 4113, 'increas': 1912, 'dark': 821, 'alreadi': 599, 'dumbland': 2703, 'egress': 4115, 'name': 173, 'buy': 127, 'gael': 4116, 'agoni': 1683, 'monstervis': 4117, 'draw': 4118, 'festiv': 694, 'masteri': 4119, 'mason': 4120, 'categori': 695, 'frame': 4838, 'hill': 1467, 'twister': 1914, 'injustic': 4012, 'reign': 1257, 'essay': 4122, 'vertigo': 2540, 'laputa': 4737, 'atlanti': 1916, 'benjamin': 4123, 'exploit': 1917, 'church': 1918, 'green': 4124, 'hors': 1258, 'eleph': 4125, 'subdu': 4126, 'pressburg': 4127, 'heal': 3590, 'dug': 4128, 'knudsen': 4129, 'cesspool': 1919, 'vaudevil': 3401, 'uk': 697, 'trebek': 4130, 'januari': 1921, 'stink': 822, 'cooker': 4132, 'predica': 1922, 'clark': 4133, 'torn': 3928, 'celluloid': 698, 'neg': 1787, 'crawford': 4228, 'butt': 1924, 'rohmer': 1925, 'elvi': 4136, 'sentiment': 823, 'morn': 1352, 'punch': 1926, 'careless': 4137, 'yech': 3376, 'despair': 1251, 'choppi': 4139, 'ada': 4140, 'boooooooo': 4141, 'jlu': 4142, 'boyfriend': 4143, 'person': 289, 'az': 4144, 'dv': 4145, 'airwolf': 4146, 'horizon': 1927, 'super': 937, 'nintendo': 4147, 'novel': 401, 'burger': 3413, 'collect': 152, 'fk': 4149, 'tea': 1260, 'trail': 3344, 'contriv': 4151, 'execut': 699, 'tanaka': 4152, 'america': 328, 'loafer': 3603, 'slop': 4154, 'skunk': 4155, 'piti': 474, 'seinfeld': 4156, 'punk': 1928, 'catwalk': 4157, 'premier': 4158, 'aime': 2747, 'cartwright': 4684, 'ego': 4160, 'occur': 4161, 'afterward': 601, 'victim': 1261, 'gooledyspook': 2910, 'veiw': 4162, 'jaihind': 4163, 'fire': 519, 'ancient': 4164, 'sturg': 2911, 'haircut': 4165, 'energi': 4166, 'infin': 4167, 'move': 338, 'emptour': 4168, 'sketch': 1929, 'kwai': 4169, 'hmmm': 4170, 'lot': 281, 'venu': 4172, 'jen': 3868, 'fashion': 944, 'ann': 3398, 'yam': 4176, 'regard': 1262, 'fl': 4177, 'hazzard': 1930, 'choreographi': 2824, 'suckotroc': 4179, 'stile': 4180, 'mozart': 4181, 'capaldi': 4182, 'serial': 1931, 'journey': 701, 'microman': 4183, 'stomach': 846, 'mass': 1263, 'oracl': 4184, 'blaisdel': 2141, 'vancouv': 2891, 'fair': 1932, 'jeez': 4186, 'mechan': 1933, 'discuss': 1264, 'scarfac': 4187, 'writen': 4188, 'vito': 4189, 'issu': 4748, 'wing': 4191, 'tritter': 4192, 'crap': 57, 'briefli': 4178, 'scan': 4193, 'spiral': 4194, 'april': 993, 'differ': 186, 'artwork': 4196, 'idiosyncrat': 4198, 'liter': 1934, 'discothequ': 3690, 'window': 994, 'fetish': 1170, 'meat': 4200, 'splendor': 4201, 'roof': 1935, 'consequ': 4202, 'overr': 4372, 'witti': 3574, 'find': 140, 'phenomena': 4204, 'intellig': 602, 'hair': 1265, 'hood': 1822, 'videodisc': 4205, 'unengag': 4206, 'accus': 4207, 'union': 4208, 'freddyshoop': 4209, 'memorabilia': 4210, 'grant': 1266, 'hmm': 2108, 'wendi': 2399, 'convinc': 1936, 'kane': 826, 'advanc': 827, 'accomplish': 1217, 'bore': 76, 'harlin': 4212, 'baddi': 3908, 'licenc': 4135, 'darklight': 4214, 'canyon': 1937, 'honesti': 1267, 'agenda': 3937, 'curios': 1268, 'gorgeou': 1583, 'tact': 4216, 'concur': 4218, 'juli': 1938, 'motorcycl': 2135, 'tacki': 4219, 'gorefest': 4220, 'top': 313, 'escap': 996, 'chore': 4221, 'fizzl': 4222, 'circa': 1939, 'lewi': 1630, 'grandmoth': 4224, 'swordsman': 4225, 'leagu': 1269, 'statham': 4226, 'distinguish': 3866, 'puppet': 1356, 'alex': 4277, 'sexi': 1940, 'halv': 3324, 'shut': 1152, 'haha': 1541, 'joki': 4231, 'awar': 3653, 'comprehens': 1273, 'probabl': 603, 'tyrel': 4092, 'tivo': 4232, 'shit': 4233, 'known': 703, 'happier': 1219, 'fact': 480, 'characterist': 2921, 'elimin': 4234, 'york': 2337, 'money': 38, 'eve': 4361, 'taken': 1274, 'tilli': 3950, 'comment': 366, 'erotica': 4238, 'chuckl': 828, 'strang': 815, 'john': 999, 'nevertheless': 1275, 'tit': 4239, 'fool': 705, 'wrestl': 4240, 'done': 117, 'bagatel': 4241, 'gori': 4242, 'jet': 2208, 'attack': 1244, 'hasselhoff': 3998, 'world': 67, 'slide': 4245, 'underway': 4246, 'gb': 4594, 'passion': 1000, 'mysterios': 4247, 'stewardess': 4248, 'child': 291, 'fp': 4243, 'sympath': 4025, 'roommat': 3086, 'break': 341, 'slave': 3724, 'butterfli': 1277, 'russian': 1943, 'arsonist': 4251, 'ala': 1278, 'canada': 1001, 'hare': 1944, 'curti': 4252, 'spice': 4491, 'convent': 1945, 'forget': 233, 'pendleton': 4253, 'british': 1868, 'ryaba': 4254, 'anoth': 761, 'spielberg': 1279, 'howev': 706, 'ring': 1003, 'ii': 475, 'explan': 1280, 'sloppi': 1281, 'fabul': 2019, 'sulli': 4257, 'beforehand': 1946, 'scanner': 1947, 'lm': 4258, 'ident': 1775, 'sleep': 222, 'blab': 4259, 'apparatu': 4260, 'andrew': 4261, 'rot': 4262, 'biller': 4263, 'nonsens': 600, 'amaz': 298, 'breed': 4427, 'undemand': 4265, 'pet': 4070, 'thriller': 266, 'closest': 4268, 'commerci': 1282, 'attent': 264, 'describ': 4269, 'crude': 4270, 'amateurish': 3880, 'victori': 1949, 'perkin': 4271, 'button': 1283, 'score': 74, 'accept': 1950, 'studio': 1741, 'flag': 4283, 'wowser': 3209, 'sidekick': 4276, 'shortcom': 997, 'suit': 829, 'alik': 440, 'spoken': 4833, 'cognac': 4278, 'merci': 1004, 'gr': 4279, 'rotter': 4280, 'pud': 4281, 'chill': 4282, 'week': 476, 'horribbl': 4273, 'complet': 707, 'cross': 4284, 'tripe': 578, 'children': 244, 'master': 1953, 'tast': 342, 'manchu': 4285, 'rumor': 3872, 'fourth': 4287, 'counti': 4066, 'sign': 1285, 'paranoid': 4289, 'interest': 87, 'talent': 181, 'sanctimoni': 4290, 'dentro': 4291, 'rofl': 4292, 'sunk': 4293, 'subtleti': 4294, 'scam': 1966, 'grown': 1954, 'gag': 1587, 'teletubbi': 1955, 'household': 4354, 'admit': 1969, 'crp': 3518, 'anxieti': 4286, 'dirti': 4296, 'mean': 188, 'jigsaw': 4297, 'alamo': 4298, 'footprint': 2313, 'wonder': 174, 'gorcey': 3995, 'thumb': 158, 'chick': 1957, 'gratitud': 4829, 'va': 4300, 'sting': 1563, 'tite': 2335, 'foxx': 4301, 'simpl': 830, 'thoroughli': 3957, 'read': 245, 'larissa': 4303, 'vacuou': 4304, 'meow': 4576, 'pain': 314, 'hermit': 3634, 'exec': 3247, 'redeem': 1286, 'missabl': 1959, 'unexpect': 1960, 'hessler': 3071, 'tryfon': 4307, 'hate': 246, 'unseen': 4308, 'matt': 4309, 'plagiar': 4730, 'closur': 3429, 'edg': 709, 'hamburg': 4311, 'duo': 1961, 'natur': 831, 'crowd': 1005, 'rise': 4312, 'ha': 1006, 'putain': 3595, 'ah': 4314, 'bust': 1962, 'jacknif': 4366, 'botch': 2013, 'madrid': 4317, 'serv': 4318, 'wheat': 4319, 'materi': 343, 'wain': 4320, 'level': 247, 'man': 189, 'venic': 4321, 'blonder': 4322, 'plead': 4323, 'georg': 1963, 'creepi': 604, 'bocka': 4324, 'honeymoon': 3739, 'shine': 521, 'familiar': 1376, 'harmoni': 4327, 'deathtrap': 4631, 'suffoc': 3242, 'connor': 2939, 'indulg': 4329, 'nowaday': 1287, 'glass': 3808, 'canon': 4331, 'nice': 402, 'jessica': 4332, 'gun': 1008, 'routin': 2947, 'got': 617, 'free': 1009, 'hugh': 1288, 'johnr': 4334, 'bresson': 3596, 'poignanc': 1289, 'element': 605, 'nois': 4335, 'hostel': 4336, 'morri': 1290, 'saget': 4337, 'devast': 4338, 'buoyant': 4339, 'bu': 4340, 'german': 4341, 'hornomania': 4342, 'cinema': 52, 'exit': 4344, 'empir': 4345, 'odd': 2433, 'advic': 1291, 'par': 1389, 'pornographi': 1626, 'contact': 2673, 'queen': 1967, 'melt': 4350, 'motiv': 3549, 'moon': 576, 'sacr': 4352, 'bravo': 315, 'straight': 1956, 'atwood': 4353, 'choir': 2665, 'rabi': 4355, 'pedicur': 2496, 'felt': 2063, 'earth': 458, 'hr': 4358, 'bye': 522, 'melodrama': 832, 'unprepar': 4359, 'instal': 1293, 'marker': 4360, 'slant': 1970, 'symptom': 3994, 'distinct': 4362, 'defam': 4363, 'credit': 316, 'crucial': 4364, 'portray': 523, 'wild': 1294, 'definit': 606, 'motion': 4299, 'trip': 649, 'viabl': 4367, 'menac': 4368, 'deservedli': 2089, 'reject': 4370, 'unabsorb': 4371, 'center': 1971, 'freak': 2967, 'herein': 4373, 'misplac': 4374, 'dump': 4741, 'trial': 1972, 'disjoint': 4375, 'seventi': 4376, 'profan': 607, 'koyaanisqatsi': 4377, 'bsg': 3039, 'vote': 164, 'rasulala': 3174, 'shorter': 4379, 'heap': 1973, 'compens': 4380, 'gal': 4775, 'slip': 4382, 'enbom': 4105, 'disbelief': 1469, 'helicopt': 4385, 'sellam': 4386, 'poem': 4387, 'scienc': 1295, 'bloom': 4419, 'alia': 4388, 'thoma': 4389, 'churchil': 2122, 'shanghai': 2126, 'war': 265, 'knight': 4391, 'uhm': 3248, 'patienc': 1975, 'ol': 4392, 'brain': 478, 'loop': 1976, 'pink': 4393, 'never': 367, 'morrow': 4394, 'carter': 1849, 'adopt': 2170, 'channel': 292, 'ask': 403, 'cheat': 1296, 'boobag': 3088, 'endless': 4398, 'captiv': 4399, 'daddi': 1297, 'akin': 2503, 'philosophi': 1386, 'icon': 4476, 'porn': 1978, 'dodgerdud': 4402, 'bless': 608, 'whenev': 4403, 'korea': 4404, 'censor': 2224, 'overact': 1979, 'februari': 4406, 'aerodynam': 2231, 'object': 1981, 'cronenberg': 2234, 'terribl': 223, 'verhoeven': 4408, 'nativ': 4409, 'trivia': 4410, 'spare': 2248, 'pseudonym': 4412, 'mcbain': 4302, 'picnic': 4413, 'ned': 4414, 'vet': 4415, 'recent': 1982, 'law': 1298, 'unbear': 4416, 'blob': 1050, 'carmen': 1412, 'saniti': 2070, 'follow': 344, 'knew': 1983, 'haunt': 1984, 'delinqu': 4420, 'precinct': 4421, 'rent': 96, 'hale': 4422, 'cgi': 2305, 'plant': 1985, 'virtu': 4423, 'mitchel': 1011, 'short': 345, 'linfield': 2316, 'memori': 368, 'nakata': 4425, 'vogel': 4426, 'land': 1299, 'sr': 3396, 'freedom': 1300, 'scott': 610, 'ejacul': 3851, 'trite': 4428, 'tween': 4429, 'fx': 1216, 'inconsequenti': 4431, 'speech': 3211, 'examin': 1986, 'pertwe': 4433, 'eliason': 1987, 'amor': 4434, 'whore': 4435, 'charmer': 4436, 'congratul': 1301, 'pull': 1302, 'prestig': 3353, 'stunt': 4439, 'paragraph': 4440, 'salt': 1989, 'abound': 4441, 'spirit': 833, 'basi': 4442, 'se': 1446, 'certain': 2411, 'gang': 1990, 'postur': 2680, 'jur': 4588, 'soma': 4445, 'inquisit': 4446, 'bruckheim': 4447, 'exactli': 1110, 'irina': 4449, 'invad': 1992, 'take': 454, 'jaoui': 4450, 'oh': 2451, 'gate': 4451, 'format': 741, 'hold': 1994, 'argh': 4454, 'input': 4455, 'stolen': 4456, 'mulch': 2475, 'crise': 4458, 'cringeworthi': 4459, 'marriag': 1304, 'kingpin': 4462, 'though': 51, 'gruesom': 3492, 'waqt': 4461, 'bullet': 2542, 'wake': 1995, 'inform': 1305, 'spi': 4771, 'teenag': 1996, 'richardson': 2511, 'accolad': 4348, 'endear': 1306, 'make': 68, 'underr': 1307, 'launch': 4464, 'kaufmann': 4465, 'crack': 2527, 'incident': 4467, 'faith': 780, 'beach': 4395, 'recycl': 3799, 'columbo': 4468, 'humor': 224, 'stanley': 4469, 'cube': 4470, 'tarantino': 1997, 'ex': 1998, 'approv': 1579, 'enhanc': 1999, 'jackson': 4472, 'toxic': 4473, 'sixti': 4474, 'imit': 1308, 'liner': 2000, 'antichrist': 4475, 'end': 13, 'gomez': 4043, 'distort': 2588, 'outer': 2513, 'deliri': 938, 'hi': 4477, 'overlook': 1073, 'pan': 2006, 'surgeri': 1309, 'enemi': 1310, 'cream': 4478, 'trick': 2007, 'bond': 1311, 'ishtar': 4479, 'gosh': 2621, 'schmid': 2624, 'centr': 2008, 'ador': 1312, 'tradit': 4482, 'cavalri': 4483, 'senseless': 2009, 'lure': 4484, 'strip': 4485, 'script': 170, 'fellow': 4486, 'masturbatori': 4487, 'acr': 2656, 'syndrom': 1313, 'modesti': 2956, 'bliss': 2012, 'rush': 4488, 'renter': 4489, 'beeyotch': 3482, 'backward': 1546, 'etern': 907, 'n': 1314, 'herp': 3301, 'dine': 4493, 'religion': 1315, 'siani': 3234, 'conflict': 4494, 'wayn': 4495, 'attach': 1316, 'ensu': 1317, 'panavis': 4791, 'grinder': 4094, 'aventurera': 4102, 'nowher': 1318, 'portfolio': 2720, 'paycheck': 2724, 'shaft': 4500, 'director': 113, 'tech': 2731, 'confect': 4502, 'lost': 441, 'final': 834, 'coupl': 1319, 'bottom': 1320, 'coy': 4503, 'culp': 1538, 'larocca': 4506, 'explain': 835, 'process': 2014, 'dunst': 2776, 'absurd': 836, 'freeway': 4761, 'bottl': 1596, 'filmmak': 611, 'rain': 1321, 'hackney': 3355, 'prophet': 4509, 'repeat': 712, 'california': 4511, 'mingella': 4512, 'worst': 423, 'simpli': 4513, 'gymkata': 4515, 'anymor': 346, 'uncl': 1432, 'bee': 4516, 'dudley': 4517, 'mirror': 1322, 'canal': 4518, 'campu': 4519, 'capabl': 1323, 'marcel': 4134, 'bow': 4520, 'aidsssss': 2810, 'acquir': 4521, 'weekend': 2016, 'kramer': 4522, 'anew': 4523, 'glenda': 4524, 'halloween': 2454, 'im': 4658, 'disgrac': 2098, 'hype': 750, 'lieuten': 3101, 'homegrown': 2336, 'well': 23, 'crook': 4526, 'nose': 1580, 'prioriti': 4528, 'doc': 4529, 'latter': 1015, 'return': 613, 'eat': 4530, 'implod': 2018, 'accent': 479, 'mike': 4531, 'wholesom': 4532, 'fontain': 4533, 'keith': 4783, 'garner': 4660, 'turtl': 4809, 'kind': 525, 'vehicl': 4534, 'trauma': 4535, 'digit': 3743, 'peter': 1324, 'chemistri': 4536, 'unmiss': 1325, 'roadkil': 4537, 'bittersweet': 2959, 'former': 4539, 'deanna': 2729, 'tv': 153, 'elliott': 4540, 'undistinguish': 4541, 'banal': 4542, 'netflix': 1327, 'boom': 3371, 'declin': 3592, 'oberon': 4545, 'mania': 2294, 'pretext': 4547, 'attempt': 2021, 'ripoff': 2022, 'goe': 1016, 'paradis': 3017, 'promot': 4550, 'slug': 4551, 'bannacheck': 4552, 'yarn': 2023, 'iberica': 2174, 'insult': 614, 'sensei': 4553, 'repuls': 4554, 'gangster': 4417, 'forum': 4555, 'frontal': 4556, 'sincer': 4557, 'goodi': 2026, 'unrealist': 4558, 'five': 1018, 'vaughan': 4559, 'cute': 2027, 'stinker': 615, 'dumbass': 3082, 'antic': 4561, 'videogam': 4328, 'west': 2028, 'yard': 4624, 'genr': 81, 'rewatch': 4562, 'remov': 2966, 'magic': 404, 'view': 42, 'suffic': 3112, 'humili': 4565, 'nolt': 3266, 'unicorn': 4811, 'linger': 2029, 'readi': 1020, 'intens': 1021, 'youssef': 2030, 'decim': 2995, 'stove': 4346, 'overdon': 3149, 'mancini': 4568, 'except': 616, 'daag': 2618, 'firefli': 1600, 'uneasi': 2031, 'classic': 39, 'casino': 3989, 'dmd': 4571, 'worship': 2032, 'narrat': 2033, 'churn': 4572, 'obscura': 837, 'tone': 1022, 'pitt': 1328, 'denouement': 1670, 'eyr': 1071, 'bamboozl': 4573, 'overwhelm': 4574, 'disord': 3686, 'hopewel': 2242, 'section': 4577, 'famou': 1599, 'attitud': 2034, 'scenario': 2035, 'huge': 4580, 'indian': 2005, 'yeeshhhhhhhhhhhhhhhhh': 2590, 'dealer': 4582, 'relax': 2036, 'quantiti': 4583, 'remad': 4584, 'arrang': 2037, 'procedur': 4333, 'fault': 4586, 'tell': 385, 'damm': 4810, 'bucket': 4587, 'vcr': 1608, 'mc': 3946, 'cake': 1329, 'combin': 2038, 'fulfil': 2039, 'tvpg': 3387, 'sister': 526, 'boll': 1330, 'eaten': 4591, 'phoenix': 4592, 'franklin': 4593, 'na': 1487, 'outliv': 4514, 'guidanc': 4595, 'women': 317, 'sport': 4384, 'std': 2302, 'meaning': 1331, 'album': 1332, 'bloodier': 4597, 'male': 2041, 'focu': 1333, 'perfectli': 1334, 'sleuth': 2323, 'six': 4598, 'saga': 2042, 'sadli': 1335, 'yippeee': 3877, 'auteuil': 4590, 'sleepwalk': 4600, 'weather': 1942, 'overboard': 2043, 'born': 1336, 'nap': 4602, 'harp': 182, 'undon': 4677, 'margareth': 2474, 'need': 267, 'zen': 4437, 'paper': 4604, 'timelin': 4605, 'rib': 4606, 'infecti': 3878, 'zap': 2568, 'vanish': 4609, 'obviou': 1337, 'usa': 1181, 'dose': 2044, 'esteem': 4611, 'difficult': 3879, 'sentinel': 4104, 'boy': 618, 'recommend': 7, 'dress': 4613, 'delight': 619, 'unreal': 4816, 'cowgirl': 3447, 'lotr': 4615, 'drive': 1024, 'apricot': 3961, 'undoubtedli': 4617, 'hamlet': 1338, 'sant': 3415, 'owl': 4619, 'maven': 4620, 'provinc': 4306, 'magnific': 2045, 'ir': 4621, 'otherwis': 1025, 'addison': 4622, 'caught': 4614, 'proof': 3932, 'incid': 4032, 'appeal': 704, 'enviou': 2556, 'stauffer': 3612, 'nunez': 4627, 'fume': 4628, 'zzzzzzzz': 4343, 'sit': 293, 'insomnia': 1026, 'stud': 4820, 'markov': 4629, 'eccentr': 4034, 'boo': 3524, 'galaxi': 4632, 'younger': 4641, 'photo': 4633, 'charact': 126, 'attract': 2046, 'perplex': 4634, 'sack': 1592, 'betray': 4635, 'demi': 4636, 'fleet': 4637, 'synagogu': 4638, 'protect': 4639, 'road': 714, 'obscen': 4640, 'ice': 2047, 'besid': 3680, 'dongen': 4642, 'doom': 1028, 'step': 2048, 'choos': 584, 'uglier': 4824, 'made': 37, 'basement': 2049, 'destin': 3606, 'slither': 3607, 'bradi': 3611, 'dragoon': 4649, 'dream': 294, 'fido': 4650, 'underdog': 4150, 'sarandon': 3761, 'valu': 225, 'afficinado': 2589, 'alpo': 4653, 'mimzi': 4654, 'documentari': 443, 'caruso': 3887, 'build': 1341, 'damag': 1342, 'reed': 3131, 'urin': 4656, 'song': 268, 'would': 295, 'moor': 2424, 'mulletrif': 4657, 'unconvinc': 4237, 'ameli': 3221, 'dt': 3400, 'vain': 1343, 'deshimaru': 4661, 'crab': 4662, 'sexual': 4498, 'ph': 3721, 'shambl': 3424, 'deed': 3725, 'articul': 4665, 'giant': 1344, 'navidad': 3253, 'entertain': 22, 'agreement': 4020, 'unmemor': 4667, 'fade': 2051, 'within': 3567, 'profound': 4313, 'honestli': 2052, 'weverka': 4669, 'fold': 1968, 'kudo': 2053, 'suspens': 620, 'hero': 529, 'link': 4670, 'suzhou': 4671, 'futurama': 2614, 'honour': 4673, 'dalmatian': 2054, 'two': 205, 'dunski': 4674, 'lili': 4031, 'scandinavian': 4676, 'territori': 2055, 'crown': 4432, 'reachabl': 4678, 'agaaaain': 4679, 'hyster': 2907, 'romp': 1345, 'run': 218, 'notori': 2056, 'abus': 1845, 'boob': 4683, 'max': 2986, 'warm': 3833, 'specialti': 3835, 'highland': 4687, 'volum': 1848, 'bat': 2225, 'stir': 4689, 'enterrrrrr': 4690, 'crypt': 3463, 'ejam': 3873, 'shade': 4692, 'drab': 4693, 'devil': 1952, 'rocker': 3426, 'nope': 2058, 'air': 370, 'sleeper': 2059, 'proport': 4696, 'admiss': 2020, 'appallingli': 4698, 'mcdonald': 3427, 'blood': 444, 'trooper': 4411, 'debat': 1346, 'mightili': 4700, 'dirrti': 4701, 'intent': 2812, 'peak': 2060, 'inde': 329, 'candi': 2061, 'mustard': 2062, 'worri': 3924, 'favor': 4705, 'eh': 1236, 'brandi': 4027, 'small': 715, 'consid': 4315, 'eye': 118, 'offer': 296, 'gothic': 3113, 'paperhous': 4708, 'selfish': 1348, 'patho': 1862, 'explor': 1396, 'economi': 4710, 'yeccch': 4711, 'bbc': 976, 'snorer': 4713, 'control': 885, 'geist': 2066, 'aspir': 3454, 'deduct': 4716, 'dig': 4717, 'bodi': 716, 'puke': 2067, 'terrif': 2068, 'deepli': 2550, 'damon': 4589, 'stupid': 530, 'blunt': 4720, 'filler': 3783, 'minor': 2069, 'willpow': 2760, 'cloud': 2071, 'nihil': 4722, 'bmw': 4579, 'bordeaux': 4724, 'storm': 4725, 'refund': 1349, 'report': 2072, 'un': 4726, 'woman': 717, 'ghost': 1903, 'constitut': 4728, 'pornostalgia': 4729, 'dissimilar': 2331, 'davi': 1350, 'zzzzzzzzzzzzzzzzzzzzzzzzzzzzzzzzzzzzzzzzzzzz': 4731, 'save': 531, 'tuck': 4732, 'lethal': 3705, 'starv': 4734, 'minded': 4735, 'miniseri': 3434, 'cynic': 991, 'sirbossman': 3901, 'favour': 2490, 'cari': 3498, 'seller': 4738, 'consensu': 4739, 'erica': 4131, 'devic': 4740, 'il': 2740, 'custom': 2655, 'shout': 4742, 'budget': 297, 'encor': 4055, 'crosbi': 4603, 'media': 1353, 'moviedom': 4744, 'towel': 4745, 'mower': 2111, 'spin': 1354, 'ford': 4747, 'admir': 2074, 'payoff': 2728, 'nail': 4190, 'presid': 2075, 'persuas': 4750, 'miracul': 4546, 'judgment': 1031, 'applaud': 4675, 'fu': 2076, 'extra': 702, 'spot': 4215, 'cast': 248, 'caution': 1355, 'bridg': 4753, 'ac': 4754, 'farrel': 2382, 'enh': 4755, 'visual': 1032, 'europ': 1941, 'rejuven': 4756, 'melbourn': 2079, 'duti': 4757, 'parapsychologist': 4830, 'be': 4758, 'hollywood': 249, 'compani': 1002, 'mungo': 2869, 'jane': 876, 'cusamano': 4680, 'set': 243, 'pirat': 4310, 'grin': 4762, 'vol': 4763, 'peron': 4764, 'rehab': 1033, 'human': 371, 'enter': 1754, 'heed': 4096, 'literatur': 2081, 'plu': 4719, 'sucker': 2082, 'wardrob': 4767, 'address': 2083, 'hotel': 4768, 'mani': 622, 'hunt': 623, 'ny': 2421, 'tt': 2078, 'depart': 2084, 'yuk': 3150, 'bogart': 4448, 'adapt': 407, 'horrifi': 4772, 'place': 137, 'cinma': 4843, 'awesom': 532, 'lake': 4774, 'voic': 1357, 'sky': 2085, 'iraq': 4381, 'arm': 2086, 'defend': 2791, 'barbarian': 4777, 'laugh': 56, 'disney': 1034, 'oprah': 3003, 'cobbler': 4778, 'bean': 4779, 'bradycardia': 4780, 'louis': 3886, 'goal': 2088, 'sorrow': 3954, 'seneg': 4782, 'dun': 3106, 'background': 1358, 'degre': 3979, 'doll': 4785, 'shed': 4786, 'yeah': 1359, 'cowardic': 4356, 'cold': 4847, 'quick': 2090, 'transit': 2396, 'realiz': 1360, 'love': 33, 'shell': 4080, 'voyag': 2091, 'witch': 4400, 'alter': 4790, 'hmmmm': 4076, 'low': 718, 'gordon': 2092, 'gari': 2093, 'servic': 1361, 'reaction': 4792, 'colossu': 4793, 'porno': 1611, 'comedian': 4794, 'bernstein': 4795, 'welcom': 841, 'candl': 4197, 'stifl': 3700, 'vivah': 1865, 'timer': 2892, 'bar': 2095, 'thin': 2096, 'plagu': 198, 'apocalypto': 4800, 'epic': 1035, 'sh': 4801, 'ship': 2097, 'illiter': 4802, 'subject': 533, 'excus': 4803, 'typecast': 4804, 'attenborough': 4805, 'award': 408, 'washer': 4806, 'lite': 4807, 'hulk': 3367, 'incompet': 3133, 'bummer': 3858, 'role': 130, 'rubber': 4812, 'boooooo': 3913, 'annoy': 534, 'giggl': 2099, 'normal': 4608, 'grinch': 2711, 'sex': 445, 'conscious': 4817, 'goat': 4818, 'kitchen': 4819, 'thang': 2912, 'mid': 4821, 'corner': 4822, 'anna': 4823, 'togeth': 238, 'progress': 2100, 'mcguir': 4644, 'dot': 4834, 'inaccuraci': 1362, 'miseri': 2101, 'santa': 2566, 'jud': 4826, 'today': 54, 'connecticut': 4797, 'chaplin': 3916, 'nwh': 4828, 'weird': 624, 'foster': 1363, 'without': 535, 'shaken': 4808, 'yo': 1049, 'music': 119, 'unto': 2064, 'elseavoid': 4831, 'controversi': 4832, 'disown': 2368, 'bed': 1364, 'pictur': 82, 'troubl': 1365, 'scandal': 2065, 'soundtrack': 323, 'board': 2102, 'heartbreak': 4856, 'bearabl': 2103, 'maka': 4837, 'earli': 495, 'ace': 4839, 'cruel': 1366, 'vraiment': 4840, 'ben': 4471, 'slowli': 4841, 'unintent': 3568, 'fi': 4842, 'reccommend': 4773, 'fri': 4844, 'awakebar': 4845, 'trait': 4846, 'addict': 1037, 'told': 838, 'dramatis': 4383, 'bin': 1038, 'netherland': 2104, 'thankyou': 4848, 'dirt': 4849, 'kong': 3771, 'innov': 2105, 'bad': 20, 'comic': 2106, 'restaur': 4796, 'unbias': 4852, 'feal': 4853, 'kelvin': 4718, 'fight': 720, 'spoil': 1367, 'aag': 2792, 'skull': 4836, 'heh': 1368, 'daniel': 2107, 'art': 183}\n"
     ]
    }
   ],
   "source": [
    "print(word2idx)"
   ]
  },
  {
   "cell_type": "markdown",
   "metadata": {
    "deletable": true,
    "editable": true
   },
   "source": [
    "## Text to vector function"
   ]
  },
  {
   "cell_type": "code",
   "execution_count": 9,
   "metadata": {
    "collapsed": false,
    "deletable": true,
    "editable": true
   },
   "outputs": [],
   "source": [
    "def text_to_vector(text):\n",
    "    to_vector = np.zeros((1, len(word2idx)), dtype=np.int)\n",
    "    for word in [word for word in word_tokenize(text) if word not in stopwords_col and word not in punctuations]:\n",
    "        try:\n",
    "            raw = stemmer.stem(word)\n",
    "        except:\n",
    "            raw = word\n",
    "        if raw in word2idx:\n",
    "            to_vector[0][word2idx[raw]] += 1\n",
    "    return to_vector"
   ]
  },
  {
   "cell_type": "markdown",
   "metadata": {
    "deletable": true,
    "editable": true
   },
   "source": [
    "The result should be returned by this function :\n",
    "```\n",
    "text_to_vector('The tea is for a party to celebrate '\n",
    "               'the movie so she has no time for a cake')[:65]\n",
    "                   \n",
    "array([0, 1, 0, 0, 2, 0, 1, 1, 0, 0, 0, 0, 0, 0, 0, 0, 0, 2, 0, 1, 0, 0, 0,\n",
    "       0, 0, 0, 0, 0, 0, 0, 0, 0, 0, 0, 0, 0, 0, 0, 1, 0, 0, 0, 0, 0, 0, 0,\n",
    "       0, 0, 1, 0, 0, 0, 0, 0, 1, 0, 0, 0, 1, 1, 0, 0, 0, 0, 0])\n",
    "```       "
   ]
  },
  {
   "cell_type": "markdown",
   "metadata": {},
   "source": [
    "## Turn all of the sentances to Vectors"
   ]
  },
  {
   "cell_type": "code",
   "execution_count": 11,
   "metadata": {
    "collapsed": false,
    "deletable": true,
    "editable": true
   },
   "outputs": [],
   "source": [
    "word_vectors = np.zeros((len(reviews), len(vocab)), dtype=np.int_)\n",
    "for ii, (_, text) in enumerate(reviews.iterrows()):\n",
    "    word_vectors[ii] = text_to_vector(text[0])"
   ]
  },
  {
   "cell_type": "code",
   "execution_count": 12,
   "metadata": {
    "collapsed": false,
    "deletable": true,
    "editable": true
   },
   "outputs": [
    {
     "data": {
      "text/plain": [
       "array([[0, 0, 0, 1, 1, 0, 1, 0, 0, 0, 0, 0, 0, 0, 0, 0, 0, 1, 0, 0, 0, 0, 0],\n",
       "       [0, 0, 0, 1, 0, 0, 0, 0, 0, 0, 1, 0, 0, 0, 1, 1, 0, 0, 0, 0, 0, 1, 0],\n",
       "       [8, 0, 2, 0, 1, 0, 2, 0, 0, 0, 1, 5, 0, 1, 0, 0, 1, 1, 0, 0, 0, 0, 1],\n",
       "       [8, 0, 6, 4, 4, 0, 2, 0, 0, 0, 1, 4, 0, 1, 1, 0, 0, 0, 1, 0, 1, 0, 2],\n",
       "       [0, 1, 0, 2, 1, 0, 1, 0, 0, 0, 0, 0, 0, 0, 1, 1, 0, 0, 0, 0, 0, 0, 0]])"
      ]
     },
     "execution_count": 12,
     "metadata": {},
     "output_type": "execute_result"
    }
   ],
   "source": [
    "# Printing out the first 5 word vectors\n",
    "word_vectors[:5, :23]"
   ]
  },
  {
   "cell_type": "markdown",
   "metadata": {
    "deletable": true,
    "editable": true
   },
   "source": [
    "## Train, Validation, Test sets\n",
    "\n",
    "Split the data into train, validation, and test sets. Using the function `to_categorical` from TFLearn to reshape the target data so that we'll have two output units and can classify with a softmax activation function. "
   ]
  },
  {
   "cell_type": "code",
   "execution_count": 13,
   "metadata": {
    "collapsed": false,
    "deletable": true,
    "editable": true
   },
   "outputs": [],
   "source": [
    "Y = (labels=='positive').astype(np.int_)\n",
    "records = len(labels)\n",
    "\n",
    "shuffle = np.arange(records)\n",
    "np.random.shuffle(shuffle)\n",
    "test_fraction = 0.9\n",
    "\n",
    "train_split, test_split = shuffle[:int(records*test_fraction)], shuffle[int(records*test_fraction):]\n",
    "trainX, trainY = word_vectors[train_split,:], to_categorical(Y.values[train_split], 2)\n",
    "testX, testY = word_vectors[test_split,:], to_categorical(Y.values[test_split], 2)"
   ]
  },
  {
   "cell_type": "markdown",
   "metadata": {
    "deletable": true,
    "editable": true
   },
   "source": [
    "## The network"
   ]
  },
  {
   "cell_type": "code",
   "execution_count": 15,
   "metadata": {
    "collapsed": false,
    "deletable": true,
    "editable": true
   },
   "outputs": [],
   "source": [
    "# Network building\n",
    "def build_model():\n",
    "    # This resets all parameters and variables, leave this here\n",
    "    tf.reset_default_graph()\n",
    "    \n",
    "    #### Your code ####\n",
    "    net = tflearn.input_data([None, 4858])                          # Input\n",
    "    net = tflearn.fully_connected(net, 5, activation='ReLU')      # Hidden\n",
    "    net = tflearn.fully_connected(net, 2, activation='softmax')   # Output\n",
    "    net = tflearn.regression(net, optimizer='sgd', learning_rate=0.1, loss='categorical_crossentropy')\n",
    "    model = tflearn.DNN(net)\n",
    "    return model"
   ]
  },
  {
   "cell_type": "markdown",
   "metadata": {
    "deletable": true,
    "editable": true
   },
   "source": [
    "## Intializing the model"
   ]
  },
  {
   "cell_type": "code",
   "execution_count": 16,
   "metadata": {
    "collapsed": false,
    "deletable": true,
    "editable": true
   },
   "outputs": [],
   "source": [
    "model = build_model()"
   ]
  },
  {
   "cell_type": "markdown",
   "metadata": {
    "deletable": true,
    "editable": true
   },
   "source": [
    "## Training the network"
   ]
  },
  {
   "cell_type": "code",
   "execution_count": 19,
   "metadata": {
    "collapsed": false,
    "deletable": true,
    "editable": true,
    "scrolled": false
   },
   "outputs": [
    {
     "name": "stdout",
     "output_type": "stream",
     "text": [
      "Training Step: 4769  | total loss: \u001b[1m\u001b[32m0.24228\u001b[0m\u001b[0m | time: 1.896s\n",
      "| SGD | epoch: 030 | loss: 0.24228 - acc: 0.9182 -- iter: 20224/20250\n",
      "Training Step: 4770  | total loss: \u001b[1m\u001b[32m0.22824\u001b[0m\u001b[0m | time: 2.928s\n",
      "| SGD | epoch: 030 | loss: 0.22824 - acc: 0.9233 | val_loss: 0.36523 - val_acc: 0.8760 -- iter: 20250/20250\n",
      "--\n"
     ]
    }
   ],
   "source": [
    "# Training\n",
    "model.fit(trainX, trainY, validation_set=0.1, show_metric=True, batch_size=128, n_epoch=20)"
   ]
  },
  {
   "cell_type": "markdown",
   "metadata": {
    "deletable": true,
    "editable": true
   },
   "source": [
    "## Testing\n",
    "This shows the accuracy of our model."
   ]
  },
  {
   "cell_type": "code",
   "execution_count": 20,
   "metadata": {
    "collapsed": false,
    "deletable": true,
    "editable": true
   },
   "outputs": [
    {
     "name": "stdout",
     "output_type": "stream",
     "text": [
      "Test accuracy:  0.8636\n"
     ]
    }
   ],
   "source": [
    "predictions = (np.array(model.predict(testX))[:,0] >= 0.5).astype(np.int_)\n",
    "test_accuracy = np.mean(predictions == testY[:,0], axis=0)\n",
    "print(\"Test accuracy: \", test_accuracy)"
   ]
  },
  {
   "cell_type": "markdown",
   "metadata": {
    "deletable": true,
    "editable": true
   },
   "source": [
    "## Test it out!"
   ]
  },
  {
   "cell_type": "code",
   "execution_count": 40,
   "metadata": {
    "collapsed": false,
    "deletable": true,
    "editable": true
   },
   "outputs": [],
   "source": [
    "# Helper function that uses your model to predict sentiment\n",
    "def test_sentence(sentence):\n",
    "    positive_prob = model.predict(text_to_vector(sentence))[0][1]\n",
    "    print('Sentence: {}'.format(sentence))\n",
    "    print('P(positive) = {:.3f} :'.format(positive_prob), \n",
    "          'Positive' if positive_prob > 0.5 else 'Negative')"
   ]
  },
  {
   "cell_type": "code",
   "execution_count": 41,
   "metadata": {
    "collapsed": false,
    "deletable": true,
    "editable": true
   },
   "outputs": [
    {
     "name": "stdout",
     "output_type": "stream",
     "text": [
      "Sentence: Moonlight is by far the best movie of 2016.\n",
      "P(positive) = 0.621 : Positive\n",
      "Sentence: It's amazing anyone could be talented enough to make something this spectacularly awful\n",
      "P(positive) = 0.105 : Negative\n"
     ]
    }
   ],
   "source": [
    "sentence = \"Moonlight is by far the best movie of 2016.\"\n",
    "test_sentence(sentence)\n",
    "text_to_vector(sentence)\n",
    "sentence = \"It's amazing anyone could be talented enough to make something this spectacularly awful\"\n",
    "test_sentence(sentence)"
   ]
  },
  {
   "cell_type": "code",
   "execution_count": 43,
   "metadata": {
    "collapsed": false,
    "deletable": true,
    "editable": true
   },
   "outputs": [
    {
     "name": "stdout",
     "output_type": "stream",
     "text": [
      "Sentence: This is just a masterpiece\n",
      "P(positive) = 0.716 : Positive\n"
     ]
    }
   ],
   "source": [
    "test_sentence(\"This is just a masterpiece\")"
   ]
  }
 ],
 "metadata": {
  "anaconda-cloud": {},
  "kernelspec": {
   "display_name": "Python 3",
   "language": "python",
   "name": "python3"
  },
  "language_info": {
   "codemirror_mode": {
    "name": "ipython",
    "version": 3
   },
   "file_extension": ".py",
   "mimetype": "text/x-python",
   "name": "python",
   "nbconvert_exporter": "python",
   "pygments_lexer": "ipython3",
   "version": "3.5.3"
  }
 },
 "nbformat": 4,
 "nbformat_minor": 2
}
